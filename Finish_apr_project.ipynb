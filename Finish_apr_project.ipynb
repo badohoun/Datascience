{
 "cells": [
  {
   "cell_type": "code",
   "execution_count": 2,
   "metadata": {},
   "outputs": [],
   "source": [
    "import pandas as pd \n",
    "import os \n",
    "\n"
   ]
  },
  {
   "cell_type": "code",
   "execution_count": 3,
   "metadata": {},
   "outputs": [
    {
     "data": {
      "text/plain": [
       "'C:\\\\Users\\\\BADOHOUN\\\\Documents\\\\Multimodalité_APR\\\\Untitled Folder'"
      ]
     },
     "execution_count": 3,
     "metadata": {},
     "output_type": "execute_result"
    }
   ],
   "source": [
    "os.getcwd()"
   ]
  },
  {
   "cell_type": "code",
   "execution_count": 4,
   "metadata": {},
   "outputs": [
    {
     "data": {
      "text/html": [
       "<div>\n",
       "<style scoped>\n",
       "    .dataframe tbody tr th:only-of-type {\n",
       "        vertical-align: middle;\n",
       "    }\n",
       "\n",
       "    .dataframe tbody tr th {\n",
       "        vertical-align: top;\n",
       "    }\n",
       "\n",
       "    .dataframe thead th {\n",
       "        text-align: right;\n",
       "    }\n",
       "</style>\n",
       "<table border=\"1\" class=\"dataframe\">\n",
       "  <thead>\n",
       "    <tr style=\"text-align: right;\">\n",
       "      <th></th>\n",
       "      <th>timestamp</th>\n",
       "      <th>speed</th>\n",
       "      <th>accuracy</th>\n",
       "      <th>latitude</th>\n",
       "      <th>longitude</th>\n",
       "    </tr>\n",
       "  </thead>\n",
       "  <tbody>\n",
       "    <tr>\n",
       "      <th>0</th>\n",
       "      <td>1517828318448</td>\n",
       "      <td>0.0</td>\n",
       "      <td>18.065</td>\n",
       "      <td>48.898518</td>\n",
       "      <td>2.377969</td>\n",
       "    </tr>\n",
       "    <tr>\n",
       "      <th>1</th>\n",
       "      <td>1517828323487</td>\n",
       "      <td>0.0</td>\n",
       "      <td>18.065</td>\n",
       "      <td>48.898518</td>\n",
       "      <td>2.377969</td>\n",
       "    </tr>\n",
       "    <tr>\n",
       "      <th>2</th>\n",
       "      <td>1517828328525</td>\n",
       "      <td>0.0</td>\n",
       "      <td>18.065</td>\n",
       "      <td>48.898518</td>\n",
       "      <td>2.377969</td>\n",
       "    </tr>\n",
       "    <tr>\n",
       "      <th>3</th>\n",
       "      <td>1517828333555</td>\n",
       "      <td>0.0</td>\n",
       "      <td>18.065</td>\n",
       "      <td>48.898518</td>\n",
       "      <td>2.377969</td>\n",
       "    </tr>\n",
       "    <tr>\n",
       "      <th>4</th>\n",
       "      <td>1517828338579</td>\n",
       "      <td>0.0</td>\n",
       "      <td>18.065</td>\n",
       "      <td>48.898518</td>\n",
       "      <td>2.377969</td>\n",
       "    </tr>\n",
       "  </tbody>\n",
       "</table>\n",
       "</div>"
      ],
      "text/plain": [
       "       timestamp  speed  accuracy   latitude  longitude\n",
       "0  1517828318448    0.0    18.065  48.898518   2.377969\n",
       "1  1517828323487    0.0    18.065  48.898518   2.377969\n",
       "2  1517828328525    0.0    18.065  48.898518   2.377969\n",
       "3  1517828333555    0.0    18.065  48.898518   2.377969\n",
       "4  1517828338579    0.0    18.065  48.898518   2.377969"
      ]
     },
     "execution_count": 4,
     "metadata": {},
     "output_type": "execute_result"
    }
   ],
   "source": [
    "\n",
    "import numpy as np\n",
    "names = [\"col%i\"%(i) for i in np.arange(8)]\n",
    "Trajet_Speed_lisser_df = pd.read_csv(\"C:\\\\Users\\\\BADOHOUN\\\\Documents\\\\Multimodalité_APR\\\\gabrawdata (2).csv\" , engine = 'python')\n",
    "Trajet_Speed_lisser_df.columns = [\"timestamp\" , \"deviceid\" , \"latitude\" , \"longitude\" , \"altitude\" , \"bearing\" , \"speed\" , \"accuracy\" ]\n",
    "\n",
    "\n",
    "\n",
    "\n",
    "Trajet_Speed_lisser_df = Trajet_Speed_lisser_df[['timestamp' , 'speed' , 'accuracy' , 'latitude','longitude']]\n",
    "\n",
    "\n",
    "Trajet_Speed_lisser_df.head()\n",
    "\n",
    "\n"
   ]
  },
  {
   "cell_type": "code",
   "execution_count": 5,
   "metadata": {},
   "outputs": [
    {
     "data": {
      "text/html": [
       "<div>\n",
       "<style scoped>\n",
       "    .dataframe tbody tr th:only-of-type {\n",
       "        vertical-align: middle;\n",
       "    }\n",
       "\n",
       "    .dataframe tbody tr th {\n",
       "        vertical-align: top;\n",
       "    }\n",
       "\n",
       "    .dataframe thead th {\n",
       "        text-align: right;\n",
       "    }\n",
       "</style>\n",
       "<table border=\"1\" class=\"dataframe\">\n",
       "  <thead>\n",
       "    <tr style=\"text-align: right;\">\n",
       "      <th></th>\n",
       "      <th>Latitude</th>\n",
       "      <th>Longitude</th>\n",
       "      <th>Station</th>\n",
       "      <th>ligne</th>\n",
       "      <th>Departement</th>\n",
       "      <th>Sens</th>\n",
       "    </tr>\n",
       "  </thead>\n",
       "  <tbody>\n",
       "    <tr>\n",
       "      <th>10</th>\n",
       "      <td>48.9458344094</td>\n",
       "      <td>2.34711898511</td>\n",
       "      <td>DELAUNAY-BELLEVILLE</td>\n",
       "      <td>18.0</td>\n",
       "      <td>93</td>\n",
       "      <td>R</td>\n",
       "    </tr>\n",
       "    <tr>\n",
       "      <th>11</th>\n",
       "      <td>48.9495012103</td>\n",
       "      <td>2.33028231892</td>\n",
       "      <td>LES MOBILES</td>\n",
       "      <td>18.0</td>\n",
       "      <td>93</td>\n",
       "      <td>R</td>\n",
       "    </tr>\n",
       "    <tr>\n",
       "      <th>12</th>\n",
       "      <td>48.9561424298</td>\n",
       "      <td>2.34360020611</td>\n",
       "      <td>PABLO NERUDA</td>\n",
       "      <td>18.0</td>\n",
       "      <td>93</td>\n",
       "      <td>A</td>\n",
       "    </tr>\n",
       "    <tr>\n",
       "      <th>13</th>\n",
       "      <td>48.9559330378</td>\n",
       "      <td>2.31109484217</td>\n",
       "      <td>LACEPEDE</td>\n",
       "      <td>18.0</td>\n",
       "      <td>93</td>\n",
       "      <td>R</td>\n",
       "    </tr>\n",
       "    <tr>\n",
       "      <th>14</th>\n",
       "      <td>48.7682932813</td>\n",
       "      <td>2.36780702307</td>\n",
       "      <td>BRETAGNE</td>\n",
       "      <td>17.0</td>\n",
       "      <td>94</td>\n",
       "      <td>R</td>\n",
       "    </tr>\n",
       "  </tbody>\n",
       "</table>\n",
       "</div>"
      ],
      "text/plain": [
       "         Latitude      Longitude              Station  ligne  Departement Sens\n",
       "10  48.9458344094  2.34711898511  DELAUNAY-BELLEVILLE   18.0           93    R\n",
       "11  48.9495012103  2.33028231892          LES MOBILES   18.0           93    R\n",
       "12  48.9561424298  2.34360020611         PABLO NERUDA   18.0           93    A\n",
       "13  48.9559330378  2.31109484217             LACEPEDE   18.0           93    R\n",
       "14  48.7682932813  2.36780702307             BRETAGNE   17.0           94    R"
      ]
     },
     "execution_count": 5,
     "metadata": {},
     "output_type": "execute_result"
    }
   ],
   "source": [
    "bus = pd.read_csv(\"C:\\\\Users\\\\BADOHOUN\\\\Downloads\\\\accessibilite-des-arrets-de-bus-ratp.csv\", sep = \";\" , header = 0 )\n",
    "bus.columns = ['IDPTAR' , 'Nom Arrêt' , 'INSEE' , 'Departement' , \n",
    "               'X',  'Y' ,  'AccessUFR' , 'SonorePP', \n",
    "               'VisuellePP' ,'SonoreSP' , \n",
    "               'Visuelle SP' , 'Code Stif' , 'coord',\n",
    "               'ID AMIVIF',  'PAQT',  'Téléphone' , 'Dateaccessibilité', \n",
    "               'QuaiTrain' , 'Sens' , 'Ligne']\n",
    "\n",
    "station_bus_df = bus = bus[['Nom Arrêt' , 'Departement' , 'X' , 'Y',  'coord' ,'Sens' , 'Ligne' ]]\n",
    "\n",
    "\n",
    "station_bus_df = station_bus_df.iloc[10:200,]\n",
    "\n",
    "\n",
    "station_bus_df.shape\n",
    "\n",
    "\n",
    "station_bus_df.head()\n",
    "\n",
    "\n",
    "## détection de multimodalité avec jupyter , l'objectif est de reconnaitre avec précision les \n",
    "\n",
    "\n",
    "Position_bus1 = station_bus_df.iloc[:,4]\n",
    "Position_bus2 = station_bus_df.iloc[:,0]\n",
    "\n",
    "station_bus_df1 = pd.concat([Position_bus1 , Position_bus2] , axis = 1)\n",
    "\n",
    "\n",
    "station_bus_df1.columns = [\"LatitudeLongitude\" , \"Station\"]\n",
    "\n",
    "station_bus_df1.head()\n",
    "bus_stop =  pd.DataFrame(station_bus_df1.LatitudeLongitude.str.split(' ',1).tolist(), \n",
    "                       columns = ['Latitude','Longitude'], index = station_bus_df.index)\n",
    "bus_stop['Latitude'] = [x.replace(\",\" , \"\") for x in bus_stop['Latitude']]\n",
    "\n",
    "bus_stop['Station'] = station_bus_df1.Station\n",
    "bus_stop['ligne'] = station_bus_df['Ligne']\n",
    "\n",
    "bus_stop['Departement'] = station_bus_df['Departement']\n",
    "bus_stop['Sens'] = station_bus_df['Sens']\n",
    "bus_stop.head()\n",
    "\n",
    "\n"
   ]
  },
  {
   "cell_type": "code",
   "execution_count": 6,
   "metadata": {},
   "outputs": [],
   "source": [
    "#formula to calculate distance among two gps points\n",
    "def haversine(coord1,coord2):\n",
    "    import math\n",
    "    sin = math.sin\n",
    "    cos = math.cos\n",
    "    atan2 = math.atan2\n",
    "    sqrt = math.sqrt\n",
    "    \n",
    "    lon1,lat1=coord1\n",
    "    lon2,lat2=coord2\n",
    "    R=6371000 #metres\n",
    "    phi1=lat1 * (3.1415 / 180)\n",
    "    phi2=lat2 * (3.1415 / 180)\n",
    "    Dphi= phi2 - phi1\n",
    "    Dlambda = (lon2 -lon1) *  (3.1415 / 180)\n",
    "\n",
    "    a = sin(Dphi / 2) ** 2 + cos(phi1)*cos(phi2) *sin(Dlambda/2)**2\n",
    "    c = 2 * atan2(sqrt(a),sqrt(1-a))\n",
    "    d = R*c\n",
    "    return d"
   ]
  },
  {
   "cell_type": "code",
   "execution_count": 7,
   "metadata": {},
   "outputs": [],
   "source": [
    "station_bus_coord = {}\n",
    "\n",
    "for data in bus_stop.iterrows():\n",
    "    ligne = data[1]\n",
    "    if ligne['Station'] not in  bus_stop['Station'].values :\n",
    "        continue \n",
    "    else :\n",
    "        station_bus_coord[ligne['Station']] = (float(ligne['Latitude']) ,float(ligne['Longitude']))\n",
    "        \n",
    "        \n",
    "    \n"
   ]
  },
  {
   "cell_type": "markdown",
   "metadata": {},
   "source": [
    "## Comme la terre n’est pas parfaitement sphérique, \n",
    "## la formule de Vincenty pour les ellipsoïdes est probablement la meilleure façon de calculer les distances. \n",
    "## Ainsi, dans le package Vincenty , on utilise  alors : distm(p1, p2) \n",
    "## ou p1 et p2 réprésente les coordonnées gps "
   ]
  },
  {
   "cell_type": "code",
   "execution_count": 8,
   "metadata": {},
   "outputs": [],
   "source": [
    "from vincenty import vincenty\n",
    "\n",
    "\n",
    "def trajet_proche(emplacement, emplacement_dict):\n",
    "    \"\"\" on prend un tuple de latitude et de longitude et on le compare à un dictionnaire de lieux où clé = nom de station et valeur = (lat, long) \n",
    "    renvoie un tuple de (lieu le plus proche, distance) \"\"\"\n",
    "    trajet_proche = None\n",
    "    for station_bus  in emplacement_dict.keys():\n",
    "        dist = vincenty(emplacement, emplacement_dict[station_bus])\n",
    "        if  trajet_proche is None:\n",
    "            trajet_proche = (station_bus, dist)\n",
    "        elif dist < trajet_proche[1]:\n",
    "            trajet_proche = (station_bus, dist)\n",
    "    return trajet_proche"
   ]
  },
  {
   "cell_type": "code",
   "execution_count": 9,
   "metadata": {},
   "outputs": [
    {
     "data": {
      "text/html": [
       "<div>\n",
       "<style scoped>\n",
       "    .dataframe tbody tr th:only-of-type {\n",
       "        vertical-align: middle;\n",
       "    }\n",
       "\n",
       "    .dataframe tbody tr th {\n",
       "        vertical-align: top;\n",
       "    }\n",
       "\n",
       "    .dataframe thead th {\n",
       "        text-align: right;\n",
       "    }\n",
       "</style>\n",
       "<table border=\"1\" class=\"dataframe\">\n",
       "  <thead>\n",
       "    <tr style=\"text-align: right;\">\n",
       "      <th></th>\n",
       "      <th>timestamp</th>\n",
       "      <th>speed</th>\n",
       "      <th>accuracy</th>\n",
       "      <th>latitude</th>\n",
       "      <th>longitude</th>\n",
       "      <th>trajet_proche</th>\n",
       "    </tr>\n",
       "  </thead>\n",
       "  <tbody>\n",
       "    <tr>\n",
       "      <th>0</th>\n",
       "      <td>1517828318448</td>\n",
       "      <td>0.0</td>\n",
       "      <td>18.065</td>\n",
       "      <td>48.898518</td>\n",
       "      <td>2.377969</td>\n",
       "      <td>(ROSA PARKS, 0.416844)</td>\n",
       "    </tr>\n",
       "    <tr>\n",
       "      <th>1</th>\n",
       "      <td>1517828323487</td>\n",
       "      <td>0.0</td>\n",
       "      <td>18.065</td>\n",
       "      <td>48.898518</td>\n",
       "      <td>2.377969</td>\n",
       "      <td>(ROSA PARKS, 0.416844)</td>\n",
       "    </tr>\n",
       "    <tr>\n",
       "      <th>2</th>\n",
       "      <td>1517828328525</td>\n",
       "      <td>0.0</td>\n",
       "      <td>18.065</td>\n",
       "      <td>48.898518</td>\n",
       "      <td>2.377969</td>\n",
       "      <td>(ROSA PARKS, 0.416844)</td>\n",
       "    </tr>\n",
       "    <tr>\n",
       "      <th>3</th>\n",
       "      <td>1517828333555</td>\n",
       "      <td>0.0</td>\n",
       "      <td>18.065</td>\n",
       "      <td>48.898518</td>\n",
       "      <td>2.377969</td>\n",
       "      <td>(ROSA PARKS, 0.416844)</td>\n",
       "    </tr>\n",
       "    <tr>\n",
       "      <th>4</th>\n",
       "      <td>1517828338579</td>\n",
       "      <td>0.0</td>\n",
       "      <td>18.065</td>\n",
       "      <td>48.898518</td>\n",
       "      <td>2.377969</td>\n",
       "      <td>(ROSA PARKS, 0.416844)</td>\n",
       "    </tr>\n",
       "  </tbody>\n",
       "</table>\n",
       "</div>"
      ],
      "text/plain": [
       "       timestamp  speed  accuracy   latitude  longitude  \\\n",
       "0  1517828318448    0.0    18.065  48.898518   2.377969   \n",
       "1  1517828323487    0.0    18.065  48.898518   2.377969   \n",
       "2  1517828328525    0.0    18.065  48.898518   2.377969   \n",
       "3  1517828333555    0.0    18.065  48.898518   2.377969   \n",
       "4  1517828338579    0.0    18.065  48.898518   2.377969   \n",
       "\n",
       "            trajet_proche  \n",
       "0  (ROSA PARKS, 0.416844)  \n",
       "1  (ROSA PARKS, 0.416844)  \n",
       "2  (ROSA PARKS, 0.416844)  \n",
       "3  (ROSA PARKS, 0.416844)  \n",
       "4  (ROSA PARKS, 0.416844)  "
      ]
     },
     "execution_count": 9,
     "metadata": {},
     "output_type": "execute_result"
    }
   ],
   "source": [
    "Trajet_Speed_lisser_df['trajet_proche']= Trajet_Speed_lisser_df.apply(lambda x : trajet_proche((x['latitude'], x['longitude']), station_bus_coord),axis = 1) \n",
    "Trajet_Speed_lisser_df.head()\n",
    "\n",
    "\n",
    "\n",
    "\n"
   ]
  },
  {
   "cell_type": "code",
   "execution_count": 10,
   "metadata": {},
   "outputs": [
    {
     "data": {
      "text/html": [
       "<div>\n",
       "<style scoped>\n",
       "    .dataframe tbody tr th:only-of-type {\n",
       "        vertical-align: middle;\n",
       "    }\n",
       "\n",
       "    .dataframe tbody tr th {\n",
       "        vertical-align: top;\n",
       "    }\n",
       "\n",
       "    .dataframe thead th {\n",
       "        text-align: right;\n",
       "    }\n",
       "</style>\n",
       "<table border=\"1\" class=\"dataframe\">\n",
       "  <thead>\n",
       "    <tr style=\"text-align: right;\">\n",
       "      <th></th>\n",
       "      <th>timestamp</th>\n",
       "      <th>speed</th>\n",
       "      <th>accuracy</th>\n",
       "      <th>latitude</th>\n",
       "      <th>longitude</th>\n",
       "      <th>trajet_proche</th>\n",
       "    </tr>\n",
       "  </thead>\n",
       "  <tbody>\n",
       "    <tr>\n",
       "      <th>148169</th>\n",
       "      <td>1554191264933</td>\n",
       "      <td>4.345855</td>\n",
       "      <td>13.391</td>\n",
       "      <td>48.896233</td>\n",
       "      <td>2.373881</td>\n",
       "      <td>(ROSA PARKS, 0.17538)</td>\n",
       "    </tr>\n",
       "    <tr>\n",
       "      <th>148170</th>\n",
       "      <td>1554191265938</td>\n",
       "      <td>2.041442</td>\n",
       "      <td>12.087</td>\n",
       "      <td>48.896248</td>\n",
       "      <td>2.373865</td>\n",
       "      <td>(ROSA PARKS, 0.173329)</td>\n",
       "    </tr>\n",
       "    <tr>\n",
       "      <th>148171</th>\n",
       "      <td>1554191266946</td>\n",
       "      <td>3.125705</td>\n",
       "      <td>10.789</td>\n",
       "      <td>48.896275</td>\n",
       "      <td>2.373851</td>\n",
       "      <td>(ROSA PARKS, 0.170303)</td>\n",
       "    </tr>\n",
       "    <tr>\n",
       "      <th>148172</th>\n",
       "      <td>1554191267945</td>\n",
       "      <td>0.932715</td>\n",
       "      <td>10.288</td>\n",
       "      <td>48.896282</td>\n",
       "      <td>2.373846</td>\n",
       "      <td>(ROSA PARKS, 0.169396)</td>\n",
       "    </tr>\n",
       "    <tr>\n",
       "      <th>148173</th>\n",
       "      <td>1554191268945</td>\n",
       "      <td>1.427828</td>\n",
       "      <td>10.044</td>\n",
       "      <td>48.896294</td>\n",
       "      <td>2.373837</td>\n",
       "      <td>(ROSA PARKS, 0.16799)</td>\n",
       "    </tr>\n",
       "  </tbody>\n",
       "</table>\n",
       "</div>"
      ],
      "text/plain": [
       "            timestamp     speed  accuracy   latitude  longitude  \\\n",
       "148169  1554191264933  4.345855    13.391  48.896233   2.373881   \n",
       "148170  1554191265938  2.041442    12.087  48.896248   2.373865   \n",
       "148171  1554191266946  3.125705    10.789  48.896275   2.373851   \n",
       "148172  1554191267945  0.932715    10.288  48.896282   2.373846   \n",
       "148173  1554191268945  1.427828    10.044  48.896294   2.373837   \n",
       "\n",
       "                 trajet_proche  \n",
       "148169   (ROSA PARKS, 0.17538)  \n",
       "148170  (ROSA PARKS, 0.173329)  \n",
       "148171  (ROSA PARKS, 0.170303)  \n",
       "148172  (ROSA PARKS, 0.169396)  \n",
       "148173   (ROSA PARKS, 0.16799)  "
      ]
     },
     "execution_count": 10,
     "metadata": {},
     "output_type": "execute_result"
    }
   ],
   "source": [
    "Trajet_Speed_lisser_df = Trajet_Speed_lisser_df.drop_duplicates()\n",
    "Trajet_Speed_lisser_df.tail(5)"
   ]
  },
  {
   "cell_type": "code",
   "execution_count": 11,
   "metadata": {},
   "outputs": [
    {
     "data": {
      "text/html": [
       "<div>\n",
       "<style scoped>\n",
       "    .dataframe tbody tr th:only-of-type {\n",
       "        vertical-align: middle;\n",
       "    }\n",
       "\n",
       "    .dataframe tbody tr th {\n",
       "        vertical-align: top;\n",
       "    }\n",
       "\n",
       "    .dataframe thead th {\n",
       "        text-align: right;\n",
       "    }\n",
       "</style>\n",
       "<table border=\"1\" class=\"dataframe\">\n",
       "  <thead>\n",
       "    <tr style=\"text-align: right;\">\n",
       "      <th></th>\n",
       "      <th>timestamp</th>\n",
       "      <th>speed</th>\n",
       "      <th>accuracy</th>\n",
       "      <th>latitude</th>\n",
       "      <th>longitude</th>\n",
       "      <th>trajet_proche</th>\n",
       "      <th>Arret</th>\n",
       "      <th>distance_arret</th>\n",
       "    </tr>\n",
       "  </thead>\n",
       "  <tbody>\n",
       "    <tr>\n",
       "      <th>0</th>\n",
       "      <td>1517828318448</td>\n",
       "      <td>0.0</td>\n",
       "      <td>18.065</td>\n",
       "      <td>48.898518</td>\n",
       "      <td>2.377969</td>\n",
       "      <td>(ROSA PARKS, 0.416844)</td>\n",
       "      <td>ROSA PARKS</td>\n",
       "      <td>0.416844</td>\n",
       "    </tr>\n",
       "    <tr>\n",
       "      <th>1</th>\n",
       "      <td>1517828323487</td>\n",
       "      <td>0.0</td>\n",
       "      <td>18.065</td>\n",
       "      <td>48.898518</td>\n",
       "      <td>2.377969</td>\n",
       "      <td>(ROSA PARKS, 0.416844)</td>\n",
       "      <td>ROSA PARKS</td>\n",
       "      <td>0.416844</td>\n",
       "    </tr>\n",
       "    <tr>\n",
       "      <th>2</th>\n",
       "      <td>1517828328525</td>\n",
       "      <td>0.0</td>\n",
       "      <td>18.065</td>\n",
       "      <td>48.898518</td>\n",
       "      <td>2.377969</td>\n",
       "      <td>(ROSA PARKS, 0.416844)</td>\n",
       "      <td>ROSA PARKS</td>\n",
       "      <td>0.416844</td>\n",
       "    </tr>\n",
       "    <tr>\n",
       "      <th>3</th>\n",
       "      <td>1517828333555</td>\n",
       "      <td>0.0</td>\n",
       "      <td>18.065</td>\n",
       "      <td>48.898518</td>\n",
       "      <td>2.377969</td>\n",
       "      <td>(ROSA PARKS, 0.416844)</td>\n",
       "      <td>ROSA PARKS</td>\n",
       "      <td>0.416844</td>\n",
       "    </tr>\n",
       "    <tr>\n",
       "      <th>4</th>\n",
       "      <td>1517828338579</td>\n",
       "      <td>0.0</td>\n",
       "      <td>18.065</td>\n",
       "      <td>48.898518</td>\n",
       "      <td>2.377969</td>\n",
       "      <td>(ROSA PARKS, 0.416844)</td>\n",
       "      <td>ROSA PARKS</td>\n",
       "      <td>0.416844</td>\n",
       "    </tr>\n",
       "  </tbody>\n",
       "</table>\n",
       "</div>"
      ],
      "text/plain": [
       "       timestamp  speed  accuracy   latitude  longitude  \\\n",
       "0  1517828318448    0.0    18.065  48.898518   2.377969   \n",
       "1  1517828323487    0.0    18.065  48.898518   2.377969   \n",
       "2  1517828328525    0.0    18.065  48.898518   2.377969   \n",
       "3  1517828333555    0.0    18.065  48.898518   2.377969   \n",
       "4  1517828338579    0.0    18.065  48.898518   2.377969   \n",
       "\n",
       "            trajet_proche       Arret  distance_arret  \n",
       "0  (ROSA PARKS, 0.416844)  ROSA PARKS        0.416844  \n",
       "1  (ROSA PARKS, 0.416844)  ROSA PARKS        0.416844  \n",
       "2  (ROSA PARKS, 0.416844)  ROSA PARKS        0.416844  \n",
       "3  (ROSA PARKS, 0.416844)  ROSA PARKS        0.416844  \n",
       "4  (ROSA PARKS, 0.416844)  ROSA PARKS        0.416844  "
      ]
     },
     "execution_count": 11,
     "metadata": {},
     "output_type": "execute_result"
    }
   ],
   "source": [
    "Trajet_Speed_lisser_df['Arret'] = [t[0] for t in Trajet_Speed_lisser_df.trajet_proche]\n",
    "\n",
    "Trajet_Speed_lisser_df['distance_arret'] = [t[1] for t in Trajet_Speed_lisser_df.trajet_proche]\n",
    "Trajet_Speed_lisser_df['distance_arret'] = [t[1] for t in Trajet_Speed_lisser_df.trajet_proche]\n",
    "\n",
    "Trajet_Speed_lisser_df.head()"
   ]
  },
  {
   "cell_type": "code",
   "execution_count": null,
   "metadata": {},
   "outputs": [],
   "source": [
    "def speeds(polyline):\n",
    "    N=len(polyline)\n",
    "    v = [0.]*N\n",
    "    #lon =[]*N\n",
    "    #Lat =[]*N\n",
    "    if N == 0:\n",
    "        return []\n",
    "    \n",
    "    for i in range(N - 1):\n",
    "        v[i] = haversine(polyline[i],polyline[i+1]) / 15.\n",
    "        #lon[i] = polyline[i]\n",
    "        #lat[i] = polyline[i+1]\n",
    "    \n",
    "    v[N-1]  = haversine(polyline[N-1],polyline[N-2]) / 15.\n",
    "    \n",
    "    return v\n",
    "    #return v,lon,lat\n"
   ]
  },
  {
   "cell_type": "code",
   "execution_count": 33,
   "metadata": {},
   "outputs": [
    {
     "name": "stderr",
     "output_type": "stream",
     "text": [
      "C:\\Users\\BADOHOUN\\Anaconda3\\lib\\site-packages\\sklearn\\model_selection\\_split.py:2069: FutureWarning: From version 0.21, test_size will always complement train_size unless both are specified.\n",
      "  FutureWarning)\n"
     ]
    }
   ],
   "source": [
    "from sklearn.model_selection import train_test_split\n",
    "xtrain, xtest, ytrain, ytest = train_test_split(x, y, train_size=0.8)"
   ]
  },
  {
   "cell_type": "code",
   "execution_count": 62,
   "metadata": {},
   "outputs": [
    {
     "name": "stderr",
     "output_type": "stream",
     "text": [
      "C:\\Users\\BADOHOUN\\Anaconda3\\lib\\site-packages\\ipykernel_launcher.py:4: DataConversionWarning: Data with input dtype int64, float64 were all converted to float64 by the scale function.\n",
      "  after removing the cwd from sys.path.\n"
     ]
    },
    {
     "data": {
      "text/plain": [
       "DBSCAN(algorithm='auto', eps=0.6, leaf_size=30, metric='euclidean',\n",
       "    metric_params=None, min_samples=3, n_jobs=None, p=None)"
      ]
     },
     "execution_count": 62,
     "metadata": {},
     "output_type": "execute_result"
    }
   ],
   "source": [
    "from sklearn.cluster import DBSCAN\n",
    "\n",
    "db1 = DBSCAN(eps = .6, min_samples = 3)\n",
    "db1.fit(scale(test_df[test_df.columns[:5]]))\n",
    "\n"
   ]
  },
  {
   "cell_type": "code",
   "execution_count": 63,
   "metadata": {},
   "outputs": [
    {
     "data": {
      "text/plain": [
       "array([ 0,  0,  0,  0,  0,  0,  0,  0,  0,  0,  0,  0,  0,  0,  0,  0,  0,\n",
       "        0,  0,  0,  0,  0,  0,  0,  0,  0,  0,  0,  0,  0,  0,  0,  0,  0,\n",
       "        0,  0,  0,  0,  0,  0,  0,  0,  0,  0,  0,  0,  0,  0,  0,  0,  0,\n",
       "        0,  0,  0,  0,  0,  0,  0, -1, -1,  0,  0,  0,  0,  0,  0,  0,  0,\n",
       "        0,  0,  0,  0,  0,  0,  0,  0,  0,  0,  0,  0,  0,  0,  0,  0,  0,\n",
       "        0,  0,  0,  0,  0,  1,  1,  1,  1,  1,  1,  1,  1,  1, -1,  1,  1,\n",
       "        1,  1,  1,  1,  1,  1,  1,  1,  1,  1,  1,  1,  1,  1,  1,  1,  1,\n",
       "        1,  1,  1,  1,  1,  1,  1,  1,  1,  1,  1,  1,  1,  1,  1,  1,  1,\n",
       "        1,  1,  1,  1,  1,  1,  1,  1,  1,  1,  1,  1,  1,  1,  1,  1,  1,\n",
       "        1,  1,  1,  1,  1,  1,  1,  1,  1,  1,  1,  1,  1,  1,  1,  1,  1,\n",
       "        1,  1,  1,  1,  1,  1,  1,  1,  1,  1,  1,  1,  1,  1,  1,  1,  1,\n",
       "        1,  1,  1,  1,  1,  1,  1,  1,  1,  1,  1,  1,  1,  1,  1,  1,  1,\n",
       "        1,  1,  1,  1,  1,  1,  1,  1,  1,  1,  1,  1,  1,  1,  1, -1,  1,\n",
       "       -1,  0,  0,  0,  0,  0,  0,  0,  0,  0,  0,  0,  0,  0,  0,  0,  0,\n",
       "        0,  0,  0,  0,  0,  0,  0,  0,  0,  0,  0,  0,  0,  0,  0,  0,  0,\n",
       "        0,  0,  0,  0, -1,  1,  1,  1,  1,  1,  1,  1,  1,  1,  1,  1,  1,\n",
       "        1,  1,  1,  1,  1,  1,  1,  1,  1,  1,  1,  1,  1,  1,  1,  1,  1,\n",
       "        1,  1,  1,  1,  1,  1,  1,  1,  1,  1,  1,  1,  1,  1,  1,  1,  1,\n",
       "        1,  1,  1,  1,  1,  1,  1,  1,  1,  1,  1,  1,  1,  1,  1,  1,  1,\n",
       "        1,  1,  1,  1,  1,  1,  1,  1,  1,  1,  1,  1,  1,  1,  1,  1,  1,\n",
       "        1,  1,  1,  1,  1,  1,  1,  1,  1,  1,  1,  1,  1,  1,  1,  1,  1,\n",
       "        1,  1,  1,  1,  1,  1,  1,  1,  1,  1,  1,  1,  1,  1,  1,  1,  1,\n",
       "        1,  1,  1,  1,  1,  1,  1,  1,  1,  1,  1,  1,  1,  1,  1,  1,  1,\n",
       "        1,  1,  1,  1,  1,  1,  1,  1,  1,  1,  1,  1,  1,  1,  1,  1,  1,\n",
       "        1,  1,  1,  1,  1,  1,  1,  1,  1,  1,  1,  1,  1,  1,  1,  1,  1,\n",
       "        1,  1,  1,  0,  0,  0,  0,  0,  0,  0,  0,  0,  0,  0,  0,  0,  0,\n",
       "        0,  0,  0,  0,  0,  0,  0,  0,  0,  0,  0,  0,  0,  0,  0,  0,  0,\n",
       "        0,  0,  0,  0,  0,  0,  0,  0,  0,  0,  0,  0,  0,  0,  0,  0,  0,\n",
       "        0,  0,  0,  0,  0,  0,  0,  0,  0,  0,  0,  0,  0,  0,  0,  0,  0,\n",
       "        0,  0,  0,  0,  0,  0,  0,  0,  0,  0,  0,  0,  0,  0,  0,  0,  0,\n",
       "        0,  0,  0,  0,  0,  0,  0,  0,  0,  0,  0,  0,  0,  0,  0,  0,  0,\n",
       "        0,  0,  0,  0,  0,  0,  0,  0,  0,  0,  0,  0,  0,  0,  0,  0,  0,\n",
       "        0,  0,  0,  0,  0,  0,  0,  0,  0,  0,  0,  0,  0,  0,  0,  0,  0,\n",
       "        0,  0,  0,  0,  0,  0,  0,  0,  0,  0,  0,  0,  0,  0,  0,  0,  0,\n",
       "        0,  0,  0,  0,  0,  0,  0,  0,  0,  0,  0,  0,  0,  0,  0,  0,  0,\n",
       "        0,  0,  0,  0,  0,  0,  0,  0,  0,  0,  0,  0,  0,  0,  0,  0,  0,\n",
       "        0,  0,  0,  0,  0,  0,  0,  0,  0,  0,  0,  0,  0,  0,  0,  0,  0,\n",
       "        0,  0,  0,  0,  0,  0,  0,  0,  0,  0,  0,  0,  0,  0,  0,  0,  0,\n",
       "        0,  0,  0], dtype=int64)"
      ]
     },
     "execution_count": 63,
     "metadata": {},
     "output_type": "execute_result"
    }
   ],
   "source": [
    "db1.labels_"
   ]
  },
  {
   "cell_type": "code",
   "execution_count": 64,
   "metadata": {},
   "outputs": [
    {
     "data": {
      "text/html": [
       "<div>\n",
       "<style scoped>\n",
       "    .dataframe tbody tr th:only-of-type {\n",
       "        vertical-align: middle;\n",
       "    }\n",
       "\n",
       "    .dataframe tbody tr th {\n",
       "        vertical-align: top;\n",
       "    }\n",
       "\n",
       "    .dataframe thead th {\n",
       "        text-align: right;\n",
       "    }\n",
       "</style>\n",
       "<table border=\"1\" class=\"dataframe\">\n",
       "  <thead>\n",
       "    <tr style=\"text-align: right;\">\n",
       "      <th></th>\n",
       "      <th>Classe</th>\n",
       "      <th>Effectif</th>\n",
       "      <th>Pourcentage</th>\n",
       "    </tr>\n",
       "  </thead>\n",
       "  <tbody>\n",
       "    <tr>\n",
       "      <th>0</th>\n",
       "      <td>-1</td>\n",
       "      <td>6</td>\n",
       "      <td>0.9%</td>\n",
       "    </tr>\n",
       "    <tr>\n",
       "      <th>1</th>\n",
       "      <td>0</td>\n",
       "      <td>346</td>\n",
       "      <td>53.3%</td>\n",
       "    </tr>\n",
       "    <tr>\n",
       "      <th>2</th>\n",
       "      <td>1</td>\n",
       "      <td>297</td>\n",
       "      <td>45.8%</td>\n",
       "    </tr>\n",
       "  </tbody>\n",
       "</table>\n",
       "</div>"
      ],
      "text/plain": [
       "   Classe  Effectif Pourcentage\n",
       "0      -1         6        0.9%\n",
       "1       0       346       53.3%\n",
       "2       1       297       45.8%"
      ]
     },
     "execution_count": 64,
     "metadata": {},
     "output_type": "execute_result"
    }
   ],
   "source": [
    "eff = numpy.unique(db1.labels_, return_counts = True)\n",
    "pandas.DataFrame({\n",
    "    \"Classe\" : eff[0],\n",
    "    \"Effectif\" : eff[1],\n",
    "     \"Pourcentage\" : [str(numpy.round(e / numpy.sum(eff[1]) * 100, 1)) + \"%\" for e in eff[1]]\n",
    "})"
   ]
  },
  {
   "cell_type": "code",
   "execution_count": 65,
   "metadata": {},
   "outputs": [],
   "source": [
    "test_df_pca_db1 = test_df_pca_df.assign(Labels = db1.labels_)"
   ]
  },
  {
   "cell_type": "code",
   "execution_count": 66,
   "metadata": {},
   "outputs": [
    {
     "data": {
      "text/plain": [
       "<seaborn.axisgrid.FacetGrid at 0x1b8d6dcf358>"
      ]
     },
     "execution_count": 66,
     "metadata": {},
     "output_type": "execute_result"
    },
    {
     "data": {
      "image/png": "[encoded data removed]",
      "text/plain": [
       "<Figure size 4725x360 with 13 Axes>"
      ]
     },
     "metadata": {
      "needs_background": "light"
     },
     "output_type": "display_data"
    }
   ],
   "source": [
    "seaborn.lmplot(\"Dim1\", \"Dim2\", hue = \"Labels\", col = \"Arret\", data = test_df_pca_db1 , fit_reg = False)"
   ]
  },
  {
   "cell_type": "code",
   "execution_count": 67,
   "metadata": {},
   "outputs": [],
   "source": [
    "X = test_df_pca_db1.iloc[:,0:3]\n",
    "\n",
    "y = test_df_pca_db1.Arret"
   ]
  },
  {
   "cell_type": "code",
   "execution_count": 68,
   "metadata": {},
   "outputs": [],
   "source": [
    "from sklearn.model_selection import train_test_split\n",
    "\n",
    "\n",
    "X_train,X_test,y_train,y_test = train_test_split(X,y)"
   ]
  },
  {
   "cell_type": "code",
   "execution_count": null,
   "metadata": {},
   "outputs": [],
   "source": [
    "from sklearn import neighbors \n",
    "\n",
    "knn = neighbors.KNeighborsClassifier(n_neighbors=5)\n",
    "\n",
    "knn.fit(X_train , y_train)"
   ]
  },
  {
   "cell_type": "code",
   "execution_count": 69,
   "metadata": {},
   "outputs": [
    {
     "data": {
      "text/plain": [
       "KNeighborsClassifier(algorithm='auto', leaf_size=30, metric='minkowski',\n",
       "           metric_params=None, n_jobs=None, n_neighbors=5, p=2,\n",
       "           weights='uniform')"
      ]
     },
     "execution_count": 69,
     "metadata": {},
     "output_type": "execute_result"
    }
   ],
   "source": [
    "from sklearn import neighbors \n",
    "\n",
    "knn = neighbors.KNeighborsClassifier(n_neighbors=5)\n",
    "\n",
    "knn.fit(X_train , y_train)"
   ]
  },
  {
   "cell_type": "code",
   "execution_count": 70,
   "metadata": {},
   "outputs": [],
   "source": [
    "y_pred = knn.predict_proba(X_test)\n"
   ]
  },
  {
   "cell_type": "code",
   "execution_count": 71,
   "metadata": {},
   "outputs": [
    {
     "data": {
      "text/plain": [
       "0.44171779141104295"
      ]
     },
     "execution_count": 71,
     "metadata": {},
     "output_type": "execute_result"
    }
   ],
   "source": [
    "knn.score(X_test,y_test)"
   ]
  },
  {
   "cell_type": "code",
   "execution_count": 72,
   "metadata": {},
   "outputs": [
    {
     "data": {
      "text/plain": [
       "array(['ROSA PARKS', 'ROSA PARKS', 'ROSA PARKS', 'RAYMOND JACLARD',\n",
       "       'CANAL SAINT DENIS', 'MAISONS-ALFORT - ALFORTVILLE RER',\n",
       "       'ROSA PARKS', 'ROSA PARKS', 'MAISONS-ALFORT - ALFORTVILLE RER',\n",
       "       'CANAL SAINT DENIS', 'SALVADOR ALLENDE', 'CANAL SAINT DENIS',\n",
       "       'ROSA PARKS', \"CIMETIERE D'ALFORTVILLE\", 'CANAL SAINT DENIS',\n",
       "       'ROSA PARKS', 'SALVADOR ALLENDE', 'SALVADOR ALLENDE', 'COKERIE',\n",
       "       'CANAL SAINT DENIS', 'PLACE DU PETIT PONT',\n",
       "       \"CIMETIERE D'ALFORTVILLE\", 'ROSA PARKS', 'CANAL SAINT DENIS',\n",
       "       'ROSA PARKS', 'CANAL SAINT DENIS', 'SALVADOR ALLENDE',\n",
       "       'ROSA PARKS', 'FLORE', 'SALVADOR ALLENDE', 'CANAL SAINT DENIS',\n",
       "       'ROSA PARKS', 'ROSA PARKS', 'ROSA PARKS', 'ROSA PARKS',\n",
       "       'ROSA PARKS', 'ROSA PARKS', 'SALVADOR ALLENDE',\n",
       "       'CANAL SAINT DENIS', 'ROSA PARKS', \"CIMETIERE D'ALFORTVILLE\",\n",
       "       'SALVADOR ALLENDE', 'ROSA PARKS', 'ROSA PARKS', 'FLORE',\n",
       "       'ROSA PARKS', 'CANAL SAINT DENIS', 'ROSA PARKS',\n",
       "       'MAISONS-ALFORT - ALFORTVILLE RER', 'ROSA PARKS', 'ROSA PARKS',\n",
       "       'MAISONS-ALFORT - ALFORTVILLE RER', 'CANAL SAINT DENIS',\n",
       "       'ROSA PARKS', 'SALVADOR ALLENDE', 'PLACE DU PETIT PONT',\n",
       "       'ROSA PARKS', 'ROSA PARKS', 'MAISONS-ALFORT - ALFORTVILLE RER',\n",
       "       'ROSA PARKS', 'ROSA PARKS', 'CANAL SAINT DENIS', 'ROSA PARKS',\n",
       "       'ROSA PARKS', 'ROSA PARKS', 'ROSA PARKS', 'ROSA PARKS',\n",
       "       'ROSA PARKS', 'SALVADOR ALLENDE', 'RAYMOND JACLARD',\n",
       "       'MAISONS-ALFORT - ALFORTVILLE RER', 'ROSA PARKS',\n",
       "       'PLACE DU PETIT PONT', 'RAYMOND JACLARD', 'RAYMOND JACLARD',\n",
       "       'CANAL SAINT DENIS', 'FLORE', 'ROSA PARKS', 'ROSA PARKS',\n",
       "       'RAYMOND JACLARD', 'SALVADOR ALLENDE', 'ROSA PARKS', 'ROSA PARKS',\n",
       "       'CANAL SAINT DENIS', 'ROSA PARKS', 'ROSA PARKS',\n",
       "       'PLACE DU PETIT PONT', 'CANAL SAINT DENIS',\n",
       "       \"CIMETIERE D'ALFORTVILLE\", 'ROSA PARKS', 'RAYMOND JACLARD',\n",
       "       'MAISONS-ALFORT - ALFORTVILLE RER', 'CANAL SAINT DENIS',\n",
       "       'SALVADOR ALLENDE', 'ROSA PARKS',\n",
       "       'MAISONS-ALFORT - ALFORTVILLE RER', 'ROSA PARKS', 'ROSA PARKS',\n",
       "       'ROSA PARKS', \"CIMETIERE D'ALFORTVILLE\", 'SALVADOR ALLENDE',\n",
       "       'MAISONS-ALFORT - ALFORTVILLE RER', 'ROSA PARKS',\n",
       "       'CANAL SAINT DENIS', 'CANAL SAINT DENIS', 'ROSA PARKS',\n",
       "       'RAYMOND JACLARD', 'CANAL SAINT DENIS', 'ROSA PARKS',\n",
       "       'MAISONS-ALFORT - ALFORTVILLE RER', 'CANAL SAINT DENIS',\n",
       "       'ROSA PARKS', 'ROSA PARKS', 'PLACE DU PETIT PONT',\n",
       "       'SALVADOR ALLENDE', 'SALVADOR ALLENDE', 'ROSA PARKS', 'ROSA PARKS',\n",
       "       'ROSA PARKS', 'ROSA PARKS', 'CANAL SAINT DENIS',\n",
       "       'SALVADOR ALLENDE', 'ROSA PARKS', 'PLACE DU PETIT PONT',\n",
       "       'PLACE DU PETIT PONT', 'MESANGES', 'ROSA PARKS', 'ROSA PARKS',\n",
       "       'CANAL SAINT DENIS', 'ROSA PARKS', 'SALVADOR ALLENDE',\n",
       "       'ROSA PARKS', 'CANAL SAINT DENIS', 'FLORE', 'CANAL SAINT DENIS',\n",
       "       'RAYMOND JACLARD', 'CANAL SAINT DENIS', 'ROSA PARKS',\n",
       "       'MAISONS-ALFORT - ALFORTVILLE RER', 'LA FOLIE', 'ROSA PARKS',\n",
       "       'MAISONS-ALFORT - ALFORTVILLE RER', 'ROSA PARKS', 'ROSA PARKS',\n",
       "       'MAISONS-ALFORT - ALFORTVILLE RER', 'SALVADOR ALLENDE',\n",
       "       'CANAL SAINT DENIS', 'RAYMOND JACLARD', 'PLACE DU PETIT PONT',\n",
       "       'ROSA PARKS', 'ROSA PARKS', 'ROSA PARKS',\n",
       "       'MAISONS-ALFORT - ALFORTVILLE RER', 'PLACE DU PETIT PONT',\n",
       "       'ROSA PARKS', 'CANAL SAINT DENIS', \"CIMETIERE D'ALFORTVILLE\",\n",
       "       \"CIMETIERE D'ALFORTVILLE\", 'SALVADOR ALLENDE', 'ROSA PARKS',\n",
       "       \"CIMETIERE D'ALFORTVILLE\", 'SALVADOR ALLENDE', 'SALVADOR ALLENDE'],\n",
       "      dtype=object)"
      ]
     },
     "execution_count": 72,
     "metadata": {},
     "output_type": "execute_result"
    }
   ],
   "source": [
    "knn.predict(X_test)\n"
   ]
  },
  {
   "cell_type": "code",
   "execution_count": 102,
   "metadata": {},
   "outputs": [],
   "source": [
    "X1 = test_df[test_df.columns[:5]]\n",
    "\n",
    "y1 = test_df['Arret']"
   ]
  },
  {
   "cell_type": "code",
   "execution_count": 103,
   "metadata": {},
   "outputs": [],
   "source": [
    "from sklearn.model_selection import train_test_split\n",
    "\n",
    "\n",
    "X_train,X_test,y_train,y_test = train_test_split(X1,y1)"
   ]
  },
  {
   "cell_type": "code",
   "execution_count": 104,
   "metadata": {},
   "outputs": [
    {
     "data": {
      "text/plain": [
       "KNeighborsClassifier(algorithm='auto', leaf_size=30, metric='minkowski',\n",
       "           metric_params=None, n_jobs=None, n_neighbors=5, p=2,\n",
       "           weights='uniform')"
      ]
     },
     "execution_count": 104,
     "metadata": {},
     "output_type": "execute_result"
    }
   ],
   "source": [
    "from sklearn import neighbors \n",
    "\n",
    "knn = neighbors.KNeighborsClassifier(n_neighbors=5)\n",
    "\n",
    "knn.fit(X_train , y_train)"
   ]
  },
  {
   "cell_type": "code",
   "execution_count": 105,
   "metadata": {},
   "outputs": [],
   "source": [
    "y_pred = knn.predict_proba(X_test)\n"
   ]
  },
  {
   "cell_type": "code",
   "execution_count": 106,
   "metadata": {},
   "outputs": [
    {
     "data": {
      "text/plain": [
       "0.43558282208588955"
      ]
     },
     "execution_count": 106,
     "metadata": {},
     "output_type": "execute_result"
    }
   ],
   "source": [
    "knn.score(X_test,y_test)"
   ]
  },
  {
   "cell_type": "code",
   "execution_count": 107,
   "metadata": {},
   "outputs": [
    {
     "data": {
      "text/plain": [
       "array(['ROSA PARKS', 'CANAL SAINT DENIS', 'SALVADOR ALLENDE',\n",
       "       'ROSA PARKS', 'ROSA PARKS', 'RAYMOND JACLARD', 'ROSA PARKS',\n",
       "       'RAYMOND JACLARD', \"CIMETIERE D'ALFORTVILLE\", 'CANAL SAINT DENIS',\n",
       "       'SALVADOR ALLENDE', 'ROSA PARKS', 'PLACE DU PETIT PONT',\n",
       "       'CANAL SAINT DENIS', 'SALVADOR ALLENDE', 'ROSA PARKS',\n",
       "       'CANAL SAINT DENIS', 'ROSA PARKS', 'ROSA PARKS', 'ROSA PARKS',\n",
       "       'ROSA PARKS', 'ROSA PARKS', 'ROSA PARKS', 'ROSA PARKS',\n",
       "       'ROSA PARKS', 'RAYMOND JACLARD', 'ROSA PARKS', 'ROSA PARKS',\n",
       "       'SALVADOR ALLENDE', 'ROSA PARKS', 'ROSA PARKS',\n",
       "       'MAISONS-ALFORT - ALFORTVILLE RER', 'CANAL SAINT DENIS',\n",
       "       'MAISONS-ALFORT - ALFORTVILLE RER', 'CANAL SAINT DENIS',\n",
       "       'ROSA PARKS', 'ROSA PARKS', 'ROSA PARKS', 'RAYMOND JACLARD',\n",
       "       'ROSA PARKS', 'CANAL SAINT DENIS', 'CANAL SAINT DENIS',\n",
       "       'CANAL SAINT DENIS', 'ROSA PARKS',\n",
       "       'MAISONS-ALFORT - ALFORTVILLE RER', 'ROSA PARKS', 'COKERIE',\n",
       "       'FLORE', 'RAYMOND JACLARD', 'CANAL SAINT DENIS',\n",
       "       'MAISONS-ALFORT - ALFORTVILLE RER', \"CIMETIERE D'ALFORTVILLE\",\n",
       "       'ROSA PARKS', 'RAYMOND JACLARD', 'MESANGES', 'SALVADOR ALLENDE',\n",
       "       'SALVADOR ALLENDE', 'FLORE', 'FLORE', 'RAYMOND JACLARD',\n",
       "       'SALVADOR ALLENDE', 'RAYMOND JACLARD', 'ROSA PARKS', 'ROSA PARKS',\n",
       "       'ROSA PARKS', 'SALVADOR ALLENDE', 'ROSA PARKS', 'SALVADOR ALLENDE',\n",
       "       'FLORE', 'SALVADOR ALLENDE', \"CIMETIERE D'ALFORTVILLE\",\n",
       "       'ROSA PARKS', 'CANAL SAINT DENIS', 'FLORE',\n",
       "       'MAISONS-ALFORT - ALFORTVILLE RER', 'ROSA PARKS',\n",
       "       'RAYMOND JACLARD', 'MAISONS-ALFORT - ALFORTVILLE RER',\n",
       "       'SALVADOR ALLENDE', 'SALVADOR ALLENDE', 'ROSA PARKS',\n",
       "       'PLACE DU PETIT PONT', 'PLACE DU PETIT PONT', 'ROSA PARKS',\n",
       "       'ROSA PARKS', 'CANAL SAINT DENIS', 'CANAL SAINT DENIS',\n",
       "       'ROSA PARKS', 'ROSA PARKS', 'ROSA PARKS', 'ROSA PARKS',\n",
       "       'ROSA PARKS', 'MAISONS-ALFORT - ALFORTVILLE RER',\n",
       "       'MAISONS-ALFORT - ALFORTVILLE RER', 'ROSA PARKS', 'ROSA PARKS',\n",
       "       'ROSA PARKS', 'CANAL SAINT DENIS', 'ROSA PARKS',\n",
       "       'PLACE DU PETIT PONT', 'CANAL SAINT DENIS', 'ROSA PARKS',\n",
       "       'ROSA PARKS', 'MAISONS-ALFORT - ALFORTVILLE RER',\n",
       "       'RAYMOND JACLARD', 'CANAL SAINT DENIS', 'CANAL SAINT DENIS',\n",
       "       'ROSA PARKS', 'SALVADOR ALLENDE',\n",
       "       'MAISONS-ALFORT - ALFORTVILLE RER', 'ROSA PARKS', 'ROSA PARKS',\n",
       "       'ROSA PARKS', 'PLACE DU PETIT PONT',\n",
       "       'MAISONS-ALFORT - ALFORTVILLE RER',\n",
       "       'MAISONS-ALFORT - ALFORTVILLE RER',\n",
       "       'MAISONS-ALFORT - ALFORTVILLE RER',\n",
       "       'MAISONS-ALFORT - ALFORTVILLE RER', 'SALVADOR ALLENDE', 'FLORE',\n",
       "       'ROSA PARKS', 'ROSA PARKS', 'RAYMOND JACLARD', 'ROSA PARKS',\n",
       "       'MAISONS-ALFORT - ALFORTVILLE RER', 'SALVADOR ALLENDE',\n",
       "       'CANAL SAINT DENIS', 'CANAL SAINT DENIS', 'CANAL SAINT DENIS',\n",
       "       'ROSA PARKS', 'ROSA PARKS', \"CIMETIERE D'ALFORTVILLE\",\n",
       "       'ROSA PARKS', 'CANAL SAINT DENIS', 'CANAL SAINT DENIS',\n",
       "       'CANAL SAINT DENIS', 'MAISONS-ALFORT - ALFORTVILLE RER',\n",
       "       'ROSA PARKS', 'FLORE', 'CANAL SAINT DENIS', 'ROSA PARKS',\n",
       "       \"CIMETIERE D'ALFORTVILLE\", 'FLORE',\n",
       "       'MAISONS-ALFORT - ALFORTVILLE RER', 'ROSA PARKS',\n",
       "       'CANAL SAINT DENIS', 'MAISONS-ALFORT - ALFORTVILLE RER',\n",
       "       'MAISONS-ALFORT - ALFORTVILLE RER',\n",
       "       'MAISONS-ALFORT - ALFORTVILLE RER', 'CANAL SAINT DENIS',\n",
       "       'ROSA PARKS', 'RAYMOND JACLARD', \"CIMETIERE D'ALFORTVILLE\",\n",
       "       \"CIMETIERE D'ALFORTVILLE\", 'CANAL SAINT DENIS', 'ROSA PARKS',\n",
       "       'ROSA PARKS', \"CIMETIERE D'ALFORTVILLE\", 'ROSA PARKS',\n",
       "       'SALVADOR ALLENDE', 'CANAL SAINT DENIS', 'SALVADOR ALLENDE',\n",
       "       'ROSA PARKS'], dtype=object)"
      ]
     },
     "execution_count": 107,
     "metadata": {},
     "output_type": "execute_result"
    }
   ],
   "source": [
    "knn.predict(X_test)\n"
   ]
  },
  {
   "cell_type": "code",
   "execution_count": 90,
   "metadata": {},
   "outputs": [
    {
     "data": {
      "image/png": "[encoded data removed]",
      "text/plain": [
       "<Figure size 432x288 with 1 Axes>"
      ]
     },
     "metadata": {
      "needs_background": "light"
     },
     "output_type": "display_data"
    }
   ],
   "source": [
    "errors = []\n",
    "for k in range(2,15):\n",
    "    knn = neighbors.KNeighborsClassifier(k)\n",
    "    errors.append(100*(1 - knn.fit(X_train, y_train).score(X_test, y_test)))\n",
    "plt.plot(range(2,15), errors, 'o-')\n",
    "plt.show()"
   ]
  },
  {
   "cell_type": "markdown",
   "metadata": {},
   "source": [
    "Comme on peut le voir, le k-NN le plus performant est celui pour lequel k = 5. \n",
    "On connaît donc notre classifieur final optimal : 5-nn. Ce qui veut dire que c'est celui qui classifie le mieux les données"
   ]
  },
  {
   "cell_type": "code",
   "execution_count": 91,
   "metadata": {},
   "outputs": [],
   "source": [
    "# On récupère le classifieur le plus performant\n",
    "knn = neighbors.KNeighborsClassifier(7)\n",
    "knn.fit(X_train, y_train)\n",
    "\n",
    "# On récupère les prédictions sur les données test\n",
    "predicted = knn.predict(X_test)\n",
    "\n"
   ]
  },
  {
   "cell_type": "code",
   "execution_count": 87,
   "metadata": {},
   "outputs": [
    {
     "data": {
      "text/plain": [
       "0.3987730061349693"
      ]
     },
     "execution_count": 87,
     "metadata": {},
     "output_type": "execute_result"
    }
   ],
   "source": [
    "knn.score(X_test,y_test)"
   ]
  },
  {
   "cell_type": "code",
   "execution_count": 108,
   "metadata": {},
   "outputs": [
    {
     "data": {
      "text/plain": [
       "SVC(C=1.0, cache_size=200, class_weight=None, coef0=0.0,\n",
       "  decision_function_shape='ovr', degree=3, gamma=0.01, kernel='rbf',\n",
       "  max_iter=-1, probability=False, random_state=None, shrinking=True,\n",
       "  tol=0.001, verbose=False)"
      ]
     },
     "execution_count": 108,
     "metadata": {},
     "output_type": "execute_result"
    }
   ],
   "source": [
    "# Créer une SVM avec un noyau gaussien de paramètre gamma=0.01\n",
    "from sklearn import svm\n",
    "classifier = svm.SVC(kernel='rbf', gamma=0.01)\n",
    "\n",
    "# Entraîner la SVM sur le jeu d'entraînement\n",
    "classifier.fit(X_train, y_train)  "
   ]
  },
  {
   "cell_type": "code",
   "execution_count": 109,
   "metadata": {},
   "outputs": [
    {
     "data": {
      "text/plain": [
       "array([[10.4164715 ,  7.07127342,  0.68290839, ..., 11.48531734,\n",
       "        -0.40072285,  9.24788236],\n",
       "       [ 9.23587919,  2.83845659,  0.62730301, ..., 11.32940121,\n",
       "        -0.41628739, 10.33480761],\n",
       "       [10.25986459,  2.84558691,  0.62160699, ..., 11.35043901,\n",
       "        -0.41460457,  9.3193765 ],\n",
       "       ...,\n",
       "       [10.36775682,  2.96586157,  0.63400202, ..., 11.43904978,\n",
       "        -0.41098816,  9.28103562],\n",
       "       [ 8.21455671,  2.81790671,  0.62943798, ..., 11.31382106,\n",
       "        -0.41469563, 10.33778154],\n",
       "       [10.31891305,  2.90019372,  0.62140044, ..., 11.39765669,\n",
       "        -0.41411357,  9.30045326]])"
      ]
     },
     "execution_count": 109,
     "metadata": {},
     "output_type": "execute_result"
    }
   ],
   "source": [
    "# prédire sur le jeu de test\n",
    "y_test_pred = classifier.decision_function(X_test)\n",
    "\n",
    "y_test_pred"
   ]
  },
  {
   "cell_type": "code",
   "execution_count": 14,
   "metadata": {},
   "outputs": [],
   "source": [
    "os.chdir(\"C://Users//BADOHOUN/Downloads/\")"
   ]
  },
  {
   "cell_type": "code",
   "execution_count": 309,
   "metadata": {},
   "outputs": [
    {
     "data": {
      "text/html": [
       "<div>\n",
       "<style scoped>\n",
       "    .dataframe tbody tr th:only-of-type {\n",
       "        vertical-align: middle;\n",
       "    }\n",
       "\n",
       "    .dataframe tbody tr th {\n",
       "        vertical-align: top;\n",
       "    }\n",
       "\n",
       "    .dataframe thead th {\n",
       "        text-align: right;\n",
       "    }\n",
       "</style>\n",
       "<table border=\"1\" class=\"dataframe\">\n",
       "  <thead>\n",
       "    <tr style=\"text-align: right;\">\n",
       "      <th></th>\n",
       "      <th>col1</th>\n",
       "      <th>col2</th>\n",
       "      <th>col3</th>\n",
       "      <th>col4</th>\n",
       "      <th>col5</th>\n",
       "      <th>col6</th>\n",
       "      <th>col7</th>\n",
       "    </tr>\n",
       "    <tr>\n",
       "      <th>col0</th>\n",
       "      <th></th>\n",
       "      <th></th>\n",
       "      <th></th>\n",
       "      <th></th>\n",
       "      <th></th>\n",
       "      <th></th>\n",
       "      <th></th>\n",
       "    </tr>\n",
       "  </thead>\n",
       "  <tbody>\n",
       "    <tr>\n",
       "      <th>1517828313422</th>\n",
       "      <td>123fe0be9804</td>\n",
       "      <td>48.898518</td>\n",
       "      <td>2.377969</td>\n",
       "      <td>0</td>\n",
       "      <td>0</td>\n",
       "      <td>0.0</td>\n",
       "      <td>18.065001</td>\n",
       "    </tr>\n",
       "    <tr>\n",
       "      <th>1517828318448</th>\n",
       "      <td>123fe0be9804</td>\n",
       "      <td>48.898518</td>\n",
       "      <td>2.377969</td>\n",
       "      <td>0</td>\n",
       "      <td>0</td>\n",
       "      <td>0.0</td>\n",
       "      <td>18.065001</td>\n",
       "    </tr>\n",
       "    <tr>\n",
       "      <th>1517828323487</th>\n",
       "      <td>123fe0be9804</td>\n",
       "      <td>48.898518</td>\n",
       "      <td>2.377969</td>\n",
       "      <td>0</td>\n",
       "      <td>0</td>\n",
       "      <td>0.0</td>\n",
       "      <td>18.065001</td>\n",
       "    </tr>\n",
       "    <tr>\n",
       "      <th>1517828328525</th>\n",
       "      <td>123fe0be9804</td>\n",
       "      <td>48.898518</td>\n",
       "      <td>2.377969</td>\n",
       "      <td>0</td>\n",
       "      <td>0</td>\n",
       "      <td>0.0</td>\n",
       "      <td>18.065001</td>\n",
       "    </tr>\n",
       "    <tr>\n",
       "      <th>1517828333555</th>\n",
       "      <td>123fe0be9804</td>\n",
       "      <td>48.898518</td>\n",
       "      <td>2.377969</td>\n",
       "      <td>0</td>\n",
       "      <td>0</td>\n",
       "      <td>0.0</td>\n",
       "      <td>18.065001</td>\n",
       "    </tr>\n",
       "  </tbody>\n",
       "</table>\n",
       "</div>"
      ],
      "text/plain": [
       "                       col1       col2      col3  col4  col5  col6       col7\n",
       "col0                                                                         \n",
       "1517828313422  123fe0be9804  48.898518  2.377969     0     0   0.0  18.065001\n",
       "1517828318448  123fe0be9804  48.898518  2.377969     0     0   0.0  18.065001\n",
       "1517828323487  123fe0be9804  48.898518  2.377969     0     0   0.0  18.065001\n",
       "1517828328525  123fe0be9804  48.898518  2.377969     0     0   0.0  18.065001\n",
       "1517828333555  123fe0be9804  48.898518  2.377969     0     0   0.0  18.065001"
      ]
     },
     "execution_count": 309,
     "metadata": {},
     "output_type": "execute_result"
    }
   ],
   "source": [
    "\n",
    "names = [\"col%i\"%(i) for i in np.arange(8)]\n",
    "\n",
    "df = pd.read_csv(\"multimodal_analytics2.csv\" , names = names  , parse_dates=[0] , index_col = 0)\n",
    "\n",
    "df.head()"
   ]
  },
  {
   "cell_type": "code",
   "execution_count": 24,
   "metadata": {},
   "outputs": [
    {
     "data": {
      "text/plain": [
       "'C:\\\\Users\\\\BADOHOUN\\\\Documents\\\\Multimodalité_APR\\\\Untitled Folder'"
      ]
     },
     "execution_count": 24,
     "metadata": {},
     "output_type": "execute_result"
    }
   ],
   "source": [
    "import pandas as pd \n",
    "import numpy as np\n",
    "\n",
    "import os\n",
    "os.getcwd()"
   ]
  },
  {
   "cell_type": "code",
   "execution_count": 25,
   "metadata": {},
   "outputs": [
    {
     "data": {
      "text/html": [
       "<div>\n",
       "<style scoped>\n",
       "    .dataframe tbody tr th:only-of-type {\n",
       "        vertical-align: middle;\n",
       "    }\n",
       "\n",
       "    .dataframe tbody tr th {\n",
       "        vertical-align: top;\n",
       "    }\n",
       "\n",
       "    .dataframe thead th {\n",
       "        text-align: right;\n",
       "    }\n",
       "</style>\n",
       "<table border=\"1\" class=\"dataframe\">\n",
       "  <thead>\n",
       "    <tr style=\"text-align: right;\">\n",
       "      <th></th>\n",
       "      <th>Colonne 1</th>\n",
       "      <th>Colonne 2</th>\n",
       "      <th>Colonne 3</th>\n",
       "      <th>Colonne 4</th>\n",
       "      <th>Colonne 5</th>\n",
       "      <th>Colonne 6</th>\n",
       "      <th>Colonne 7</th>\n",
       "      <th>Colonne 8</th>\n",
       "      <th>Colonne 9</th>\n",
       "      <th>Colonne 10</th>\n",
       "      <th>Colonne 11</th>\n",
       "      <th>Colonne 12</th>\n",
       "      <th>Colonne 13</th>\n",
       "      <th>Colonne 14</th>\n",
       "      <th>Colonne 15</th>\n",
       "      <th>Colonne 16</th>\n",
       "      <th>Colonne 17</th>\n",
       "      <th>Colonne 18</th>\n",
       "      <th>Colonne 19</th>\n",
       "      <th>\"Filtrés par\" à 18:10:04</th>\n",
       "    </tr>\n",
       "  </thead>\n",
       "  <tbody>\n",
       "    <tr>\n",
       "      <th>8032</th>\n",
       "      <td>3_D7FF691A-D6C5-436E-A7CD-A5A180D7D7ED</td>\n",
       "      <td>1543781995200</td>\n",
       "      <td>D7FF691A-D6C5-436E-A7CD-A5A180D7D7ED</td>\n",
       "      <td>48.902720</td>\n",
       "      <td>2.203626</td>\n",
       "      <td>29.407314</td>\n",
       "      <td>NaN</td>\n",
       "      <td>11.074065</td>\n",
       "      <td>-2.015898</td>\n",
       "      <td>50.0</td>\n",
       "      <td>motorway_link</td>\n",
       "      <td>NaN</td>\n",
       "      <td>False</td>\n",
       "      <td>22.0</td>\n",
       "      <td>86.0</td>\n",
       "      <td>NaN</td>\n",
       "      <td>Light drizzle</td>\n",
       "      <td>NaN</td>\n",
       "      <td>NaN</td>\n",
       "      <td>Oui</td>\n",
       "    </tr>\n",
       "    <tr>\n",
       "      <th>8033</th>\n",
       "      <td>3_D7FF691A-D6C5-436E-A7CD-A5A180D7D7ED</td>\n",
       "      <td>1543781997068</td>\n",
       "      <td>D7FF691A-D6C5-436E-A7CD-A5A180D7D7ED</td>\n",
       "      <td>48.902573</td>\n",
       "      <td>2.203153</td>\n",
       "      <td>30.254970</td>\n",
       "      <td>NaN</td>\n",
       "      <td>17.614408</td>\n",
       "      <td>3.557608</td>\n",
       "      <td>50.0</td>\n",
       "      <td>motorway_link</td>\n",
       "      <td>NaN</td>\n",
       "      <td>False</td>\n",
       "      <td>NaN</td>\n",
       "      <td>NaN</td>\n",
       "      <td>NaN</td>\n",
       "      <td>NaN</td>\n",
       "      <td>NaN</td>\n",
       "      <td>NaN</td>\n",
       "      <td>Oui</td>\n",
       "    </tr>\n",
       "    <tr>\n",
       "      <th>8034</th>\n",
       "      <td>3_D7FF691A-D6C5-436E-A7CD-A5A180D7D7ED</td>\n",
       "      <td>1543781999059</td>\n",
       "      <td>D7FF691A-D6C5-436E-A7CD-A5A180D7D7ED</td>\n",
       "      <td>48.902000</td>\n",
       "      <td>2.203041</td>\n",
       "      <td>30.137290</td>\n",
       "      <td>NaN</td>\n",
       "      <td>24.952080</td>\n",
       "      <td>3.746620</td>\n",
       "      <td>200.0</td>\n",
       "      <td>motorway</td>\n",
       "      <td>70.0</td>\n",
       "      <td>False</td>\n",
       "      <td>22.0</td>\n",
       "      <td>86.0</td>\n",
       "      <td>NaN</td>\n",
       "      <td>Light drizzle</td>\n",
       "      <td>NaN</td>\n",
       "      <td>NaN</td>\n",
       "      <td>Oui</td>\n",
       "    </tr>\n",
       "    <tr>\n",
       "      <th>8035</th>\n",
       "      <td>3_D7FF691A-D6C5-436E-A7CD-A5A180D7D7ED</td>\n",
       "      <td>1543782003077</td>\n",
       "      <td>D7FF691A-D6C5-436E-A7CD-A5A180D7D7ED</td>\n",
       "      <td>48.901768</td>\n",
       "      <td>2.202643</td>\n",
       "      <td>29.188969</td>\n",
       "      <td>NaN</td>\n",
       "      <td>16.269735</td>\n",
       "      <td>4.308180</td>\n",
       "      <td>200.0</td>\n",
       "      <td>motorway</td>\n",
       "      <td>70.0</td>\n",
       "      <td>False</td>\n",
       "      <td>NaN</td>\n",
       "      <td>NaN</td>\n",
       "      <td>NaN</td>\n",
       "      <td>NaN</td>\n",
       "      <td>NaN</td>\n",
       "      <td>NaN</td>\n",
       "      <td>Oui</td>\n",
       "    </tr>\n",
       "    <tr>\n",
       "      <th>8036</th>\n",
       "      <td>3_D7FF691A-D6C5-436E-A7CD-A5A180D7D7ED</td>\n",
       "      <td>1543782005086</td>\n",
       "      <td>D7FF691A-D6C5-436E-A7CD-A5A180D7D7ED</td>\n",
       "      <td>48.901527</td>\n",
       "      <td>2.202284</td>\n",
       "      <td>27.757603</td>\n",
       "      <td>NaN</td>\n",
       "      <td>14.945284</td>\n",
       "      <td>-2.579162</td>\n",
       "      <td>200.0</td>\n",
       "      <td>motorway</td>\n",
       "      <td>70.0</td>\n",
       "      <td>False</td>\n",
       "      <td>22.0</td>\n",
       "      <td>86.0</td>\n",
       "      <td>NaN</td>\n",
       "      <td>Light drizzle</td>\n",
       "      <td>NaN</td>\n",
       "      <td>NaN</td>\n",
       "      <td>Oui</td>\n",
       "    </tr>\n",
       "  </tbody>\n",
       "</table>\n",
       "</div>"
      ],
      "text/plain": [
       "                                   Colonne 1      Colonne 2  \\\n",
       "8032  3_D7FF691A-D6C5-436E-A7CD-A5A180D7D7ED  1543781995200   \n",
       "8033  3_D7FF691A-D6C5-436E-A7CD-A5A180D7D7ED  1543781997068   \n",
       "8034  3_D7FF691A-D6C5-436E-A7CD-A5A180D7D7ED  1543781999059   \n",
       "8035  3_D7FF691A-D6C5-436E-A7CD-A5A180D7D7ED  1543782003077   \n",
       "8036  3_D7FF691A-D6C5-436E-A7CD-A5A180D7D7ED  1543782005086   \n",
       "\n",
       "                                 Colonne 3  Colonne 4  Colonne 5  Colonne 6  \\\n",
       "8032  D7FF691A-D6C5-436E-A7CD-A5A180D7D7ED  48.902720   2.203626  29.407314   \n",
       "8033  D7FF691A-D6C5-436E-A7CD-A5A180D7D7ED  48.902573   2.203153  30.254970   \n",
       "8034  D7FF691A-D6C5-436E-A7CD-A5A180D7D7ED  48.902000   2.203041  30.137290   \n",
       "8035  D7FF691A-D6C5-436E-A7CD-A5A180D7D7ED  48.901768   2.202643  29.188969   \n",
       "8036  D7FF691A-D6C5-436E-A7CD-A5A180D7D7ED  48.901527   2.202284  27.757603   \n",
       "\n",
       "      Colonne 7  Colonne 8  Colonne 9  Colonne 10     Colonne 11  Colonne 12  \\\n",
       "8032        NaN  11.074065  -2.015898        50.0  motorway_link         NaN   \n",
       "8033        NaN  17.614408   3.557608        50.0  motorway_link         NaN   \n",
       "8034        NaN  24.952080   3.746620       200.0       motorway        70.0   \n",
       "8035        NaN  16.269735   4.308180       200.0       motorway        70.0   \n",
       "8036        NaN  14.945284  -2.579162       200.0       motorway        70.0   \n",
       "\n",
       "      Colonne 13  Colonne 14  Colonne 15  Colonne 16     Colonne 17  \\\n",
       "8032       False        22.0        86.0         NaN  Light drizzle   \n",
       "8033       False         NaN         NaN         NaN            NaN   \n",
       "8034       False        22.0        86.0         NaN  Light drizzle   \n",
       "8035       False         NaN         NaN         NaN            NaN   \n",
       "8036       False        22.0        86.0         NaN  Light drizzle   \n",
       "\n",
       "      Colonne 18  Colonne 19 \"Filtrés par\" à 18:10:04  \n",
       "8032         NaN         NaN                      Oui  \n",
       "8033         NaN         NaN                      Oui  \n",
       "8034         NaN         NaN                      Oui  \n",
       "8035         NaN         NaN                      Oui  \n",
       "8036         NaN         NaN                      Oui  "
      ]
     },
     "execution_count": 25,
     "metadata": {},
     "output_type": "execute_result"
    }
   ],
   "source": [
    "\n",
    "\n",
    "data_apr_paris = pd.read_csv('C:\\\\Users\\\\BADOHOUN\\\\Documents\\\\Multimodalité_APR\\\\trajet_paris.csv' , encoding = \"utf-16\" , sep = \"\\t\")\n",
    "data_apr_paris.tail()"
   ]
  },
  {
   "cell_type": "code",
   "execution_count": 26,
   "metadata": {},
   "outputs": [
    {
     "data": {
      "text/html": [
       "<div>\n",
       "<style scoped>\n",
       "    .dataframe tbody tr th:only-of-type {\n",
       "        vertical-align: middle;\n",
       "    }\n",
       "\n",
       "    .dataframe tbody tr th {\n",
       "        vertical-align: top;\n",
       "    }\n",
       "\n",
       "    .dataframe thead th {\n",
       "        text-align: right;\n",
       "    }\n",
       "</style>\n",
       "<table border=\"1\" class=\"dataframe\">\n",
       "  <thead>\n",
       "    <tr style=\"text-align: right;\">\n",
       "      <th></th>\n",
       "      <th>Colonne 1</th>\n",
       "      <th>Colonne 2</th>\n",
       "      <th>Colonne 3</th>\n",
       "      <th>Colonne 4</th>\n",
       "      <th>Colonne 5</th>\n",
       "      <th>Colonne 6</th>\n",
       "      <th>Colonne 7</th>\n",
       "      <th>Colonne 8</th>\n",
       "      <th>Colonne 9</th>\n",
       "      <th>Colonne 10</th>\n",
       "      <th>Colonne 11</th>\n",
       "    </tr>\n",
       "  </thead>\n",
       "  <tbody>\n",
       "    <tr>\n",
       "      <th>0</th>\n",
       "      <td>1_254a0530f70d7ece</td>\n",
       "      <td>1543669130000</td>\n",
       "      <td>254a0530f70d7ece</td>\n",
       "      <td>48.843647</td>\n",
       "      <td>2.132580</td>\n",
       "      <td>176.159866</td>\n",
       "      <td>211.0</td>\n",
       "      <td>0.000000</td>\n",
       "      <td>0.000000</td>\n",
       "      <td>3.9</td>\n",
       "      <td>secondary</td>\n",
       "    </tr>\n",
       "    <tr>\n",
       "      <th>1</th>\n",
       "      <td>1_254a0530f70d7ece</td>\n",
       "      <td>1543669131000</td>\n",
       "      <td>254a0530f70d7ece</td>\n",
       "      <td>48.843540</td>\n",
       "      <td>2.132480</td>\n",
       "      <td>176.929413</td>\n",
       "      <td>211.0</td>\n",
       "      <td>0.000000</td>\n",
       "      <td>0.000000</td>\n",
       "      <td>3.9</td>\n",
       "      <td>secondary</td>\n",
       "    </tr>\n",
       "    <tr>\n",
       "      <th>2</th>\n",
       "      <td>1_254a0530f70d7ece</td>\n",
       "      <td>1543669132000</td>\n",
       "      <td>254a0530f70d7ece</td>\n",
       "      <td>48.843430</td>\n",
       "      <td>2.132379</td>\n",
       "      <td>177.684326</td>\n",
       "      <td>211.0</td>\n",
       "      <td>0.000000</td>\n",
       "      <td>0.000000</td>\n",
       "      <td>4.0</td>\n",
       "      <td>secondary</td>\n",
       "    </tr>\n",
       "    <tr>\n",
       "      <th>3</th>\n",
       "      <td>1_254a0530f70d7ece</td>\n",
       "      <td>1543669133000</td>\n",
       "      <td>254a0530f70d7ece</td>\n",
       "      <td>48.843327</td>\n",
       "      <td>2.132282</td>\n",
       "      <td>178.471000</td>\n",
       "      <td>211.0</td>\n",
       "      <td>13.835481</td>\n",
       "      <td>0.000000</td>\n",
       "      <td>4.0</td>\n",
       "      <td>secondary</td>\n",
       "    </tr>\n",
       "    <tr>\n",
       "      <th>4</th>\n",
       "      <td>1_254a0530f70d7ece</td>\n",
       "      <td>1543669134000</td>\n",
       "      <td>254a0530f70d7ece</td>\n",
       "      <td>48.843224</td>\n",
       "      <td>2.132182</td>\n",
       "      <td>179.314087</td>\n",
       "      <td>211.0</td>\n",
       "      <td>13.804829</td>\n",
       "      <td>16.158888</td>\n",
       "      <td>4.0</td>\n",
       "      <td>secondary</td>\n",
       "    </tr>\n",
       "  </tbody>\n",
       "</table>\n",
       "</div>"
      ],
      "text/plain": [
       "            Colonne 1      Colonne 2         Colonne 3  Colonne 4  Colonne 5  \\\n",
       "0  1_254a0530f70d7ece  1543669130000  254a0530f70d7ece  48.843647   2.132580   \n",
       "1  1_254a0530f70d7ece  1543669131000  254a0530f70d7ece  48.843540   2.132480   \n",
       "2  1_254a0530f70d7ece  1543669132000  254a0530f70d7ece  48.843430   2.132379   \n",
       "3  1_254a0530f70d7ece  1543669133000  254a0530f70d7ece  48.843327   2.132282   \n",
       "4  1_254a0530f70d7ece  1543669134000  254a0530f70d7ece  48.843224   2.132182   \n",
       "\n",
       "    Colonne 6  Colonne 7  Colonne 8  Colonne 9  Colonne 10 Colonne 11  \n",
       "0  176.159866      211.0   0.000000   0.000000         3.9  secondary  \n",
       "1  176.929413      211.0   0.000000   0.000000         3.9  secondary  \n",
       "2  177.684326      211.0   0.000000   0.000000         4.0  secondary  \n",
       "3  178.471000      211.0  13.835481   0.000000         4.0  secondary  \n",
       "4  179.314087      211.0  13.804829  16.158888         4.0  secondary  "
      ]
     },
     "execution_count": 26,
     "metadata": {},
     "output_type": "execute_result"
    }
   ],
   "source": [
    "\n",
    "data_apr_paris = df.iloc[0:90, ]\n",
    "data_apr_paris.shape\n",
    "data_apr_paris = data_apr_paris.iloc[:,:11]\n",
    "data_apr_paris.head()"
   ]
  },
  {
   "cell_type": "code",
   "execution_count": 28,
   "metadata": {},
   "outputs": [
    {
     "data": {
      "text/html": [
       "<div>\n",
       "<style scoped>\n",
       "    .dataframe tbody tr th:only-of-type {\n",
       "        vertical-align: middle;\n",
       "    }\n",
       "\n",
       "    .dataframe tbody tr th {\n",
       "        vertical-align: top;\n",
       "    }\n",
       "\n",
       "    .dataframe thead th {\n",
       "        text-align: right;\n",
       "    }\n",
       "</style>\n",
       "<table border=\"1\" class=\"dataframe\">\n",
       "  <thead>\n",
       "    <tr style=\"text-align: right;\">\n",
       "      <th></th>\n",
       "      <th>deviceid_touttype</th>\n",
       "      <th>dateentry_touttype</th>\n",
       "      <th>deviceid_toutype</th>\n",
       "      <th>latitude_trajet_touttype</th>\n",
       "      <th>longitude_trajet_touttype</th>\n",
       "      <th>altitude_touttype</th>\n",
       "      <th>bearing_touttype</th>\n",
       "      <th>speed_touttype</th>\n",
       "      <th>accuracy_touttype</th>\n",
       "      <th>accelo_touttype</th>\n",
       "      <th>type_de_mode_touttype</th>\n",
       "    </tr>\n",
       "  </thead>\n",
       "  <tbody>\n",
       "    <tr>\n",
       "      <th>0</th>\n",
       "      <td>1_254a0530f70d7ece</td>\n",
       "      <td>1543669130000</td>\n",
       "      <td>254a0530f70d7ece</td>\n",
       "      <td>48.843647</td>\n",
       "      <td>2.132580</td>\n",
       "      <td>176.159866</td>\n",
       "      <td>211.0</td>\n",
       "      <td>0.000000</td>\n",
       "      <td>0.000000</td>\n",
       "      <td>3.9</td>\n",
       "      <td>secondary</td>\n",
       "    </tr>\n",
       "    <tr>\n",
       "      <th>1</th>\n",
       "      <td>1_254a0530f70d7ece</td>\n",
       "      <td>1543669131000</td>\n",
       "      <td>254a0530f70d7ece</td>\n",
       "      <td>48.843540</td>\n",
       "      <td>2.132480</td>\n",
       "      <td>176.929413</td>\n",
       "      <td>211.0</td>\n",
       "      <td>0.000000</td>\n",
       "      <td>0.000000</td>\n",
       "      <td>3.9</td>\n",
       "      <td>secondary</td>\n",
       "    </tr>\n",
       "    <tr>\n",
       "      <th>2</th>\n",
       "      <td>1_254a0530f70d7ece</td>\n",
       "      <td>1543669132000</td>\n",
       "      <td>254a0530f70d7ece</td>\n",
       "      <td>48.843430</td>\n",
       "      <td>2.132379</td>\n",
       "      <td>177.684326</td>\n",
       "      <td>211.0</td>\n",
       "      <td>0.000000</td>\n",
       "      <td>0.000000</td>\n",
       "      <td>4.0</td>\n",
       "      <td>secondary</td>\n",
       "    </tr>\n",
       "    <tr>\n",
       "      <th>3</th>\n",
       "      <td>1_254a0530f70d7ece</td>\n",
       "      <td>1543669133000</td>\n",
       "      <td>254a0530f70d7ece</td>\n",
       "      <td>48.843327</td>\n",
       "      <td>2.132282</td>\n",
       "      <td>178.471000</td>\n",
       "      <td>211.0</td>\n",
       "      <td>13.835481</td>\n",
       "      <td>0.000000</td>\n",
       "      <td>4.0</td>\n",
       "      <td>secondary</td>\n",
       "    </tr>\n",
       "    <tr>\n",
       "      <th>4</th>\n",
       "      <td>1_254a0530f70d7ece</td>\n",
       "      <td>1543669134000</td>\n",
       "      <td>254a0530f70d7ece</td>\n",
       "      <td>48.843224</td>\n",
       "      <td>2.132182</td>\n",
       "      <td>179.314087</td>\n",
       "      <td>211.0</td>\n",
       "      <td>13.804829</td>\n",
       "      <td>16.158888</td>\n",
       "      <td>4.0</td>\n",
       "      <td>secondary</td>\n",
       "    </tr>\n",
       "  </tbody>\n",
       "</table>\n",
       "</div>"
      ],
      "text/plain": [
       "    deviceid_touttype  dateentry_touttype  deviceid_toutype  \\\n",
       "0  1_254a0530f70d7ece       1543669130000  254a0530f70d7ece   \n",
       "1  1_254a0530f70d7ece       1543669131000  254a0530f70d7ece   \n",
       "2  1_254a0530f70d7ece       1543669132000  254a0530f70d7ece   \n",
       "3  1_254a0530f70d7ece       1543669133000  254a0530f70d7ece   \n",
       "4  1_254a0530f70d7ece       1543669134000  254a0530f70d7ece   \n",
       "\n",
       "   latitude_trajet_touttype  longitude_trajet_touttype  altitude_touttype  \\\n",
       "0                 48.843647                   2.132580         176.159866   \n",
       "1                 48.843540                   2.132480         176.929413   \n",
       "2                 48.843430                   2.132379         177.684326   \n",
       "3                 48.843327                   2.132282         178.471000   \n",
       "4                 48.843224                   2.132182         179.314087   \n",
       "\n",
       "   bearing_touttype  speed_touttype  accuracy_touttype  accelo_touttype  \\\n",
       "0             211.0        0.000000           0.000000              3.9   \n",
       "1             211.0        0.000000           0.000000              3.9   \n",
       "2             211.0        0.000000           0.000000              4.0   \n",
       "3             211.0       13.835481           0.000000              4.0   \n",
       "4             211.0       13.804829          16.158888              4.0   \n",
       "\n",
       "  type_de_mode_touttype  \n",
       "0             secondary  \n",
       "1             secondary  \n",
       "2             secondary  \n",
       "3             secondary  \n",
       "4             secondary  "
      ]
     },
     "execution_count": 28,
     "metadata": {},
     "output_type": "execute_result"
    }
   ],
   "source": [
    "data_apr_paris.columns = [\"deviceid_touttype\" , \"dateentry_touttype\" , \"deviceid_toutype\", \"latitude_trajet_touttype\" , \"longitude_trajet_touttype\" , \"altitude_touttype\" , \"bearing_touttype\" , \"speed_touttype\" , \"accuracy_touttype\", \"accelo_touttype\" , \"type_de_mode_touttype\"]\n",
    "\n",
    "data_apr_paris.head()"
   ]
  },
  {
   "cell_type": "code",
   "execution_count": 47,
   "metadata": {},
   "outputs": [
    {
     "data": {
      "text/html": [
       "<div>\n",
       "<style scoped>\n",
       "    .dataframe tbody tr th:only-of-type {\n",
       "        vertical-align: middle;\n",
       "    }\n",
       "\n",
       "    .dataframe tbody tr th {\n",
       "        vertical-align: top;\n",
       "    }\n",
       "\n",
       "    .dataframe thead th {\n",
       "        text-align: right;\n",
       "    }\n",
       "</style>\n",
       "<table border=\"1\" class=\"dataframe\">\n",
       "  <thead>\n",
       "    <tr style=\"text-align: right;\">\n",
       "      <th></th>\n",
       "      <th>dateentry_touttype</th>\n",
       "      <th>latitude_trajet_touttype</th>\n",
       "      <th>longitude_trajet_touttype</th>\n",
       "      <th>speed_touttype</th>\n",
       "      <th>distance_arret</th>\n",
       "      <th>arret</th>\n",
       "      <th>trajet_proche</th>\n",
       "    </tr>\n",
       "  </thead>\n",
       "  <tbody>\n",
       "    <tr>\n",
       "      <th>0</th>\n",
       "      <td>1543669130000</td>\n",
       "      <td>48.843647</td>\n",
       "      <td>2.132580</td>\n",
       "      <td>0.000000</td>\n",
       "      <td>4.996039</td>\n",
       "      <td>VIROFLAY - RIVE DROITE</td>\n",
       "      <td>(VIROFLAY - RIVE DROITE, 4.996039)</td>\n",
       "    </tr>\n",
       "    <tr>\n",
       "      <th>1</th>\n",
       "      <td>1543669131000</td>\n",
       "      <td>48.843540</td>\n",
       "      <td>2.132480</td>\n",
       "      <td>0.000000</td>\n",
       "      <td>4.989904</td>\n",
       "      <td>VIROFLAY - RIVE DROITE</td>\n",
       "      <td>(VIROFLAY - RIVE DROITE, 4.989904)</td>\n",
       "    </tr>\n",
       "    <tr>\n",
       "      <th>2</th>\n",
       "      <td>1543669132000</td>\n",
       "      <td>48.843430</td>\n",
       "      <td>2.132379</td>\n",
       "      <td>0.000000</td>\n",
       "      <td>4.983560</td>\n",
       "      <td>VIROFLAY - RIVE DROITE</td>\n",
       "      <td>(VIROFLAY - RIVE DROITE, 4.98356)</td>\n",
       "    </tr>\n",
       "    <tr>\n",
       "      <th>3</th>\n",
       "      <td>1543669133000</td>\n",
       "      <td>48.843327</td>\n",
       "      <td>2.132282</td>\n",
       "      <td>13.835481</td>\n",
       "      <td>4.977708</td>\n",
       "      <td>VIROFLAY - RIVE DROITE</td>\n",
       "      <td>(VIROFLAY - RIVE DROITE, 4.977708)</td>\n",
       "    </tr>\n",
       "    <tr>\n",
       "      <th>4</th>\n",
       "      <td>1543669134000</td>\n",
       "      <td>48.843224</td>\n",
       "      <td>2.132182</td>\n",
       "      <td>13.804829</td>\n",
       "      <td>4.972043</td>\n",
       "      <td>VIROFLAY - RIVE DROITE</td>\n",
       "      <td>(VIROFLAY - RIVE DROITE, 4.972043)</td>\n",
       "    </tr>\n",
       "  </tbody>\n",
       "</table>\n",
       "</div>"
      ],
      "text/plain": [
       "   dateentry_touttype  latitude_trajet_touttype  longitude_trajet_touttype  \\\n",
       "0       1543669130000                 48.843647                   2.132580   \n",
       "1       1543669131000                 48.843540                   2.132480   \n",
       "2       1543669132000                 48.843430                   2.132379   \n",
       "3       1543669133000                 48.843327                   2.132282   \n",
       "4       1543669134000                 48.843224                   2.132182   \n",
       "\n",
       "   speed_touttype  distance_arret                   arret  \\\n",
       "0        0.000000        4.996039  VIROFLAY - RIVE DROITE   \n",
       "1        0.000000        4.989904  VIROFLAY - RIVE DROITE   \n",
       "2        0.000000        4.983560  VIROFLAY - RIVE DROITE   \n",
       "3       13.835481        4.977708  VIROFLAY - RIVE DROITE   \n",
       "4       13.804829        4.972043  VIROFLAY - RIVE DROITE   \n",
       "\n",
       "                        trajet_proche  \n",
       "0  (VIROFLAY - RIVE DROITE, 4.996039)  \n",
       "1  (VIROFLAY - RIVE DROITE, 4.989904)  \n",
       "2   (VIROFLAY - RIVE DROITE, 4.98356)  \n",
       "3  (VIROFLAY - RIVE DROITE, 4.977708)  \n",
       "4  (VIROFLAY - RIVE DROITE, 4.972043)  "
      ]
     },
     "execution_count": 47,
     "metadata": {},
     "output_type": "execute_result"
    }
   ],
   "source": [
    "data_apr_paris['trajet_proche']= data_apr_paris.apply(lambda x : trajet_proche((x['latitude_trajet_touttype'], x['longitude_trajet_touttype']), station_bus_coord),axis = 1) \n",
    "data_apr_paris.head()"
   ]
  },
  {
   "cell_type": "markdown",
   "metadata": {},
   "source": [
    "## Prepare the data"
   ]
  },
  {
   "cell_type": "markdown",
   "metadata": {},
   "source": [
    "## Prepare the data"
   ]
  },
  {
   "cell_type": "markdown",
   "metadata": {},
   "source": [
    "## Prepare the data"
   ]
  },
  {
   "cell_type": "code",
   "execution_count": 48,
   "metadata": {},
   "outputs": [
    {
     "data": {
      "text/html": [
       "<div>\n",
       "<style scoped>\n",
       "    .dataframe tbody tr th:only-of-type {\n",
       "        vertical-align: middle;\n",
       "    }\n",
       "\n",
       "    .dataframe tbody tr th {\n",
       "        vertical-align: top;\n",
       "    }\n",
       "\n",
       "    .dataframe thead th {\n",
       "        text-align: right;\n",
       "    }\n",
       "</style>\n",
       "<table border=\"1\" class=\"dataframe\">\n",
       "  <thead>\n",
       "    <tr style=\"text-align: right;\">\n",
       "      <th></th>\n",
       "      <th>dateentry_touttype</th>\n",
       "      <th>latitude_trajet_touttype</th>\n",
       "      <th>longitude_trajet_touttype</th>\n",
       "      <th>speed_touttype</th>\n",
       "      <th>distance_arret</th>\n",
       "      <th>arret</th>\n",
       "      <th>trajet_proche</th>\n",
       "      <th>distance_arret_apr</th>\n",
       "    </tr>\n",
       "  </thead>\n",
       "  <tbody>\n",
       "    <tr>\n",
       "      <th>85</th>\n",
       "      <td>1543669215000</td>\n",
       "      <td>48.839977</td>\n",
       "      <td>2.126361</td>\n",
       "      <td>9.849461</td>\n",
       "      <td>4.931460</td>\n",
       "      <td>VIROFLAY - RIVE DROITE</td>\n",
       "      <td>(VIROFLAY - RIVE DROITE, 4.93146)</td>\n",
       "      <td>4.931460</td>\n",
       "    </tr>\n",
       "    <tr>\n",
       "      <th>86</th>\n",
       "      <td>1543669216000</td>\n",
       "      <td>48.839973</td>\n",
       "      <td>2.126262</td>\n",
       "      <td>8.704884</td>\n",
       "      <td>4.935728</td>\n",
       "      <td>VIROFLAY - RIVE DROITE</td>\n",
       "      <td>(VIROFLAY - RIVE DROITE, 4.935728)</td>\n",
       "      <td>4.935728</td>\n",
       "    </tr>\n",
       "    <tr>\n",
       "      <th>87</th>\n",
       "      <td>1543669217000</td>\n",
       "      <td>48.839970</td>\n",
       "      <td>2.126189</td>\n",
       "      <td>7.190743</td>\n",
       "      <td>4.938834</td>\n",
       "      <td>VIROFLAY - RIVE DROITE</td>\n",
       "      <td>(VIROFLAY - RIVE DROITE, 4.938834)</td>\n",
       "      <td>4.938834</td>\n",
       "    </tr>\n",
       "    <tr>\n",
       "      <th>88</th>\n",
       "      <td>1543669218000</td>\n",
       "      <td>48.839970</td>\n",
       "      <td>2.126154</td>\n",
       "      <td>5.135708</td>\n",
       "      <td>4.940465</td>\n",
       "      <td>VIROFLAY - RIVE DROITE</td>\n",
       "      <td>(VIROFLAY - RIVE DROITE, 4.940465)</td>\n",
       "      <td>4.940465</td>\n",
       "    </tr>\n",
       "    <tr>\n",
       "      <th>89</th>\n",
       "      <td>1543669219000</td>\n",
       "      <td>48.839970</td>\n",
       "      <td>2.126144</td>\n",
       "      <td>2.959425</td>\n",
       "      <td>4.940931</td>\n",
       "      <td>VIROFLAY - RIVE DROITE</td>\n",
       "      <td>(VIROFLAY - RIVE DROITE, 4.940931)</td>\n",
       "      <td>4.940931</td>\n",
       "    </tr>\n",
       "  </tbody>\n",
       "</table>\n",
       "</div>"
      ],
      "text/plain": [
       "    dateentry_touttype  latitude_trajet_touttype  longitude_trajet_touttype  \\\n",
       "85       1543669215000                 48.839977                   2.126361   \n",
       "86       1543669216000                 48.839973                   2.126262   \n",
       "87       1543669217000                 48.839970                   2.126189   \n",
       "88       1543669218000                 48.839970                   2.126154   \n",
       "89       1543669219000                 48.839970                   2.126144   \n",
       "\n",
       "    speed_touttype  distance_arret                   arret  \\\n",
       "85        9.849461        4.931460  VIROFLAY - RIVE DROITE   \n",
       "86        8.704884        4.935728  VIROFLAY - RIVE DROITE   \n",
       "87        7.190743        4.938834  VIROFLAY - RIVE DROITE   \n",
       "88        5.135708        4.940465  VIROFLAY - RIVE DROITE   \n",
       "89        2.959425        4.940931  VIROFLAY - RIVE DROITE   \n",
       "\n",
       "                         trajet_proche  distance_arret_apr  \n",
       "85   (VIROFLAY - RIVE DROITE, 4.93146)            4.931460  \n",
       "86  (VIROFLAY - RIVE DROITE, 4.935728)            4.935728  \n",
       "87  (VIROFLAY - RIVE DROITE, 4.938834)            4.938834  \n",
       "88  (VIROFLAY - RIVE DROITE, 4.940465)            4.940465  \n",
       "89  (VIROFLAY - RIVE DROITE, 4.940931)            4.940931  "
      ]
     },
     "execution_count": 48,
     "metadata": {},
     "output_type": "execute_result"
    }
   ],
   "source": [
    "\n",
    "\n",
    "data_apr_paris['arret'] = [t[0] for t in data_apr_paris.trajet_proche]\n",
    "data_apr_paris['distance_arret_apr'] = [t[1] for t in data_apr_paris.trajet_proche]\n",
    "\n",
    "data_apr_paris.tail()"
   ]
  },
  {
   "cell_type": "code",
   "execution_count": 49,
   "metadata": {},
   "outputs": [
    {
     "data": {
      "text/html": [
       "<div>\n",
       "<style scoped>\n",
       "    .dataframe tbody tr th:only-of-type {\n",
       "        vertical-align: middle;\n",
       "    }\n",
       "\n",
       "    .dataframe tbody tr th {\n",
       "        vertical-align: top;\n",
       "    }\n",
       "\n",
       "    .dataframe thead th {\n",
       "        text-align: right;\n",
       "    }\n",
       "</style>\n",
       "<table border=\"1\" class=\"dataframe\">\n",
       "  <thead>\n",
       "    <tr style=\"text-align: right;\">\n",
       "      <th></th>\n",
       "      <th>dateentry_touttype</th>\n",
       "      <th>latitude_trajet_touttype</th>\n",
       "      <th>longitude_trajet_touttype</th>\n",
       "      <th>speed_touttype</th>\n",
       "      <th>distance_arret_apr</th>\n",
       "      <th>arret</th>\n",
       "    </tr>\n",
       "  </thead>\n",
       "  <tbody>\n",
       "    <tr>\n",
       "      <th>0</th>\n",
       "      <td>1543669130000</td>\n",
       "      <td>48.843647</td>\n",
       "      <td>2.132580</td>\n",
       "      <td>0.000000</td>\n",
       "      <td>4.996039</td>\n",
       "      <td>VIROFLAY - RIVE DROITE</td>\n",
       "    </tr>\n",
       "    <tr>\n",
       "      <th>1</th>\n",
       "      <td>1543669131000</td>\n",
       "      <td>48.843540</td>\n",
       "      <td>2.132480</td>\n",
       "      <td>0.000000</td>\n",
       "      <td>4.989904</td>\n",
       "      <td>VIROFLAY - RIVE DROITE</td>\n",
       "    </tr>\n",
       "    <tr>\n",
       "      <th>2</th>\n",
       "      <td>1543669132000</td>\n",
       "      <td>48.843430</td>\n",
       "      <td>2.132379</td>\n",
       "      <td>0.000000</td>\n",
       "      <td>4.983560</td>\n",
       "      <td>VIROFLAY - RIVE DROITE</td>\n",
       "    </tr>\n",
       "    <tr>\n",
       "      <th>3</th>\n",
       "      <td>1543669133000</td>\n",
       "      <td>48.843327</td>\n",
       "      <td>2.132282</td>\n",
       "      <td>13.835481</td>\n",
       "      <td>4.977708</td>\n",
       "      <td>VIROFLAY - RIVE DROITE</td>\n",
       "    </tr>\n",
       "    <tr>\n",
       "      <th>4</th>\n",
       "      <td>1543669134000</td>\n",
       "      <td>48.843224</td>\n",
       "      <td>2.132182</td>\n",
       "      <td>13.804829</td>\n",
       "      <td>4.972043</td>\n",
       "      <td>VIROFLAY - RIVE DROITE</td>\n",
       "    </tr>\n",
       "  </tbody>\n",
       "</table>\n",
       "</div>"
      ],
      "text/plain": [
       "   dateentry_touttype  latitude_trajet_touttype  longitude_trajet_touttype  \\\n",
       "0       1543669130000                 48.843647                   2.132580   \n",
       "1       1543669131000                 48.843540                   2.132480   \n",
       "2       1543669132000                 48.843430                   2.132379   \n",
       "3       1543669133000                 48.843327                   2.132282   \n",
       "4       1543669134000                 48.843224                   2.132182   \n",
       "\n",
       "   speed_touttype  distance_arret_apr                   arret  \n",
       "0        0.000000            4.996039  VIROFLAY - RIVE DROITE  \n",
       "1        0.000000            4.989904  VIROFLAY - RIVE DROITE  \n",
       "2        0.000000            4.983560  VIROFLAY - RIVE DROITE  \n",
       "3       13.835481            4.977708  VIROFLAY - RIVE DROITE  \n",
       "4       13.804829            4.972043  VIROFLAY - RIVE DROITE  "
      ]
     },
     "execution_count": 49,
     "metadata": {},
     "output_type": "execute_result"
    }
   ],
   "source": [
    "data_apr_paris = data_apr_paris[['dateentry_touttype'  , 'latitude_trajet_touttype', 'longitude_trajet_touttype' , \n",
    "                                   'speed_touttype'  , 'distance_arret_apr',\n",
    "                                'arret']]\n",
    "data_apr_paris.head()\n",
    "\n",
    "\n",
    "## temps d'immobilité à la fin des trajets en véhicule \n",
    "## temps d'immobilité en tant que features "
   ]
  },
  {
   "cell_type": "code",
   "execution_count": 51,
   "metadata": {},
   "outputs": [
    {
     "data": {
      "text/html": [
       "<div>\n",
       "<style scoped>\n",
       "    .dataframe tbody tr th:only-of-type {\n",
       "        vertical-align: middle;\n",
       "    }\n",
       "\n",
       "    .dataframe tbody tr th {\n",
       "        vertical-align: top;\n",
       "    }\n",
       "\n",
       "    .dataframe thead th {\n",
       "        text-align: right;\n",
       "    }\n",
       "</style>\n",
       "<table border=\"1\" class=\"dataframe\">\n",
       "  <thead>\n",
       "    <tr style=\"text-align: right;\">\n",
       "      <th></th>\n",
       "      <th>timestamp</th>\n",
       "      <th>latitude</th>\n",
       "      <th>longitude</th>\n",
       "      <th>speed</th>\n",
       "      <th>distance_arret</th>\n",
       "      <th>Arret</th>\n",
       "    </tr>\n",
       "  </thead>\n",
       "  <tbody>\n",
       "    <tr>\n",
       "      <th>0</th>\n",
       "      <td>1517828318448</td>\n",
       "      <td>48.898518</td>\n",
       "      <td>2.377969</td>\n",
       "      <td>0.0</td>\n",
       "      <td>0.416844</td>\n",
       "      <td>ROSA PARKS</td>\n",
       "    </tr>\n",
       "    <tr>\n",
       "      <th>1</th>\n",
       "      <td>1517828323487</td>\n",
       "      <td>48.898518</td>\n",
       "      <td>2.377969</td>\n",
       "      <td>0.0</td>\n",
       "      <td>0.416844</td>\n",
       "      <td>ROSA PARKS</td>\n",
       "    </tr>\n",
       "    <tr>\n",
       "      <th>2</th>\n",
       "      <td>1517828328525</td>\n",
       "      <td>48.898518</td>\n",
       "      <td>2.377969</td>\n",
       "      <td>0.0</td>\n",
       "      <td>0.416844</td>\n",
       "      <td>ROSA PARKS</td>\n",
       "    </tr>\n",
       "    <tr>\n",
       "      <th>3</th>\n",
       "      <td>1517828333555</td>\n",
       "      <td>48.898518</td>\n",
       "      <td>2.377969</td>\n",
       "      <td>0.0</td>\n",
       "      <td>0.416844</td>\n",
       "      <td>ROSA PARKS</td>\n",
       "    </tr>\n",
       "    <tr>\n",
       "      <th>4</th>\n",
       "      <td>1517828338579</td>\n",
       "      <td>48.898518</td>\n",
       "      <td>2.377969</td>\n",
       "      <td>0.0</td>\n",
       "      <td>0.416844</td>\n",
       "      <td>ROSA PARKS</td>\n",
       "    </tr>\n",
       "  </tbody>\n",
       "</table>\n",
       "</div>"
      ],
      "text/plain": [
       "       timestamp   latitude  longitude  speed  distance_arret       Arret\n",
       "0  1517828318448  48.898518   2.377969    0.0        0.416844  ROSA PARKS\n",
       "1  1517828323487  48.898518   2.377969    0.0        0.416844  ROSA PARKS\n",
       "2  1517828328525  48.898518   2.377969    0.0        0.416844  ROSA PARKS\n",
       "3  1517828333555  48.898518   2.377969    0.0        0.416844  ROSA PARKS\n",
       "4  1517828338579  48.898518   2.377969    0.0        0.416844  ROSA PARKS"
      ]
     },
     "execution_count": 51,
     "metadata": {},
     "output_type": "execute_result"
    }
   ],
   "source": [
    "Trajet_Speed_lisser_df = Trajet_Speed_lisser_df[['timestamp' , 'latitude', 'longitude'  ,'speed' ,  'distance_arret' , 'Arret']]\n",
    "Trajet_Speed_lisser_df.head()"
   ]
  },
  {
   "cell_type": "code",
   "execution_count": 59,
   "metadata": {},
   "outputs": [
    {
     "data": {
      "text/html": [
       "<div>\n",
       "<style scoped>\n",
       "    .dataframe tbody tr th:only-of-type {\n",
       "        vertical-align: middle;\n",
       "    }\n",
       "\n",
       "    .dataframe tbody tr th {\n",
       "        vertical-align: top;\n",
       "    }\n",
       "\n",
       "    .dataframe thead th {\n",
       "        text-align: right;\n",
       "    }\n",
       "</style>\n",
       "<table border=\"1\" class=\"dataframe\">\n",
       "  <thead>\n",
       "    <tr style=\"text-align: right;\">\n",
       "      <th></th>\n",
       "      <th>dateentry_touttype</th>\n",
       "      <th>latitude_trajet_touttype</th>\n",
       "      <th>longitude_trajet_touttype</th>\n",
       "      <th>speed_touttype</th>\n",
       "      <th>distance_arret_apr</th>\n",
       "      <th>arret</th>\n",
       "      <th>timestamp</th>\n",
       "      <th>latitude</th>\n",
       "      <th>longitude</th>\n",
       "      <th>speed</th>\n",
       "      <th>distance_arret</th>\n",
       "      <th>Arret</th>\n",
       "    </tr>\n",
       "  </thead>\n",
       "  <tbody>\n",
       "    <tr>\n",
       "      <th>0</th>\n",
       "      <td>1.543669e+12</td>\n",
       "      <td>48.843647</td>\n",
       "      <td>2.132580</td>\n",
       "      <td>0.000000</td>\n",
       "      <td>4.996039</td>\n",
       "      <td>VIROFLAY - RIVE DROITE</td>\n",
       "      <td>1517828318448</td>\n",
       "      <td>48.898518</td>\n",
       "      <td>2.377969</td>\n",
       "      <td>0.0</td>\n",
       "      <td>0.416844</td>\n",
       "      <td>ROSA PARKS</td>\n",
       "    </tr>\n",
       "    <tr>\n",
       "      <th>1</th>\n",
       "      <td>1.543669e+12</td>\n",
       "      <td>48.843540</td>\n",
       "      <td>2.132480</td>\n",
       "      <td>0.000000</td>\n",
       "      <td>4.989904</td>\n",
       "      <td>VIROFLAY - RIVE DROITE</td>\n",
       "      <td>1517828323487</td>\n",
       "      <td>48.898518</td>\n",
       "      <td>2.377969</td>\n",
       "      <td>0.0</td>\n",
       "      <td>0.416844</td>\n",
       "      <td>ROSA PARKS</td>\n",
       "    </tr>\n",
       "    <tr>\n",
       "      <th>2</th>\n",
       "      <td>1.543669e+12</td>\n",
       "      <td>48.843430</td>\n",
       "      <td>2.132379</td>\n",
       "      <td>0.000000</td>\n",
       "      <td>4.983560</td>\n",
       "      <td>VIROFLAY - RIVE DROITE</td>\n",
       "      <td>1517828328525</td>\n",
       "      <td>48.898518</td>\n",
       "      <td>2.377969</td>\n",
       "      <td>0.0</td>\n",
       "      <td>0.416844</td>\n",
       "      <td>ROSA PARKS</td>\n",
       "    </tr>\n",
       "    <tr>\n",
       "      <th>3</th>\n",
       "      <td>1.543669e+12</td>\n",
       "      <td>48.843327</td>\n",
       "      <td>2.132282</td>\n",
       "      <td>13.835481</td>\n",
       "      <td>4.977708</td>\n",
       "      <td>VIROFLAY - RIVE DROITE</td>\n",
       "      <td>1517828333555</td>\n",
       "      <td>48.898518</td>\n",
       "      <td>2.377969</td>\n",
       "      <td>0.0</td>\n",
       "      <td>0.416844</td>\n",
       "      <td>ROSA PARKS</td>\n",
       "    </tr>\n",
       "    <tr>\n",
       "      <th>4</th>\n",
       "      <td>1.543669e+12</td>\n",
       "      <td>48.843224</td>\n",
       "      <td>2.132182</td>\n",
       "      <td>13.804829</td>\n",
       "      <td>4.972043</td>\n",
       "      <td>VIROFLAY - RIVE DROITE</td>\n",
       "      <td>1517828338579</td>\n",
       "      <td>48.898518</td>\n",
       "      <td>2.377969</td>\n",
       "      <td>0.0</td>\n",
       "      <td>0.416844</td>\n",
       "      <td>ROSA PARKS</td>\n",
       "    </tr>\n",
       "  </tbody>\n",
       "</table>\n",
       "</div>"
      ],
      "text/plain": [
       "   dateentry_touttype  latitude_trajet_touttype  longitude_trajet_touttype  \\\n",
       "0        1.543669e+12                 48.843647                   2.132580   \n",
       "1        1.543669e+12                 48.843540                   2.132480   \n",
       "2        1.543669e+12                 48.843430                   2.132379   \n",
       "3        1.543669e+12                 48.843327                   2.132282   \n",
       "4        1.543669e+12                 48.843224                   2.132182   \n",
       "\n",
       "   speed_touttype  distance_arret_apr                   arret      timestamp  \\\n",
       "0        0.000000            4.996039  VIROFLAY - RIVE DROITE  1517828318448   \n",
       "1        0.000000            4.989904  VIROFLAY - RIVE DROITE  1517828323487   \n",
       "2        0.000000            4.983560  VIROFLAY - RIVE DROITE  1517828328525   \n",
       "3       13.835481            4.977708  VIROFLAY - RIVE DROITE  1517828333555   \n",
       "4       13.804829            4.972043  VIROFLAY - RIVE DROITE  1517828338579   \n",
       "\n",
       "    latitude  longitude  speed  distance_arret       Arret  \n",
       "0  48.898518   2.377969    0.0        0.416844  ROSA PARKS  \n",
       "1  48.898518   2.377969    0.0        0.416844  ROSA PARKS  \n",
       "2  48.898518   2.377969    0.0        0.416844  ROSA PARKS  \n",
       "3  48.898518   2.377969    0.0        0.416844  ROSA PARKS  \n",
       "4  48.898518   2.377969    0.0        0.416844  ROSA PARKS  "
      ]
     },
     "execution_count": 59,
     "metadata": {},
     "output_type": "execute_result"
    }
   ],
   "source": [
    "test_data = pd.concat([data_apr_paris , Trajet_Speed_lisser_df] , axis = 1).dropna()\n",
    "test_data.head()"
   ]
  },
  {
   "cell_type": "code",
   "execution_count": 79,
   "metadata": {},
   "outputs": [
    {
     "data": {
      "text/plain": [
       "8.01856167177778"
      ]
     },
     "execution_count": 79,
     "metadata": {},
     "output_type": "execute_result"
    }
   ],
   "source": [
    " \n",
    "\n",
    "if test_data['speed'] = 0 \n",
    "    \n",
    "np.mean(test_data.speed_touttype)"
   ]
  },
  {
   "cell_type": "code",
   "execution_count": 80,
   "metadata": {},
   "outputs": [
    {
     "data": {
      "text/plain": [
       "0.08013635555555557"
      ]
     },
     "execution_count": 80,
     "metadata": {},
     "output_type": "execute_result"
    }
   ],
   "source": [
    "np.mean(test_data.speed)"
   ]
  },
  {
   "cell_type": "code",
   "execution_count": 62,
   "metadata": {},
   "outputs": [
    {
     "data": {
      "text/plain": [
       "0      0.000000\n",
       "1      0.000000\n",
       "2      0.000000\n",
       "3     13.835481\n",
       "4     13.804829\n",
       "5     13.716930\n",
       "6     13.783457\n",
       "7     13.782561\n",
       "8     13.779814\n",
       "9     13.828432\n",
       "10    13.814859\n",
       "11    13.591723\n",
       "12    13.122542\n",
       "13    12.371981\n",
       "14    11.585621\n",
       "15    10.506276\n",
       "16     9.299479\n",
       "17     7.999129\n",
       "18     6.820918\n",
       "19     6.069674\n",
       "20     5.743599\n",
       "21     6.058273\n",
       "22     6.658278\n",
       "23     7.450565\n",
       "24     8.045015\n",
       "25     8.420927\n",
       "26     8.346987\n",
       "27     7.757311\n",
       "28     6.945165\n",
       "29     6.476391\n",
       "        ...    \n",
       "60     9.183601\n",
       "61     9.530410\n",
       "62     9.536698\n",
       "63     8.943983\n",
       "64     7.839194\n",
       "65     6.491364\n",
       "66     5.347773\n",
       "67     4.620067\n",
       "68     4.179778\n",
       "69     3.611664\n",
       "70     2.899556\n",
       "71     2.115917\n",
       "72     1.920878\n",
       "73     2.620197\n",
       "74     4.268010\n",
       "75     5.851773\n",
       "76     7.010482\n",
       "77     7.685911\n",
       "78     8.471970\n",
       "79     9.256536\n",
       "80     9.949582\n",
       "81    10.555770\n",
       "82    10.973960\n",
       "83    11.031952\n",
       "84    10.654442\n",
       "85     9.849461\n",
       "86     8.704884\n",
       "87     7.190743\n",
       "88     5.135708\n",
       "89     2.959425\n",
       "Name: speed_touttype, Length: 90, dtype: float64"
      ]
     },
     "execution_count": 62,
     "metadata": {},
     "output_type": "execute_result"
    }
   ],
   "source": [
    "test_data[\"speed_touttype\"]"
   ]
  },
  {
   "cell_type": "markdown",
   "metadata": {},
   "source": [
    "## Quelques features basées sur les statistiques de la vitesse . "
   ]
  },
  {
   "cell_type": "code",
   "execution_count": null,
   "metadata": {},
   "outputs": [],
   "source": []
  },
  {
   "cell_type": "markdown",
   "metadata": {},
   "source": [
    "On ne sait pas labelliser.\n",
    "\n",
    "On est obligé d’apprendre en faisant. On part toujours de ce qu’on sait. Si on doit construire une classification sans savoir ce que sont les deux classes à prédire, \n",
    "\n",
    "on va essayer de regrouper les observations en deux classes puis essayer de comprendre si les deux groupes ainsi formés ont quelque chose à voir avec le problème initial quitte à ne pas savoir tout classer. \n",
    "\n",
    "On peut aussi essayer de trouver une autre source d’information pour construire quelques labels.\n",
    "\n",
    "On veut parfois construire un système d’alerte qui doit prédire si une anomalie survient ? Mais on ne sait pas ce que c’est une anomalie. \n",
    "\n",
    "On regarde alors les événements extrêmes pour cerner un peu mieux puis petit à petit définir ce qu’on attend du modèle de prédiction."
   ]
  },
  {
   "cell_type": "code",
   "execution_count": null,
   "metadata": {},
   "outputs": [],
   "source": [
    "test_data[\"Illness\"] = np.where(test_data[\"Illness\"] == \"No\", 0, 1)"
   ]
  },
  {
   "cell_type": "code",
   "execution_count": 64,
   "metadata": {},
   "outputs": [
    {
     "data": {
      "text/plain": [
       "PCA(copy=True, iterated_power='auto', n_components=None, random_state=None,\n",
       "  svd_solver='auto', tol=0.0, whiten=False)"
      ]
     },
     "execution_count": 64,
     "metadata": {},
     "output_type": "execute_result"
    }
   ],
   "source": [
    "import numpy\n",
    "import pandas\n",
    "import matplotlib.pyplot as plt\n",
    "import seaborn\n",
    "seaborn.set_style(\"white\")\n",
    "\n",
    "%matplotlib inline\n",
    "\n",
    "\n",
    "from sklearn.decomposition import PCA \n",
    "from sklearn.preprocessing import scale \n",
    "\n",
    "pca = PCA()\n",
    "pca.fit(scale(test_data[[\"speed_touttype\" , \"speed\"  ,\"distance_arret_apr\" , \"distance_arret\"]]))\n",
    "\n",
    "\n",
    "\n"
   ]
  },
  {
   "cell_type": "code",
   "execution_count": 65,
   "metadata": {},
   "outputs": [
    {
     "name": "stdout",
     "output_type": "stream",
     "text": [
      "[1.3148302  1.15921592 0.81205006 0.75884765]\n",
      "[0.32505524 0.28658393 0.20075682 0.187604  ]\n"
     ]
    }
   ],
   "source": [
    "## L'objet pca comprend maintenant un certain nombre d'objets et de fonctions. \n",
    "\n",
    "## Le premier objet est le tableau des variances expliquées (explained_variance_) par chaque dimension\n",
    "## et le ratio (proportion) de variance expliquée par dimension (explained_variance_ratio_).\n",
    "\n",
    "\n",
    "\n",
    "print(pca.explained_variance_)\n",
    "print(pca.explained_variance_ratio_)"
   ]
  },
  {
   "cell_type": "code",
   "execution_count": 67,
   "metadata": {},
   "outputs": [
    {
     "data": {
      "text/html": [
       "<div>\n",
       "<style scoped>\n",
       "    .dataframe tbody tr th:only-of-type {\n",
       "        vertical-align: middle;\n",
       "    }\n",
       "\n",
       "    .dataframe tbody tr th {\n",
       "        vertical-align: top;\n",
       "    }\n",
       "\n",
       "    .dataframe thead th {\n",
       "        text-align: right;\n",
       "    }\n",
       "</style>\n",
       "<table border=\"1\" class=\"dataframe\">\n",
       "  <thead>\n",
       "    <tr style=\"text-align: right;\">\n",
       "      <th></th>\n",
       "      <th>Dimension</th>\n",
       "      <th>Valeur propre</th>\n",
       "      <th>% variance expliquée</th>\n",
       "      <th>% cum. var. expliquée</th>\n",
       "    </tr>\n",
       "  </thead>\n",
       "  <tbody>\n",
       "    <tr>\n",
       "      <th>0</th>\n",
       "      <td>Dim1</td>\n",
       "      <td>1.314830</td>\n",
       "      <td>33.0</td>\n",
       "      <td>33.0</td>\n",
       "    </tr>\n",
       "    <tr>\n",
       "      <th>1</th>\n",
       "      <td>Dim2</td>\n",
       "      <td>1.159216</td>\n",
       "      <td>29.0</td>\n",
       "      <td>61.0</td>\n",
       "    </tr>\n",
       "    <tr>\n",
       "      <th>2</th>\n",
       "      <td>Dim3</td>\n",
       "      <td>0.812050</td>\n",
       "      <td>20.0</td>\n",
       "      <td>81.0</td>\n",
       "    </tr>\n",
       "    <tr>\n",
       "      <th>3</th>\n",
       "      <td>Dim4</td>\n",
       "      <td>0.758848</td>\n",
       "      <td>19.0</td>\n",
       "      <td>100.0</td>\n",
       "    </tr>\n",
       "  </tbody>\n",
       "</table>\n",
       "</div>"
      ],
      "text/plain": [
       "  Dimension  Valeur propre  % variance expliquée  % cum. var. expliquée\n",
       "0      Dim1       1.314830                  33.0                   33.0\n",
       "1      Dim2       1.159216                  29.0                   61.0\n",
       "2      Dim3       0.812050                  20.0                   81.0\n",
       "3      Dim4       0.758848                  19.0                  100.0"
      ]
     },
     "execution_count": 67,
     "metadata": {},
     "output_type": "execute_result"
    }
   ],
   "source": [
    "eig = pandas.DataFrame(\n",
    "    {\n",
    "        \"Dimension\" : [\"Dim\" + str(x + 1) for x in range(4)], \n",
    "        \"Valeur propre\" : pca.explained_variance_,\n",
    "        \"% variance expliquée\" : numpy.round(pca.explained_variance_ratio_ * 100),\n",
    "        \"% cum. var. expliquée\" : numpy.round(numpy.cumsum(pca.explained_variance_ratio_) * 100)\n",
    "    },\n",
    "    columns = [\"Dimension\", \"Valeur propre\", \"% variance expliquée\", \"% cum. var. expliquée\"]\n",
    ")\n",
    "eig"
   ]
  },
  {
   "cell_type": "code",
   "execution_count": 68,
   "metadata": {},
   "outputs": [
    {
     "data": {
      "text/plain": [
       "Text(3.25, 26, '25%')"
      ]
     },
     "execution_count": 68,
     "metadata": {},
     "output_type": "execute_result"
    },
    {
     "data": {
      "image/png": "[encoded data removed]",
      "text/plain": [
       "<Figure size 432x288 with 1 Axes>"
      ]
     },
     "metadata": {
      "needs_background": "light"
     },
     "output_type": "display_data"
    }
   ],
   "source": [
    "g_eig = seaborn.barplot(x = \"Dimension\", \n",
    "                y = \"% variance expliquée\",\n",
    "                palette = [\"lightseagreen\"],\n",
    "                data = eig)\n",
    "g_eig.set(ylabel = \"Variance expliquée (%)\")\n",
    "g_eig.figure.suptitle(\"Variance expliquée par dimension\")\n",
    "plt.axhline(y = 25, linewidth = .5, color = \"dimgray\", linestyle = \"--\") # 25 = 100 / 4 (nb dimensions)\n",
    "plt.text(3.25, 26, \"25%\")"
   ]
  },
  {
   "cell_type": "code",
   "execution_count": 69,
   "metadata": {},
   "outputs": [],
   "source": [
    "test_data_pca = pca.transform(test_data[[\"speed_touttype\" , \"speed\"  ,\"distance_arret_apr\" , \"distance_arret\"]])"
   ]
  },
  {
   "cell_type": "code",
   "execution_count": 73,
   "metadata": {},
   "outputs": [
    {
     "data": {
      "text/html": [
       "<div>\n",
       "<style scoped>\n",
       "    .dataframe tbody tr th:only-of-type {\n",
       "        vertical-align: middle;\n",
       "    }\n",
       "\n",
       "    .dataframe tbody tr th {\n",
       "        vertical-align: top;\n",
       "    }\n",
       "\n",
       "    .dataframe thead th {\n",
       "        text-align: right;\n",
       "    }\n",
       "</style>\n",
       "<table border=\"1\" class=\"dataframe\">\n",
       "  <thead>\n",
       "    <tr style=\"text-align: right;\">\n",
       "      <th></th>\n",
       "      <th>Dim1</th>\n",
       "      <th>Dim2</th>\n",
       "      <th>Dim3</th>\n",
       "      <th>Dim4</th>\n",
       "      <th>Arret_trajetBus</th>\n",
       "      <th>Arret_trajetapr</th>\n",
       "    </tr>\n",
       "  </thead>\n",
       "  <tbody>\n",
       "    <tr>\n",
       "      <th>0</th>\n",
       "      <td>-2.372823</td>\n",
       "      <td>2.463675</td>\n",
       "      <td>2.514960</td>\n",
       "      <td>-2.666300</td>\n",
       "      <td>ROSA PARKS</td>\n",
       "      <td>VIROFLAY - RIVE DROITE</td>\n",
       "    </tr>\n",
       "    <tr>\n",
       "      <th>1</th>\n",
       "      <td>-2.369612</td>\n",
       "      <td>2.460847</td>\n",
       "      <td>2.511700</td>\n",
       "      <td>-2.663351</td>\n",
       "      <td>ROSA PARKS</td>\n",
       "      <td>VIROFLAY - RIVE DROITE</td>\n",
       "    </tr>\n",
       "    <tr>\n",
       "      <th>2</th>\n",
       "      <td>-2.366292</td>\n",
       "      <td>2.457922</td>\n",
       "      <td>2.508328</td>\n",
       "      <td>-2.660301</td>\n",
       "      <td>ROSA PARKS</td>\n",
       "      <td>VIROFLAY - RIVE DROITE</td>\n",
       "    </tr>\n",
       "    <tr>\n",
       "      <th>3</th>\n",
       "      <td>-6.974580</td>\n",
       "      <td>11.589910</td>\n",
       "      <td>-5.105770</td>\n",
       "      <td>2.707804</td>\n",
       "      <td>ROSA PARKS</td>\n",
       "      <td>VIROFLAY - RIVE DROITE</td>\n",
       "    </tr>\n",
       "    <tr>\n",
       "      <th>4</th>\n",
       "      <td>-6.961399</td>\n",
       "      <td>11.567060</td>\n",
       "      <td>-5.091919</td>\n",
       "      <td>2.698641</td>\n",
       "      <td>ROSA PARKS</td>\n",
       "      <td>VIROFLAY - RIVE DROITE</td>\n",
       "    </tr>\n",
       "  </tbody>\n",
       "</table>\n",
       "</div>"
      ],
      "text/plain": [
       "       Dim1       Dim2      Dim3      Dim4 Arret_trajetBus  \\\n",
       "0 -2.372823   2.463675  2.514960 -2.666300      ROSA PARKS   \n",
       "1 -2.369612   2.460847  2.511700 -2.663351      ROSA PARKS   \n",
       "2 -2.366292   2.457922  2.508328 -2.660301      ROSA PARKS   \n",
       "3 -6.974580  11.589910 -5.105770  2.707804      ROSA PARKS   \n",
       "4 -6.961399  11.567060 -5.091919  2.698641      ROSA PARKS   \n",
       "\n",
       "          Arret_trajetapr  \n",
       "0  VIROFLAY - RIVE DROITE  \n",
       "1  VIROFLAY - RIVE DROITE  \n",
       "2  VIROFLAY - RIVE DROITE  \n",
       "3  VIROFLAY - RIVE DROITE  \n",
       "4  VIROFLAY - RIVE DROITE  "
      ]
     },
     "execution_count": 73,
     "metadata": {},
     "output_type": "execute_result"
    }
   ],
   "source": [
    "# Transformation en DataFrame pandas\n",
    "test_data_pca_df = pandas.DataFrame({\n",
    "    \"Dim1\" : test_data_pca[:,0], \n",
    "    \"Dim2\" : test_data_pca[:,1], \n",
    "    \"Dim3\" : test_data_pca[:,2],\n",
    "    \"Dim4\" : test_data_pca[:,3],\n",
    "    \"Arret_trajetBus\" : test_data.Arret,\n",
    "    \"Arret_trajetapr\" : test_data.arret\n",
    "})\n",
    "\n",
    "# Résultat (premières lignes)\n",
    "test_data_pca_df.head()"
   ]
  },
  {
   "cell_type": "code",
   "execution_count": 77,
   "metadata": {},
   "outputs": [
    {
     "data": {
      "text/plain": [
       "Text(0.5, 0.98, 'Premier plan factoriel')"
      ]
     },
     "execution_count": 77,
     "metadata": {},
     "output_type": "execute_result"
    },
    {
     "data": {
      "image/png": "[encoded data removed]",
      "text/plain": [
       "<Figure size 517x360 with 1 Axes>"
      ]
     },
     "metadata": {
      "needs_background": "light"
     },
     "output_type": "display_data"
    }
   ],
   "source": [
    "g_pca = seaborn.lmplot(\"Dim1\", \"Dim2\", hue = \"Arret_trajetapr\", data = test_data_pca_df, fit_reg = False)\n",
    "g_pca.set(xlabel = \"Dimension 1 (%)\", ylabel = \"Dimension 2 ( %)\")\n",
    "g_pca.fig.suptitle(\"Premier plan factoriel\")"
   ]
  },
  {
   "cell_type": "code",
   "execution_count": 82,
   "metadata": {},
   "outputs": [
    {
     "data": {
      "text/plain": [
       "DBSCAN(algorithm='auto', eps=0.6, leaf_size=30, metric='euclidean',\n",
       "    metric_params=None, min_samples=3, n_jobs=None, p=None)"
      ]
     },
     "execution_count": 82,
     "metadata": {},
     "output_type": "execute_result"
    }
   ],
   "source": [
    "from sklearn.cluster import DBSCAN\n",
    "\n",
    "db1 = DBSCAN(eps = .6, min_samples = 3)\n",
    "db1.fit(scale(test_data[[\"speed_touttype\" , \"speed\"  ,\"distance_arret_apr\" , \"distance_arret\"]]))\n"
   ]
  },
  {
   "cell_type": "code",
   "execution_count": 83,
   "metadata": {},
   "outputs": [
    {
     "data": {
      "text/plain": [
       "array([ 0,  0,  0,  1,  1,  1,  2,  2,  2,  2,  2,  2,  2,  2,  2,  2,  2,\n",
       "        2,  2,  2,  2,  2,  2,  2,  2, -1, -1, -1, -1,  2,  3,  3,  3,  3,\n",
       "        3,  3,  3,  3,  3, -1, -1,  2,  2, -1,  4,  4,  4,  5,  5,  5,  6,\n",
       "        6,  6,  2,  2,  2,  2,  2,  2,  2,  2,  2,  2,  2,  2,  2,  2,  2,\n",
       "        2, -1,  7,  7,  7,  7, -1,  3, -1,  8,  8,  8,  8,  8,  8,  8,  8,\n",
       "        8,  8, -1, -1, -1], dtype=int64)"
      ]
     },
     "execution_count": 83,
     "metadata": {},
     "output_type": "execute_result"
    }
   ],
   "source": [
    "db1.labels_"
   ]
  },
  {
   "cell_type": "code",
   "execution_count": null,
   "metadata": {},
   "outputs": [],
   "source": []
  }
 ],
 "metadata": {
  "kernelspec": {
   "display_name": "Python 3",
   "language": "python",
   "name": "python3"
  },
  "language_info": {
   "codemirror_mode": {
    "name": "ipython",
    "version": 3
   },
   "file_extension": ".py",
   "mimetype": "text/x-python",
   "name": "python",
   "nbconvert_exporter": "python",
   "pygments_lexer": "ipython3",
   "version": "3.7.0"
  }
 },
 "nbformat": 4,
 "nbformat_minor": 2
}
