{
 "cells": [
  {
   "cell_type": "code",
   "execution_count": 1,
   "metadata": {},
   "outputs": [],
   "source": [
    "%matplotlib inline\n",
    "import matplotlib.pyplot as plt\n",
    "import pandas as pd \n",
    "import os \n",
    "import numpy as np"
   ]
  },
  {
   "cell_type": "code",
   "execution_count": 2,
   "metadata": {},
   "outputs": [
    {
     "data": {
      "text/html": [
       "<div id=\"my_id_menu_nb\">run previous cell, wait for 2 seconds</div>\n",
       "<script>\n",
       "function repeat_indent_string(n){\n",
       "    var a = \"\" ;\n",
       "    for ( ; n > 0 ; --n)\n",
       "        a += \"    \";\n",
       "    return a;\n",
       "}\n",
       "// look up into all sections and builds an automated menu //\n",
       "var update_menu_string = function(begin, lfirst, llast, sformat, send, keep_item, begin_format, end_format) {\n",
       "    var anchors = document.getElementsByClassName(\"section\");\n",
       "    if (anchors.length == 0) {\n",
       "        anchors = document.getElementsByClassName(\"text_cell_render rendered_html\");\n",
       "    }\n",
       "    var i,t;\n",
       "    var text_menu = begin;\n",
       "    var text_memo = \"<pre>\\nlength:\" + anchors.length + \"\\n\";\n",
       "    var ind = \"\";\n",
       "    var memo_level = 1;\n",
       "    var href;\n",
       "    var tags = [];\n",
       "    var main_item = 0;\n",
       "    var format_open = 0;\n",
       "    for (i = 0; i <= llast; i++)\n",
       "        tags.push(\"h\" + i);\n",
       "\n",
       "    for (i = 0; i < anchors.length; i++) {\n",
       "        text_memo += \"**\" + anchors[i].id + \"--\\n\";\n",
       "\n",
       "        var child = null;\n",
       "        for(t = 0; t < tags.length; t++) {\n",
       "            var r = anchors[i].getElementsByTagName(tags[t]);\n",
       "            if (r.length > 0) {\n",
       "child = r[0];\n",
       "break;\n",
       "            }\n",
       "        }\n",
       "        if (child == null) {\n",
       "            text_memo += \"null\\n\";\n",
       "            continue;\n",
       "        }\n",
       "        if (anchors[i].hasAttribute(\"id\")) {\n",
       "            // when converted in RST\n",
       "            href = anchors[i].id;\n",
       "            text_memo += \"#1-\" + href;\n",
       "            // passer à child suivant (le chercher)\n",
       "        }\n",
       "        else if (child.hasAttribute(\"id\")) {\n",
       "            // in a notebook\n",
       "            href = child.id;\n",
       "            text_memo += \"#2-\" + href;\n",
       "        }\n",
       "        else {\n",
       "            text_memo += \"#3-\" + \"*\" + \"\\n\";\n",
       "            continue;\n",
       "        }\n",
       "        var title = child.textContent;\n",
       "        var level = parseInt(child.tagName.substring(1,2));\n",
       "\n",
       "        text_memo += \"--\" + level + \"?\" + lfirst + \"--\" + title + \"\\n\";\n",
       "\n",
       "        if ((level < lfirst) || (level > llast)) {\n",
       "            continue ;\n",
       "        }\n",
       "        if (title.endsWith('¶')) {\n",
       "            title = title.substring(0,title.length-1).replace(\"<\", \"&lt;\")\n",
       "         .replace(\">\", \"&gt;\").replace(\"&\", \"&amp;\");\n",
       "        }\n",
       "        if (title.length == 0) {\n",
       "            continue;\n",
       "        }\n",
       "\n",
       "        while (level < memo_level) {\n",
       "            text_menu += end_format + \"</ul>\\n\";\n",
       "            format_open -= 1;\n",
       "            memo_level -= 1;\n",
       "        }\n",
       "        if (level == lfirst) {\n",
       "            main_item += 1;\n",
       "        }\n",
       "        if (keep_item != -1 && main_item != keep_item + 1) {\n",
       "            // alert(main_item + \" - \" + level + \" - \" + keep_item);\n",
       "            continue;\n",
       "        }\n",
       "        while (level > memo_level) {\n",
       "            text_menu += \"<ul>\\n\";\n",
       "            memo_level += 1;\n",
       "        }\n",
       "        text_menu += repeat_indent_string(level-2);\n",
       "        text_menu += begin_format + sformat.replace(\"__HREF__\", href).replace(\"__TITLE__\", title);\n",
       "        format_open += 1;\n",
       "    }\n",
       "    while (1 < memo_level) {\n",
       "        text_menu += end_format + \"</ul>\\n\";\n",
       "        memo_level -= 1;\n",
       "        format_open -= 1;\n",
       "    }\n",
       "    text_menu += send;\n",
       "    //text_menu += \"\\n\" + text_memo;\n",
       "\n",
       "    while (format_open > 0) {\n",
       "        text_menu += end_format;\n",
       "        format_open -= 1;\n",
       "    }\n",
       "    return text_menu;\n",
       "};\n",
       "var update_menu = function() {\n",
       "    var sbegin = \"\";\n",
       "    var sformat = '<a href=\"#__HREF__\">__TITLE__</a>';\n",
       "    var send = \"\";\n",
       "    var begin_format = '<li>';\n",
       "    var end_format = '</li>';\n",
       "    var keep_item = -1;\n",
       "    var text_menu = update_menu_string(sbegin, 2, 4, sformat, send, keep_item,\n",
       "       begin_format, end_format);\n",
       "    var menu = document.getElementById(\"my_id_menu_nb\");\n",
       "    menu.innerHTML=text_menu;\n",
       "};\n",
       "window.setTimeout(update_menu,2000);\n",
       "            </script>"
      ],
      "text/plain": [
       "<IPython.core.display.HTML object>"
      ]
     },
     "execution_count": 2,
     "metadata": {},
     "output_type": "execute_result"
    }
   ],
   "source": [
    "from jyquickhelper import add_notebook_menu\n",
    "add_notebook_menu()\n"
   ]
  },
  {
   "cell_type": "markdown",
   "metadata": {},
   "source": [
    ". Données\n",
    "\n",
    ". Période, tendance\n",
    "\n",
    ". Auto-corrélation\n",
    "\n",
    ". Tendance\n",
    "\n",
    ". Prédictions linéaires\n",
    "\n",
    ". Machine learning"
   ]
  },
  {
   "cell_type": "markdown",
   "metadata": {},
   "source": [
    "### Objectifs"
   ]
  },
  {
   "cell_type": "markdown",
   "metadata": {},
   "source": [
    "### Buts principaux de l’étude d’un processus aléatoire à partir d’une série temporelle:\n",
    "    \n",
    "I. Décrire la série: valeurs manquantes? aberrantes? y a-t-il une\n",
    "tendance générale? un effet saisonnier évident?\n",
    "\n",
    "II.  résumer et/ou expliquer les variations: peut-on isoler\n",
    "explicitement la tendance générale? la composante saisonnière?\n",
    "\n",
    "III. prévoir les valeurs futures: quel sera la vitesse à tel moment par exemple , dans un an?\n",
    "Pour les deux derniers objectifs, on peut lisser et/ou modéliser la\n",
    "série.\n"
   ]
  },
  {
   "cell_type": "markdown",
   "metadata": {},
   "source": [
    "### Definition\n",
    "Une série temporelle {xt} \n",
    "\n",
    "I. c'est la réalisation d’un processus aléatoire\n",
    "\n",
    "II. Indicé par le temps, noté {Xt}: pour chaque instant t, \n",
    "\n",
    "III. Xt est une variable aléatoire dont on a une réalisation {xt}.\n",
    "\n",
    "### Attention: en général les Xt ne sont pas iid!"
   ]
  },
  {
   "cell_type": "code",
   "execution_count": 3,
   "metadata": {},
   "outputs": [
    {
     "data": {
      "text/html": [
       "<div>\n",
       "<style scoped>\n",
       "    .dataframe tbody tr th:only-of-type {\n",
       "        vertical-align: middle;\n",
       "    }\n",
       "\n",
       "    .dataframe tbody tr th {\n",
       "        vertical-align: top;\n",
       "    }\n",
       "\n",
       "    .dataframe thead th {\n",
       "        text-align: right;\n",
       "    }\n",
       "</style>\n",
       "<table border=\"1\" class=\"dataframe\">\n",
       "  <thead>\n",
       "    <tr style=\"text-align: right;\">\n",
       "      <th></th>\n",
       "      <th>dateentry</th>\n",
       "      <th>deviceid</th>\n",
       "      <th>latitude</th>\n",
       "      <th>longitude</th>\n",
       "      <th>altitude</th>\n",
       "      <th>bearing</th>\n",
       "      <th>speed</th>\n",
       "      <th>accuracy</th>\n",
       "    </tr>\n",
       "  </thead>\n",
       "  <tbody>\n",
       "    <tr>\n",
       "      <th>0</th>\n",
       "      <td>1970-01-01 00:25:17.828313422</td>\n",
       "      <td>123fe0be9804</td>\n",
       "      <td>48.898518</td>\n",
       "      <td>2.377969</td>\n",
       "      <td>0</td>\n",
       "      <td>0</td>\n",
       "      <td>0.0</td>\n",
       "      <td>18.065</td>\n",
       "    </tr>\n",
       "    <tr>\n",
       "      <th>1</th>\n",
       "      <td>1970-01-01 00:25:17.828318448</td>\n",
       "      <td>123fe0be9804</td>\n",
       "      <td>48.898518</td>\n",
       "      <td>2.377969</td>\n",
       "      <td>0</td>\n",
       "      <td>0</td>\n",
       "      <td>0.0</td>\n",
       "      <td>18.065</td>\n",
       "    </tr>\n",
       "    <tr>\n",
       "      <th>2</th>\n",
       "      <td>1970-01-01 00:25:17.828323487</td>\n",
       "      <td>123fe0be9804</td>\n",
       "      <td>48.898518</td>\n",
       "      <td>2.377969</td>\n",
       "      <td>0</td>\n",
       "      <td>0</td>\n",
       "      <td>0.0</td>\n",
       "      <td>18.065</td>\n",
       "    </tr>\n",
       "    <tr>\n",
       "      <th>3</th>\n",
       "      <td>1970-01-01 00:25:17.828328525</td>\n",
       "      <td>123fe0be9804</td>\n",
       "      <td>48.898518</td>\n",
       "      <td>2.377969</td>\n",
       "      <td>0</td>\n",
       "      <td>0</td>\n",
       "      <td>0.0</td>\n",
       "      <td>18.065</td>\n",
       "    </tr>\n",
       "    <tr>\n",
       "      <th>4</th>\n",
       "      <td>1970-01-01 00:25:17.828333555</td>\n",
       "      <td>123fe0be9804</td>\n",
       "      <td>48.898518</td>\n",
       "      <td>2.377969</td>\n",
       "      <td>0</td>\n",
       "      <td>0</td>\n",
       "      <td>0.0</td>\n",
       "      <td>18.065</td>\n",
       "    </tr>\n",
       "  </tbody>\n",
       "</table>\n",
       "</div>"
      ],
      "text/plain": [
       "                      dateentry      deviceid   latitude  longitude  altitude  \\\n",
       "0 1970-01-01 00:25:17.828313422  123fe0be9804  48.898518   2.377969         0   \n",
       "1 1970-01-01 00:25:17.828318448  123fe0be9804  48.898518   2.377969         0   \n",
       "2 1970-01-01 00:25:17.828323487  123fe0be9804  48.898518   2.377969         0   \n",
       "3 1970-01-01 00:25:17.828328525  123fe0be9804  48.898518   2.377969         0   \n",
       "4 1970-01-01 00:25:17.828333555  123fe0be9804  48.898518   2.377969         0   \n",
       "\n",
       "   bearing  speed  accuracy  \n",
       "0        0    0.0    18.065  \n",
       "1        0    0.0    18.065  \n",
       "2        0    0.0    18.065  \n",
       "3        0    0.0    18.065  \n",
       "4        0    0.0    18.065  "
      ]
     },
     "execution_count": 3,
     "metadata": {},
     "output_type": "execute_result"
    }
   ],
   "source": [
    "\n",
    "\n",
    "## Les trajets APR dans Paris \n",
    "\n",
    "\n",
    "import matplotlib.pyplot as plt \n",
    "%matplotlib inline \n",
    "\n",
    "\n",
    "\n",
    "names = [\"col%i\"%(i) for i in np.arange(8)]\n",
    "\n",
    "Trajet_Speed_lisser_df = pd.read_csv(\"gabrawdata (2).csv\", names = names)\n",
    "Trajet_Speed_lisser_df.columns = [\"dateentry\" , \"deviceid\" , \"latitude\" , \"longitude\" , \"altitude\" , \"bearing\" , \"speed\" , \"accuracy\"]\n",
    "\n",
    "Trajet_Speed_lisser_df.dateentry = pd.to_datetime(Trajet_Speed_lisser_df.dateentry)\n",
    "Trajet_Speed_lisser_df = Trajet_Speed_lisser_df.iloc[0:800,]\n",
    "\n",
    "Trajet_Speed_lisser_df.head()"
   ]
  },
  {
   "cell_type": "code",
   "execution_count": 4,
   "metadata": {},
   "outputs": [
    {
     "data": {
      "text/plain": [
       "1970-01-01 00:25:17.829482318    1\n",
       "1970-01-01 00:25:17.829848445    1\n",
       "1970-01-01 00:25:17.834253747    1\n",
       "1970-01-01 00:25:17.829642761    1\n",
       "1970-01-01 00:25:17.832253958    1\n",
       "1970-01-01 00:25:17.834082821    1\n",
       "1970-01-01 00:25:17.829190147    1\n",
       "1970-01-01 00:25:17.833736706    1\n",
       "1970-01-01 00:25:17.833144862    1\n",
       "1970-01-01 00:25:17.833288218    1\n",
       "1970-01-01 00:25:17.836221173    1\n",
       "1970-01-01 00:25:17.834212906    1\n",
       "1970-01-01 00:25:17.834271277    1\n",
       "1970-01-01 00:25:17.833766732    1\n",
       "1970-01-01 00:25:17.831930403    1\n",
       "1970-01-01 00:25:17.829218850    1\n",
       "1970-01-01 00:25:17.829524001    1\n",
       "1970-01-01 00:25:17.829726752    1\n",
       "1970-01-01 00:25:17.832308149    1\n",
       "1970-01-01 00:25:17.836202553    1\n",
       "1970-01-01 00:25:17.829343800    1\n",
       "1970-01-01 00:25:17.836063286    1\n",
       "1970-01-01 00:25:17.830314547    1\n",
       "1970-01-01 00:25:17.829173810    1\n",
       "1970-01-01 00:25:17.833447950    1\n",
       "1970-01-01 00:25:17.829587572    1\n",
       "1970-01-01 00:25:17.830730357    1\n",
       "1970-01-01 00:25:17.832260215    1\n",
       "1970-01-01 00:25:17.830060618    1\n",
       "1970-01-01 00:25:17.828395592    1\n",
       "                                ..\n",
       "1970-01-01 00:25:17.833870782    1\n",
       "1970-01-01 00:25:17.829131708    1\n",
       "1970-01-01 00:25:17.833149882    1\n",
       "1970-01-01 00:25:17.830463625    1\n",
       "1970-01-01 00:25:17.829858688    1\n",
       "1970-01-01 00:25:17.833653636    1\n",
       "1970-01-01 00:25:17.830583294    1\n",
       "1970-01-01 00:25:17.829315975    1\n",
       "1970-01-01 00:25:17.832652246    1\n",
       "1970-01-01 00:25:17.829513560    1\n",
       "1970-01-01 00:25:17.836068307    1\n",
       "1970-01-01 00:25:17.828851152    1\n",
       "1970-01-01 00:25:17.829828079    1\n",
       "1970-01-01 00:25:17.830694381    1\n",
       "1970-01-01 00:25:17.829889819    1\n",
       "1970-01-01 00:25:17.828956706    1\n",
       "1970-01-01 00:25:17.832916450    1\n",
       "1970-01-01 00:25:17.830469116    1\n",
       "1970-01-01 00:25:17.833741818    1\n",
       "1970-01-01 00:25:17.829731832    1\n",
       "1970-01-01 00:25:17.834016856    1\n",
       "1970-01-01 00:25:17.832525299    1\n",
       "1970-01-01 00:25:17.829760075    1\n",
       "1970-01-01 00:25:17.830249968    1\n",
       "1970-01-01 00:25:17.832498574    1\n",
       "1970-01-01 00:25:17.830639575    1\n",
       "1970-01-01 00:25:17.828845554    1\n",
       "1970-01-01 00:25:17.830667658    1\n",
       "1970-01-01 00:25:17.831331209    1\n",
       "1970-01-01 00:25:17.829814452    1\n",
       "Name: dateentry, Length: 800, dtype: int64"
      ]
     },
     "execution_count": 4,
     "metadata": {},
     "output_type": "execute_result"
    }
   ],
   "source": [
    "Trajet_Speed_lisser_df.iloc[:, 0].value_counts()\n"
   ]
  },
  {
   "cell_type": "markdown",
   "metadata": {},
   "source": [
    "## on enlève les doublons éventuelles "
   ]
  },
  {
   "cell_type": "code",
   "execution_count": 6,
   "metadata": {},
   "outputs": [],
   "source": [
    "Trajet_Speed_lisser_df = Trajet_Speed_lisser_df.drop_duplicates()"
   ]
  },
  {
   "cell_type": "code",
   "execution_count": 7,
   "metadata": {},
   "outputs": [],
   "source": [
    "Trajet_Speed_lisser_df = Trajet_Speed_lisser_df.sort_values(\"dateentry\")"
   ]
  },
  {
   "cell_type": "markdown",
   "metadata": {},
   "source": [
    "## Jointure entre les données APR et les données open data ratp\n"
   ]
  },
  {
   "cell_type": "code",
   "execution_count": 8,
   "metadata": {},
   "outputs": [
    {
     "data": {
      "text/html": [
       "<div>\n",
       "<style scoped>\n",
       "    .dataframe tbody tr th:only-of-type {\n",
       "        vertical-align: middle;\n",
       "    }\n",
       "\n",
       "    .dataframe tbody tr th {\n",
       "        vertical-align: top;\n",
       "    }\n",
       "\n",
       "    .dataframe thead th {\n",
       "        text-align: right;\n",
       "    }\n",
       "</style>\n",
       "<table border=\"1\" class=\"dataframe\">\n",
       "  <thead>\n",
       "    <tr style=\"text-align: right;\">\n",
       "      <th></th>\n",
       "      <th>Latitude</th>\n",
       "      <th>Longitude</th>\n",
       "      <th>Station</th>\n",
       "      <th>ligne</th>\n",
       "      <th>Departement</th>\n",
       "      <th>Sens</th>\n",
       "    </tr>\n",
       "  </thead>\n",
       "  <tbody>\n",
       "    <tr>\n",
       "      <th>0</th>\n",
       "      <td>48.8929732362</td>\n",
       "      <td>2.34465558406</td>\n",
       "      <td>MAIRIE DU 18E - JULES JOFFRIN</td>\n",
       "      <td>8.0</td>\n",
       "      <td>75</td>\n",
       "      <td>R</td>\n",
       "    </tr>\n",
       "    <tr>\n",
       "      <th>1</th>\n",
       "      <td>48.8850140489</td>\n",
       "      <td>2.39652097146</td>\n",
       "      <td>BUTTE DU CHAPEAU ROUGE</td>\n",
       "      <td>3.0</td>\n",
       "      <td>75</td>\n",
       "      <td>R</td>\n",
       "    </tr>\n",
       "    <tr>\n",
       "      <th>2</th>\n",
       "      <td>48.8895673151</td>\n",
       "      <td>2.33882198677</td>\n",
       "      <td>LAMARCK - CAULAINCOURT</td>\n",
       "      <td>8.0</td>\n",
       "      <td>75</td>\n",
       "      <td>R</td>\n",
       "    </tr>\n",
       "    <tr>\n",
       "      <th>3</th>\n",
       "      <td>48.8635725023</td>\n",
       "      <td>2.40893329375</td>\n",
       "      <td>PORTE DE BAGNOLET</td>\n",
       "      <td>3.0</td>\n",
       "      <td>75</td>\n",
       "      <td>A</td>\n",
       "    </tr>\n",
       "    <tr>\n",
       "      <th>4</th>\n",
       "      <td>48.8768211421</td>\n",
       "      <td>2.40673066842</td>\n",
       "      <td>PORTE DES LILAS</td>\n",
       "      <td>3.0</td>\n",
       "      <td>75</td>\n",
       "      <td>R</td>\n",
       "    </tr>\n",
       "  </tbody>\n",
       "</table>\n",
       "</div>"
      ],
      "text/plain": [
       "        Latitude      Longitude                        Station  ligne  \\\n",
       "0  48.8929732362  2.34465558406  MAIRIE DU 18E - JULES JOFFRIN    8.0   \n",
       "1  48.8850140489  2.39652097146         BUTTE DU CHAPEAU ROUGE    3.0   \n",
       "2  48.8895673151  2.33882198677         LAMARCK - CAULAINCOURT    8.0   \n",
       "3  48.8635725023  2.40893329375              PORTE DE BAGNOLET    3.0   \n",
       "4  48.8768211421  2.40673066842                PORTE DES LILAS    3.0   \n",
       "\n",
       "   Departement Sens  \n",
       "0           75    R  \n",
       "1           75    R  \n",
       "2           75    R  \n",
       "3           75    A  \n",
       "4           75    R  "
      ]
     },
     "execution_count": 8,
     "metadata": {},
     "output_type": "execute_result"
    }
   ],
   "source": [
    "bus = pd.read_csv(\"accessibilite-des-arrets-de-bus-ratp.csv\", sep = \";\" , header = 0 )\n",
    "bus.columns = ['IDPTAR' , 'Nom Arrêt' , 'INSEE' , 'Departement' , \n",
    "               'X',  'Y' ,  'AccessUFR' , 'SonorePP', \n",
    "               'VisuellePP' ,'SonoreSP' , \n",
    "               'Visuelle SP' , 'Code Stif' , 'coord',\n",
    "               'ID AMIVIF',  'PAQT',  'Téléphone' , 'Dateaccessibilité', \n",
    "               'QuaiTrain' , 'Sens' , 'Ligne']\n",
    "\n",
    "station_bus_df = bus = bus[['Nom Arrêt' , 'Departement' , 'X' , 'Y',  'coord' ,'Sens' , 'Ligne' ]]\n",
    "\n",
    "\n",
    "station_bus_df = station_bus_df.iloc[0:800,]\n",
    "\n",
    "\n",
    "\n",
    "station_bus_df.head()\n",
    "\n",
    "\n",
    "## détection de multimodalité avec jupyter , l'objectif est de reconnaitre avec précision les \n",
    "\n",
    "\n",
    "Position_bus1 = station_bus_df.iloc[:,4]\n",
    "Position_bus2 = station_bus_df.iloc[:,0]\n",
    "\n",
    "station_bus_df1 = pd.concat([Position_bus1 , Position_bus2] , axis = 1)\n",
    "\n",
    "\n",
    "station_bus_df1.columns = [\"LatitudeLongitude\" , \"Station\"]\n",
    "\n",
    "station_bus_df1.head()\n",
    "bus_stop =  pd.DataFrame(station_bus_df1.LatitudeLongitude.str.split(' ',1).tolist(), \n",
    "                       columns = ['Latitude','Longitude'], index = station_bus_df.index)\n",
    "bus_stop['Latitude'] = [x.replace(\",\" , \"\") for x in bus_stop['Latitude']]\n",
    "\n",
    "bus_stop['Station'] = station_bus_df1.Station\n",
    "bus_stop['ligne'] = station_bus_df['Ligne']\n",
    "\n",
    "bus_stop['Departement'] = station_bus_df['Departement']\n",
    "bus_stop['Sens'] = station_bus_df['Sens']\n",
    "bus_stop.head()\n",
    "\n",
    "\n",
    "\n"
   ]
  },
  {
   "cell_type": "code",
   "execution_count": 9,
   "metadata": {},
   "outputs": [],
   "source": [
    "\n",
    "station_bus_coord = {}\n",
    "\n",
    "for data in bus_stop.iterrows():\n",
    "    ligne = data[1]\n",
    "    if ligne['Station'] not in  bus_stop['Station'].values :\n",
    "        continue \n",
    "    else :\n",
    "        station_bus_coord[ligne['Station']] = (float(ligne['Latitude']) ,float(ligne['Longitude']))\n",
    "        \n",
    "        \n",
    "    \n",
    "\n",
    "from geopy import distance\n",
    "\n",
    "\n",
    "## Trajets proches des stations de bus à la main\n",
    "## 1. Dans cette partie on récupère le dictionnaire précédent \n",
    "\n",
    "## 2. on exécute le premier tuple pour comparer et retourner ensuite la clé de la station la plus proche \n",
    "## 3. plus la valeur et la distance entre les points \n",
    "## le temps d'exécution ici me pose un vrai problème \n",
    "## il faut que je trouve le moyen d'améliorer mon code \n",
    "def trajet_proche(emplacement, emplacement_dict):\n",
    "    \"\"\" on prend un tuple de latitude et de longitude et on le compare à un dictionnaire de lieux où clé = nom de station et valeur = (lat, long) \n",
    "    renvoie un tuple de (lieu le plus proche, distance) \"\"\"\n",
    "    trajet_proche = None\n",
    "    for station_bus  in emplacement_dict.keys():\n",
    "        dist = distance.distance(emplacement, emplacement_dict[station_bus]).meters\n",
    "        if  trajet_proche is None:\n",
    "            trajet_proche = (station_bus, dist)\n",
    "        elif dist < trajet_proche[1]:\n",
    "            trajet_proche = (station_bus, dist)\n",
    "    return trajet_proche\n"
   ]
  },
  {
   "cell_type": "code",
   "execution_count": 10,
   "metadata": {},
   "outputs": [],
   "source": [
    "Trajet_Speed_lisser_df['trajet_proche']= Trajet_Speed_lisser_df.apply(lambda x : trajet_proche((x['latitude'], x['longitude']), station_bus_coord),axis = 1) \n",
    "Trajet_Speed_lisser_df.head()\n",
    "\n",
    "\n",
    "Trajet_Speed_lisser_df['Arret'] = [t[0] for t in Trajet_Speed_lisser_df.trajet_proche]\n",
    "\n",
    "Trajet_Speed_lisser_df['distance_arret'] = [t[1] for t in Trajet_Speed_lisser_df.trajet_proche]\n",
    "Trajet_Speed_lisser_df['distance_arret'] = [t[1] for t in Trajet_Speed_lisser_df.trajet_proche]\n",
    "\n",
    "\n",
    "\n",
    "\n",
    "\n"
   ]
  },
  {
   "cell_type": "code",
   "execution_count": 11,
   "metadata": {},
   "outputs": [
    {
     "data": {
      "text/html": [
       "<div>\n",
       "<style scoped>\n",
       "    .dataframe tbody tr th:only-of-type {\n",
       "        vertical-align: middle;\n",
       "    }\n",
       "\n",
       "    .dataframe tbody tr th {\n",
       "        vertical-align: top;\n",
       "    }\n",
       "\n",
       "    .dataframe thead th {\n",
       "        text-align: right;\n",
       "    }\n",
       "</style>\n",
       "<table border=\"1\" class=\"dataframe\">\n",
       "  <thead>\n",
       "    <tr style=\"text-align: right;\">\n",
       "      <th></th>\n",
       "      <th>dateentry</th>\n",
       "      <th>deviceid</th>\n",
       "      <th>latitude</th>\n",
       "      <th>longitude</th>\n",
       "      <th>altitude</th>\n",
       "      <th>bearing</th>\n",
       "      <th>speed</th>\n",
       "      <th>accuracy</th>\n",
       "      <th>trajet_proche</th>\n",
       "      <th>Arret</th>\n",
       "      <th>distance_arret</th>\n",
       "    </tr>\n",
       "  </thead>\n",
       "  <tbody>\n",
       "    <tr>\n",
       "      <th>0</th>\n",
       "      <td>1970-01-01 00:25:17.828313422</td>\n",
       "      <td>123fe0be9804</td>\n",
       "      <td>48.898518</td>\n",
       "      <td>2.377969</td>\n",
       "      <td>0</td>\n",
       "      <td>0</td>\n",
       "      <td>0.0</td>\n",
       "      <td>18.065</td>\n",
       "      <td>(CANAL SAINT DENIS, 187.05071764775275)</td>\n",
       "      <td>CANAL SAINT DENIS</td>\n",
       "      <td>187.050718</td>\n",
       "    </tr>\n",
       "    <tr>\n",
       "      <th>1</th>\n",
       "      <td>1970-01-01 00:25:17.828318448</td>\n",
       "      <td>123fe0be9804</td>\n",
       "      <td>48.898518</td>\n",
       "      <td>2.377969</td>\n",
       "      <td>0</td>\n",
       "      <td>0</td>\n",
       "      <td>0.0</td>\n",
       "      <td>18.065</td>\n",
       "      <td>(CANAL SAINT DENIS, 187.05071764775275)</td>\n",
       "      <td>CANAL SAINT DENIS</td>\n",
       "      <td>187.050718</td>\n",
       "    </tr>\n",
       "    <tr>\n",
       "      <th>2</th>\n",
       "      <td>1970-01-01 00:25:17.828323487</td>\n",
       "      <td>123fe0be9804</td>\n",
       "      <td>48.898518</td>\n",
       "      <td>2.377969</td>\n",
       "      <td>0</td>\n",
       "      <td>0</td>\n",
       "      <td>0.0</td>\n",
       "      <td>18.065</td>\n",
       "      <td>(CANAL SAINT DENIS, 187.05071764775275)</td>\n",
       "      <td>CANAL SAINT DENIS</td>\n",
       "      <td>187.050718</td>\n",
       "    </tr>\n",
       "    <tr>\n",
       "      <th>3</th>\n",
       "      <td>1970-01-01 00:25:17.828328525</td>\n",
       "      <td>123fe0be9804</td>\n",
       "      <td>48.898518</td>\n",
       "      <td>2.377969</td>\n",
       "      <td>0</td>\n",
       "      <td>0</td>\n",
       "      <td>0.0</td>\n",
       "      <td>18.065</td>\n",
       "      <td>(CANAL SAINT DENIS, 187.05071764775275)</td>\n",
       "      <td>CANAL SAINT DENIS</td>\n",
       "      <td>187.050718</td>\n",
       "    </tr>\n",
       "    <tr>\n",
       "      <th>4</th>\n",
       "      <td>1970-01-01 00:25:17.828333555</td>\n",
       "      <td>123fe0be9804</td>\n",
       "      <td>48.898518</td>\n",
       "      <td>2.377969</td>\n",
       "      <td>0</td>\n",
       "      <td>0</td>\n",
       "      <td>0.0</td>\n",
       "      <td>18.065</td>\n",
       "      <td>(CANAL SAINT DENIS, 187.05071764775275)</td>\n",
       "      <td>CANAL SAINT DENIS</td>\n",
       "      <td>187.050718</td>\n",
       "    </tr>\n",
       "  </tbody>\n",
       "</table>\n",
       "</div>"
      ],
      "text/plain": [
       "                      dateentry      deviceid   latitude  longitude  altitude  \\\n",
       "0 1970-01-01 00:25:17.828313422  123fe0be9804  48.898518   2.377969         0   \n",
       "1 1970-01-01 00:25:17.828318448  123fe0be9804  48.898518   2.377969         0   \n",
       "2 1970-01-01 00:25:17.828323487  123fe0be9804  48.898518   2.377969         0   \n",
       "3 1970-01-01 00:25:17.828328525  123fe0be9804  48.898518   2.377969         0   \n",
       "4 1970-01-01 00:25:17.828333555  123fe0be9804  48.898518   2.377969         0   \n",
       "\n",
       "   bearing  speed  accuracy                            trajet_proche  \\\n",
       "0        0    0.0    18.065  (CANAL SAINT DENIS, 187.05071764775275)   \n",
       "1        0    0.0    18.065  (CANAL SAINT DENIS, 187.05071764775275)   \n",
       "2        0    0.0    18.065  (CANAL SAINT DENIS, 187.05071764775275)   \n",
       "3        0    0.0    18.065  (CANAL SAINT DENIS, 187.05071764775275)   \n",
       "4        0    0.0    18.065  (CANAL SAINT DENIS, 187.05071764775275)   \n",
       "\n",
       "               Arret  distance_arret  \n",
       "0  CANAL SAINT DENIS      187.050718  \n",
       "1  CANAL SAINT DENIS      187.050718  \n",
       "2  CANAL SAINT DENIS      187.050718  \n",
       "3  CANAL SAINT DENIS      187.050718  \n",
       "4  CANAL SAINT DENIS      187.050718  "
      ]
     },
     "execution_count": 11,
     "metadata": {},
     "output_type": "execute_result"
    }
   ],
   "source": [
    "\n",
    "Trajet_Speed_lisser_df.head()"
   ]
  },
  {
   "cell_type": "code",
   "execution_count": 12,
   "metadata": {},
   "outputs": [],
   "source": [
    "\n",
    "Trajet_Speed_lisser_df = Trajet_Speed_lisser_df[[\"altitude\" , \"speed\", \"distance_arret\", \"dateentry\"]]\n",
    "\n",
    "\n",
    "\n",
    "\n",
    "\n"
   ]
  },
  {
   "cell_type": "markdown",
   "metadata": {},
   "source": [
    "## Objectifs"
   ]
  },
  {
   "cell_type": "markdown",
   "metadata": {},
   "source": [
    "### Buts principaux de l’étude d’un processus aléatoire à partir d’une série temporelle:"
   ]
  },
  {
   "cell_type": "markdown",
   "metadata": {},
   "source": [
    "I. Décrire la série: valeurs manquantes? aberrantes? y a-t-il une tendance générale? un effet saisonnier évident?\n",
    "\n",
    "II. résumer et/ou expliquer les variations: peut-on isoler explicitement la tendance générale? la composante saisonnière?\n",
    "\n",
    "III. prévoir les valeurs futures: quel sera la vitesse à tel moment par exemple , dans un an? Pour les deux derniers objectifs, on peut lisser et/ou modéliser la série."
   ]
  },
  {
   "cell_type": "markdown",
   "metadata": {},
   "source": [
    "### Definition"
   ]
  },
  {
   "cell_type": "markdown",
   "metadata": {},
   "source": [
    "Une série temporelle {xt}\n",
    "\n",
    "\n",
    "I. c'est la réalisation d’un processus aléatoire\n",
    "\n",
    "II. elle est indicée par le temps, noté {Xt}: pour chaque instant t,\n",
    "\n",
    "III. Xt est une variable aléatoire dont on a une réalisation {xt}"
   ]
  },
  {
   "cell_type": "markdown",
   "metadata": {},
   "source": [
    "Modélisation\n",
    "Modèle déterministe: Xt = f (t, \u000ft ) où les erreurs du modèle \u000ft\n",
    "sont va iid centrées. \n",
    "\n",
    "\n",
    "Exemples:\n",
    "1. Modèle additif classique: Xt = Mt + St + \u000ft avec\n",
    "    \n",
    "I Mt tendance, fonction déterministe\n",
    "\n",
    "II St saisonnalité, fonction déterministe\n",
    "\n",
    "\n",
    "2. Modèle multiplicatif: Xt = Mt (1 + St )(1 + \u000ft )\n",
    "    \n",
    "    \n",
    "    \n",
    "Modèle stochastique: comme modèle déterministe mais les \u000ft ne\n",
    "sont pas iid: \u000ft = g(Xt−1, Xt−2, ..., \u0011t−1, \u0011t−2, ...) avec {\u0011t} bruit\n",
    "blanc (v.a. non corrélées centrées).\n",
    "\n",
    "\n",
    "Exemple:\n",
    "    \n",
    "Xt = \b1Xt−1 + \b2Xt−2 + \u00121\u0011t−1 + \u0011t\n",
    "\n",
    "Modèle ARMA(2,1), cas particulier d’un modèle SARIMA\n",
    "Dans ces modèles on pourra ajouter des variables explicatives\n",
    "exogènes: variables socio-économique, climatiques. . ."
   ]
  },
  {
   "cell_type": "markdown",
   "metadata": {},
   "source": [
    "### Description"
   ]
  },
  {
   "cell_type": "code",
   "execution_count": 13,
   "metadata": {},
   "outputs": [
    {
     "data": {
      "text/plain": [
       "<matplotlib.axes._subplots.AxesSubplot at 0x2bedc3eddd8>"
      ]
     },
     "execution_count": 13,
     "metadata": {},
     "output_type": "execute_result"
    },
    {
     "data": {
      "image/png": "[encoded data removed]",
      "text/plain": [
       "<Figure size 432x288 with 1 Axes>"
      ]
     },
     "metadata": {
      "needs_background": "light"
     },
     "output_type": "display_data"
    }
   ],
   "source": [
    "Trajet_Speed_lisser_df.plot(x = \"dateentry\" , y = \"speed\")"
   ]
  },
  {
   "cell_type": "markdown",
   "metadata": {},
   "source": [
    ". Moyenne et variance ne sont pas constantes \n",
    "\n",
    ". Evolution generale la vitesse augmente au cours du temps correspondant à la colonne dateentry \n",
    "\n"
   ]
  },
  {
   "cell_type": "code",
   "execution_count": 14,
   "metadata": {},
   "outputs": [
    {
     "data": {
      "text/plain": [
       "<matplotlib.axes._subplots.AxesSubplot at 0x2bedccd89e8>"
      ]
     },
     "execution_count": 14,
     "metadata": {},
     "output_type": "execute_result"
    },
    {
     "data": {
      "image/png": "[encoded data removed]",
      "text/plain": [
       "<Figure size 432x288 with 1 Axes>"
      ]
     },
     "metadata": {
      "needs_background": "light"
     },
     "output_type": "display_data"
    }
   ],
   "source": [
    "Trajet_Speed_lisser_df.plot(x = \"dateentry\" , y = \"distance_arret\")"
   ]
  },
  {
   "cell_type": "markdown",
   "metadata": {},
   "source": [
    ". Moyenne et variance ne sont pas constantes \n",
    "\n",
    ". Evolution generale la vitesse augmente au cours du temps correspondant à la colonne dateentry \n"
   ]
  },
  {
   "cell_type": "markdown",
   "metadata": {},
   "source": [
    "### On enlève tout ce qui précède les périodes  ou  la série se comporte de façon différente"
   ]
  },
  {
   "cell_type": "markdown",
   "metadata": {},
   "source": [
    " ## Ici on a fait le choix de la date \"1970-01-01 00:25:17.828428896\" . "
   ]
  },
  {
   "cell_type": "code",
   "execution_count": 15,
   "metadata": {},
   "outputs": [
    {
     "data": {
      "text/plain": [
       "<matplotlib.axes._subplots.AxesSubplot at 0x2bedcd2c470>"
      ]
     },
     "execution_count": 15,
     "metadata": {},
     "output_type": "execute_result"
    },
    {
     "data": {
      "image/png": "[encoded data removed]",
      "text/plain": [
       "<Figure size 1008x288 with 1 Axes>"
      ]
     },
     "metadata": {
      "needs_background": "light"
     },
     "output_type": "display_data"
    }
   ],
   "source": [
    "Trajet_Speed_lisser_df [Trajet_Speed_lisser_df.dateentry >= \"1970-01-01 00:25:17.828447801\"].plot(x=\"dateentry\", y=\"distance_arret\", figsize=(14,4))"
   ]
  },
  {
   "cell_type": "markdown",
   "metadata": {},
   "source": [
    "### On peut étudier les corrélations entre les différentes dates. Le module le plus approprié est statsmodels."
   ]
  },
  {
   "cell_type": "code",
   "execution_count": 16,
   "metadata": {},
   "outputs": [
    {
     "data": {
      "text/html": [
       "<div>\n",
       "<style scoped>\n",
       "    .dataframe tbody tr th:only-of-type {\n",
       "        vertical-align: middle;\n",
       "    }\n",
       "\n",
       "    .dataframe tbody tr th {\n",
       "        vertical-align: top;\n",
       "    }\n",
       "\n",
       "    .dataframe thead th {\n",
       "        text-align: right;\n",
       "    }\n",
       "</style>\n",
       "<table border=\"1\" class=\"dataframe\">\n",
       "  <thead>\n",
       "    <tr style=\"text-align: right;\">\n",
       "      <th></th>\n",
       "      <th>altitude</th>\n",
       "      <th>speed</th>\n",
       "      <th>distance_arret</th>\n",
       "      <th>dateentry</th>\n",
       "    </tr>\n",
       "  </thead>\n",
       "  <tbody>\n",
       "    <tr>\n",
       "      <th>20</th>\n",
       "      <td>0</td>\n",
       "      <td>0.0</td>\n",
       "      <td>185.597001</td>\n",
       "      <td>1970-01-01 00:25:17.828452818</td>\n",
       "    </tr>\n",
       "    <tr>\n",
       "      <th>21</th>\n",
       "      <td>0</td>\n",
       "      <td>0.0</td>\n",
       "      <td>185.597001</td>\n",
       "      <td>1970-01-01 00:25:17.828457843</td>\n",
       "    </tr>\n",
       "    <tr>\n",
       "      <th>22</th>\n",
       "      <td>0</td>\n",
       "      <td>0.0</td>\n",
       "      <td>185.597001</td>\n",
       "      <td>1970-01-01 00:25:17.828526396</td>\n",
       "    </tr>\n",
       "    <tr>\n",
       "      <th>23</th>\n",
       "      <td>0</td>\n",
       "      <td>0.0</td>\n",
       "      <td>185.597001</td>\n",
       "      <td>1970-01-01 00:25:17.828547050</td>\n",
       "    </tr>\n",
       "    <tr>\n",
       "      <th>24</th>\n",
       "      <td>0</td>\n",
       "      <td>0.0</td>\n",
       "      <td>185.597001</td>\n",
       "      <td>1970-01-01 00:25:17.828552080</td>\n",
       "    </tr>\n",
       "  </tbody>\n",
       "</table>\n",
       "</div>"
      ],
      "text/plain": [
       "    altitude  speed  distance_arret                     dateentry\n",
       "20         0    0.0      185.597001 1970-01-01 00:25:17.828452818\n",
       "21         0    0.0      185.597001 1970-01-01 00:25:17.828457843\n",
       "22         0    0.0      185.597001 1970-01-01 00:25:17.828526396\n",
       "23         0    0.0      185.597001 1970-01-01 00:25:17.828547050\n",
       "24         0    0.0      185.597001 1970-01-01 00:25:17.828552080"
      ]
     },
     "execution_count": 16,
     "metadata": {},
     "output_type": "execute_result"
    }
   ],
   "source": [
    "data = Trajet_Speed_lisser_df[Trajet_Speed_lisser_df.dateentry > \"1970-01-01 00:25:17.828447801\"].copy()\n",
    "\n",
    "data.head()"
   ]
  },
  {
   "cell_type": "code",
   "execution_count": 17,
   "metadata": {},
   "outputs": [
    {
     "data": {
      "text/plain": [
       "<matplotlib.axes._subplots.AxesSubplot at 0x2bedd0bc400>"
      ]
     },
     "execution_count": 17,
     "metadata": {},
     "output_type": "execute_result"
    },
    {
     "data": {
      "image/png": "[encoded data removed]",
      "text/plain": [
       "<Figure size 1008x288 with 1 Axes>"
      ]
     },
     "metadata": {
      "needs_background": "light"
     },
     "output_type": "display_data"
    }
   ],
   "source": [
    "from statsmodels.tsa.tsatools import detrend\n",
    "notrend = detrend(data.speed)\n",
    "data[\"notrend\"] = notrend\n",
    "data.plot(x=\"dateentry\", y=[\"speed\", \"notrend\"], figsize=(14,4))"
   ]
  },
  {
   "cell_type": "markdown",
   "metadata": {},
   "source": [
    "## On vérifie pour la période \n",
    "\n",
    "\n"
   ]
  },
  {
   "cell_type": "code",
   "execution_count": 18,
   "metadata": {},
   "outputs": [
    {
     "data": {
      "text/plain": [
       "array([ 1.        ,  0.1530124 ,  0.31159822,  0.2128089 ,  0.12794634,\n",
       "        0.25891568,  0.26893075,  0.10605022,  0.28701298,  0.07733095,\n",
       "        0.06384535,  0.06652177,  0.01966677,  0.05956126,  0.04122789,\n",
       "        0.06492724,  0.06867806,  0.00138105,  0.00382894,  0.01285194,\n",
       "       -0.02295302,  0.02541651,  0.01760266, -0.02194828,  0.00421881,\n",
       "       -0.04182118, -0.05665893, -0.02736155, -0.05444854, -0.05924119,\n",
       "       -0.05522342, -0.05671284, -0.04776611, -0.06870629, -0.07304925,\n",
       "       -0.0740747 , -0.05774693, -0.05831659, -0.06744438, -0.06637838,\n",
       "       -0.06750673])"
      ]
     },
     "execution_count": 18,
     "metadata": {},
     "output_type": "execute_result"
    }
   ],
   "source": [
    "from statsmodels.tsa.stattools import acf\n",
    "cor = acf(data.notrend)\n",
    "cor "
   ]
  },
  {
   "cell_type": "code",
   "execution_count": 19,
   "metadata": {},
   "outputs": [
    {
     "data": {
      "text/plain": [
       "[<matplotlib.lines.Line2D at 0x2beddc43860>]"
      ]
     },
     "execution_count": 19,
     "metadata": {},
     "output_type": "execute_result"
    },
    {
     "data": {
      "image/png": "[encoded data removed]",
      "text/plain": [
       "<Figure size 432x288 with 1 Axes>"
      ]
     },
     "metadata": {
      "needs_background": "light"
     },
     "output_type": "display_data"
    }
   ],
   "source": [
    "plt.plot(cor)"
   ]
  },
  {
   "cell_type": "markdown",
   "metadata": {},
   "source": [
    "## Autocorrélation partielle "
   ]
  },
  {
   "cell_type": "code",
   "execution_count": 20,
   "metadata": {},
   "outputs": [
    {
     "data": {
      "text/plain": [
       "[<matplotlib.lines.Line2D at 0x2beddcaa588>]"
      ]
     },
     "execution_count": 20,
     "metadata": {},
     "output_type": "execute_result"
    },
    {
     "data": {
      "image/png": "[encoded data removed]",
      "text/plain": [
       "<Figure size 432x288 with 1 Axes>"
      ]
     },
     "metadata": {
      "needs_background": "light"
     },
     "output_type": "display_data"
    }
   ],
   "source": [
    "from statsmodels.tsa.stattools import pacf\n",
    "pcor = pacf(data.notrend)\n",
    "plt.plot(pcor)"
   ]
  },
  {
   "cell_type": "markdown",
   "metadata": {},
   "source": [
    "## Tendance"
   ]
  },
  {
   "cell_type": "markdown",
   "metadata": {},
   "source": [
    "### la fonction detrend retourne la tendance. On l’obtient en réalisant une régression linéaire de Y sur le temps t."
   ]
  },
  {
   "cell_type": "code",
   "execution_count": 21,
   "metadata": {},
   "outputs": [
    {
     "data": {
      "text/plain": [
       "const    0.090036\n",
       "x1       0.000910\n",
       "dtype: float64"
      ]
     },
     "execution_count": 21,
     "metadata": {},
     "output_type": "execute_result"
    }
   ],
   "source": [
    "from statsmodels.api import OLS\n",
    "import numpy\n",
    "y = data.speed\n",
    "X = numpy.ones((len(y), 2))\n",
    "X[:,1] = numpy.arange(0,len(y))\n",
    "reg = OLS(y,X)\n",
    "results = reg.fit()\n",
    "results.params"
   ]
  },
  {
   "cell_type": "code",
   "execution_count": 22,
   "metadata": {},
   "outputs": [
    {
     "data": {
      "image/png": "[encoded data removed]",
      "text/plain": [
       "<Figure size 432x288 with 1 Axes>"
      ]
     },
     "metadata": {
      "needs_background": "light"
     },
     "output_type": "display_data"
    }
   ],
   "source": [
    "from statsmodels.graphics.regressionplots import abline_plot\n",
    "fig = abline_plot(model_results=results)\n",
    "ax = fig.axes[0]\n",
    "ax.plot(X[:,1], y, 'b')\n",
    "ax.margins(.1)"
   ]
  },
  {
   "cell_type": "markdown",
   "metadata": {},
   "source": [
    "\n",
    "## Prédictions linéaires"
   ]
  },
  {
   "cell_type": "markdown",
   "metadata": {},
   "source": [
    "### On sort ici du cadre linéaire pour utiliser le machine learning non linéaire pour faire de la prédiction. \n",
    "### Pour éviter les trop gros problèmes de tendance, on travaillera sur la série différenciée. \n",
    "### En théorie, il faudrait différencier jusqu’à ce qu’on enlève la tendance (voir ARIMA)."
   ]
  },
  {
   "cell_type": "markdown",
   "metadata": {},
   "source": [
    "### On calcule la série différenciée. \n",
    "### Quelques astuces. pandas utilise les indices par défaut pour faire des opérations sur les colonnes. \n",
    "### C’est pourquoi il faut convertir les tableaux extraits du dataframe en numpy array.\n",
    "### N’oubliez pas ce détail. Cela peut devenir très agaçant. On peut aussi utiliser la fonction diff."
   ]
  },
  {
   "cell_type": "code",
   "execution_count": 23,
   "metadata": {},
   "outputs": [
    {
     "name": "stderr",
     "output_type": "stream",
     "text": [
      "C:\\Users\\BADOHOUN\\Anaconda3\\lib\\site-packages\\ipykernel_launcher.py:4: FutureWarning: Method .as_matrix will be removed in a future version. Use .values instead.\n",
      "  after removing the cwd from sys.path.\n"
     ]
    },
    {
     "data": {
      "text/html": [
       "<div>\n",
       "<style scoped>\n",
       "    .dataframe tbody tr th:only-of-type {\n",
       "        vertical-align: middle;\n",
       "    }\n",
       "\n",
       "    .dataframe tbody tr th {\n",
       "        vertical-align: top;\n",
       "    }\n",
       "\n",
       "    .dataframe thead th {\n",
       "        text-align: right;\n",
       "    }\n",
       "</style>\n",
       "<table border=\"1\" class=\"dataframe\">\n",
       "  <thead>\n",
       "    <tr style=\"text-align: right;\">\n",
       "      <th></th>\n",
       "      <th>altitude</th>\n",
       "      <th>speed</th>\n",
       "      <th>distance_arret</th>\n",
       "      <th>dateentry</th>\n",
       "      <th>notrend</th>\n",
       "      <th>diff</th>\n",
       "    </tr>\n",
       "  </thead>\n",
       "  <tbody>\n",
       "    <tr>\n",
       "      <th>20</th>\n",
       "      <td>0</td>\n",
       "      <td>0.000000</td>\n",
       "      <td>185.597001</td>\n",
       "      <td>1970-01-01 00:25:17.828452818</td>\n",
       "      <td>-0.090036</td>\n",
       "      <td>NaN</td>\n",
       "    </tr>\n",
       "    <tr>\n",
       "      <th>21</th>\n",
       "      <td>0</td>\n",
       "      <td>0.000000</td>\n",
       "      <td>185.597001</td>\n",
       "      <td>1970-01-01 00:25:17.828457843</td>\n",
       "      <td>-0.090946</td>\n",
       "      <td>0.000000</td>\n",
       "    </tr>\n",
       "    <tr>\n",
       "      <th>22</th>\n",
       "      <td>0</td>\n",
       "      <td>0.000000</td>\n",
       "      <td>185.597001</td>\n",
       "      <td>1970-01-01 00:25:17.828526396</td>\n",
       "      <td>-0.091856</td>\n",
       "      <td>0.000000</td>\n",
       "    </tr>\n",
       "    <tr>\n",
       "      <th>23</th>\n",
       "      <td>0</td>\n",
       "      <td>0.000000</td>\n",
       "      <td>185.597001</td>\n",
       "      <td>1970-01-01 00:25:17.828547050</td>\n",
       "      <td>-0.092766</td>\n",
       "      <td>0.000000</td>\n",
       "    </tr>\n",
       "    <tr>\n",
       "      <th>24</th>\n",
       "      <td>0</td>\n",
       "      <td>0.000000</td>\n",
       "      <td>185.597001</td>\n",
       "      <td>1970-01-01 00:25:17.828552080</td>\n",
       "      <td>-0.093676</td>\n",
       "      <td>0.000000</td>\n",
       "    </tr>\n",
       "    <tr>\n",
       "      <th>795</th>\n",
       "      <td>0</td>\n",
       "      <td>0.387450</td>\n",
       "      <td>189.983761</td>\n",
       "      <td>1970-01-01 00:25:17.836191408</td>\n",
       "      <td>-0.407854</td>\n",
       "      <td>-0.630429</td>\n",
       "    </tr>\n",
       "    <tr>\n",
       "      <th>796</th>\n",
       "      <td>0</td>\n",
       "      <td>0.258323</td>\n",
       "      <td>191.169847</td>\n",
       "      <td>1970-01-01 00:25:17.836196158</td>\n",
       "      <td>-0.537891</td>\n",
       "      <td>-0.129127</td>\n",
       "    </tr>\n",
       "    <tr>\n",
       "      <th>797</th>\n",
       "      <td>0</td>\n",
       "      <td>0.000000</td>\n",
       "      <td>191.169847</td>\n",
       "      <td>1970-01-01 00:25:17.836202553</td>\n",
       "      <td>-0.797124</td>\n",
       "      <td>-0.258323</td>\n",
       "    </tr>\n",
       "    <tr>\n",
       "      <th>798</th>\n",
       "      <td>0</td>\n",
       "      <td>0.000000</td>\n",
       "      <td>191.169847</td>\n",
       "      <td>1970-01-01 00:25:17.836212349</td>\n",
       "      <td>-0.798034</td>\n",
       "      <td>0.000000</td>\n",
       "    </tr>\n",
       "    <tr>\n",
       "      <th>799</th>\n",
       "      <td>0</td>\n",
       "      <td>0.000000</td>\n",
       "      <td>191.169847</td>\n",
       "      <td>1970-01-01 00:25:17.836221173</td>\n",
       "      <td>-0.798944</td>\n",
       "      <td>0.000000</td>\n",
       "    </tr>\n",
       "  </tbody>\n",
       "</table>\n",
       "</div>"
      ],
      "text/plain": [
       "     altitude     speed  distance_arret                     dateentry  \\\n",
       "20          0  0.000000      185.597001 1970-01-01 00:25:17.828452818   \n",
       "21          0  0.000000      185.597001 1970-01-01 00:25:17.828457843   \n",
       "22          0  0.000000      185.597001 1970-01-01 00:25:17.828526396   \n",
       "23          0  0.000000      185.597001 1970-01-01 00:25:17.828547050   \n",
       "24          0  0.000000      185.597001 1970-01-01 00:25:17.828552080   \n",
       "795         0  0.387450      189.983761 1970-01-01 00:25:17.836191408   \n",
       "796         0  0.258323      191.169847 1970-01-01 00:25:17.836196158   \n",
       "797         0  0.000000      191.169847 1970-01-01 00:25:17.836202553   \n",
       "798         0  0.000000      191.169847 1970-01-01 00:25:17.836212349   \n",
       "799         0  0.000000      191.169847 1970-01-01 00:25:17.836221173   \n",
       "\n",
       "      notrend      diff  \n",
       "20  -0.090036       NaN  \n",
       "21  -0.090946  0.000000  \n",
       "22  -0.091856  0.000000  \n",
       "23  -0.092766  0.000000  \n",
       "24  -0.093676  0.000000  \n",
       "795 -0.407854 -0.630429  \n",
       "796 -0.537891 -0.129127  \n",
       "797 -0.797124 -0.258323  \n",
       "798 -0.798034  0.000000  \n",
       "799 -0.798944  0.000000  "
      ]
     },
     "execution_count": 23,
     "metadata": {},
     "output_type": "execute_result"
    }
   ],
   "source": [
    "data[\"diff\"] = np.nan\n",
    "\n",
    "\n",
    "data.iloc[1:, 5] = data.iloc[1:,1].as_matrix() - data.iloc[:len(data)-1 , 1].as_matrix()\n",
    "pd.concat([data.head(n=5), data.tail(n=5)])"
   ]
  },
  {
   "cell_type": "code",
   "execution_count": 24,
   "metadata": {},
   "outputs": [
    {
     "data": {
      "text/plain": [
       "<matplotlib.axes._subplots.AxesSubplot at 0x2bede3ff0f0>"
      ]
     },
     "execution_count": 24,
     "metadata": {},
     "output_type": "execute_result"
    },
    {
     "data": {
      "image/png": "[encoded data removed]",
      "text/plain": [
       "<Figure size 1008x288 with 1 Axes>"
      ]
     },
     "metadata": {
      "needs_background": "light"
     },
     "output_type": "display_data"
    }
   ],
   "source": [
    "data.plot(x=\"dateentry\", y=\"diff\", figsize=(14,4))"
   ]
  },
  {
   "cell_type": "markdown",
   "metadata": {},
   "source": [
    "### Sans information, la meilleure prédiction est la valeur de la veille (où celle dans le passé à l’horizon de prédiction considéré). \n",
    "### Dans notre cas, c’est simplement la variance de la série différenciée :"
   ]
  },
  {
   "cell_type": "code",
   "execution_count": 25,
   "metadata": {},
   "outputs": [
    {
     "data": {
      "text/plain": [
       "2.0398285247254737"
      ]
     },
     "execution_count": 25,
     "metadata": {},
     "output_type": "execute_result"
    }
   ],
   "source": [
    "(data[\"diff\"].apply(lambda x:x**2).sum()/len(data))**0.5"
   ]
  },
  {
   "cell_type": "code",
   "execution_count": 26,
   "metadata": {},
   "outputs": [
    {
     "name": "stderr",
     "output_type": "stream",
     "text": [
      "C:\\Users\\BADOHOUN\\Anaconda3\\lib\\site-packages\\ipykernel_launcher.py:2: FutureWarning: Method .as_matrix will be removed in a future version. Use .values instead.\n",
      "  \n"
     ]
    },
    {
     "data": {
      "text/plain": [
       "array([ 1.81035133e-04, -3.78444597e-01, -1.53408136e-01, -1.99527769e-01,\n",
       "       -2.50223310e-01, -5.23335870e-02,  5.39693896e-02, -7.19102381e-02,\n",
       "        1.14133414e-01, -5.29359300e-01])"
      ]
     },
     "execution_count": 26,
     "metadata": {},
     "output_type": "execute_result"
    }
   ],
   "source": [
    "from statsmodels.tsa.arima_model import ARMA\n",
    "arma_mod = ARMA(data[\"diff\"].dropna().as_matrix(), order=(8, 1))\n",
    "res = arma_mod.fit()\n",
    "res.params"
   ]
  },
  {
   "cell_type": "markdown",
   "metadata": {},
   "source": [
    "## Machine learning"
   ]
  },
  {
   "cell_type": "markdown",
   "metadata": {},
   "source": [
    "### On souhaite utiliser une random forest pour faire de la prédiction. On créé la matrice avec les séries décalées."
   ]
  },
  {
   "cell_type": "code",
   "execution_count": 27,
   "metadata": {},
   "outputs": [
    {
     "data": {
      "text/html": [
       "<div>\n",
       "<style scoped>\n",
       "    .dataframe tbody tr th:only-of-type {\n",
       "        vertical-align: middle;\n",
       "    }\n",
       "\n",
       "    .dataframe tbody tr th {\n",
       "        vertical-align: top;\n",
       "    }\n",
       "\n",
       "    .dataframe thead th {\n",
       "        text-align: right;\n",
       "    }\n",
       "</style>\n",
       "<table border=\"1\" class=\"dataframe\">\n",
       "  <thead>\n",
       "    <tr style=\"text-align: right;\">\n",
       "      <th></th>\n",
       "      <th>altitude</th>\n",
       "      <th>speed</th>\n",
       "      <th>distance_arret</th>\n",
       "      <th>dateentry</th>\n",
       "      <th>notrend</th>\n",
       "      <th>diff</th>\n",
       "      <th>lag1</th>\n",
       "      <th>lag2</th>\n",
       "      <th>lag3</th>\n",
       "      <th>lag4</th>\n",
       "      <th>lag5</th>\n",
       "      <th>lag6</th>\n",
       "      <th>lag7</th>\n",
       "      <th>lag8</th>\n",
       "    </tr>\n",
       "  </thead>\n",
       "  <tbody>\n",
       "    <tr>\n",
       "      <th>20</th>\n",
       "      <td>0</td>\n",
       "      <td>0.000000</td>\n",
       "      <td>185.597001</td>\n",
       "      <td>1970-01-01 00:25:17.828452818</td>\n",
       "      <td>-0.090036</td>\n",
       "      <td>NaN</td>\n",
       "      <td>0.000000</td>\n",
       "      <td>0.000000</td>\n",
       "      <td>0.000000</td>\n",
       "      <td>0.000000</td>\n",
       "      <td>0.000000</td>\n",
       "      <td>0.000000</td>\n",
       "      <td>0.000000</td>\n",
       "      <td>0.000000</td>\n",
       "    </tr>\n",
       "    <tr>\n",
       "      <th>21</th>\n",
       "      <td>0</td>\n",
       "      <td>0.000000</td>\n",
       "      <td>185.597001</td>\n",
       "      <td>1970-01-01 00:25:17.828457843</td>\n",
       "      <td>-0.090946</td>\n",
       "      <td>0.000000</td>\n",
       "      <td>NaN</td>\n",
       "      <td>0.000000</td>\n",
       "      <td>0.000000</td>\n",
       "      <td>0.000000</td>\n",
       "      <td>0.000000</td>\n",
       "      <td>0.000000</td>\n",
       "      <td>0.000000</td>\n",
       "      <td>0.000000</td>\n",
       "    </tr>\n",
       "    <tr>\n",
       "      <th>22</th>\n",
       "      <td>0</td>\n",
       "      <td>0.000000</td>\n",
       "      <td>185.597001</td>\n",
       "      <td>1970-01-01 00:25:17.828526396</td>\n",
       "      <td>-0.091856</td>\n",
       "      <td>0.000000</td>\n",
       "      <td>0.000000</td>\n",
       "      <td>NaN</td>\n",
       "      <td>0.000000</td>\n",
       "      <td>0.000000</td>\n",
       "      <td>0.000000</td>\n",
       "      <td>0.000000</td>\n",
       "      <td>0.000000</td>\n",
       "      <td>0.000000</td>\n",
       "    </tr>\n",
       "    <tr>\n",
       "      <th>23</th>\n",
       "      <td>0</td>\n",
       "      <td>0.000000</td>\n",
       "      <td>185.597001</td>\n",
       "      <td>1970-01-01 00:25:17.828547050</td>\n",
       "      <td>-0.092766</td>\n",
       "      <td>0.000000</td>\n",
       "      <td>0.000000</td>\n",
       "      <td>0.000000</td>\n",
       "      <td>NaN</td>\n",
       "      <td>0.000000</td>\n",
       "      <td>0.000000</td>\n",
       "      <td>0.000000</td>\n",
       "      <td>0.000000</td>\n",
       "      <td>0.000000</td>\n",
       "    </tr>\n",
       "    <tr>\n",
       "      <th>24</th>\n",
       "      <td>0</td>\n",
       "      <td>0.000000</td>\n",
       "      <td>185.597001</td>\n",
       "      <td>1970-01-01 00:25:17.828552080</td>\n",
       "      <td>-0.093676</td>\n",
       "      <td>0.000000</td>\n",
       "      <td>0.000000</td>\n",
       "      <td>0.000000</td>\n",
       "      <td>0.000000</td>\n",
       "      <td>NaN</td>\n",
       "      <td>0.000000</td>\n",
       "      <td>0.000000</td>\n",
       "      <td>0.000000</td>\n",
       "      <td>0.000000</td>\n",
       "    </tr>\n",
       "    <tr>\n",
       "      <th>795</th>\n",
       "      <td>0</td>\n",
       "      <td>0.387450</td>\n",
       "      <td>189.983761</td>\n",
       "      <td>1970-01-01 00:25:17.836191408</td>\n",
       "      <td>-0.407854</td>\n",
       "      <td>-0.630429</td>\n",
       "      <td>0.141238</td>\n",
       "      <td>0.376131</td>\n",
       "      <td>-0.527757</td>\n",
       "      <td>1.028267</td>\n",
       "      <td>0.000000</td>\n",
       "      <td>0.000000</td>\n",
       "      <td>-0.177481</td>\n",
       "      <td>0.177481</td>\n",
       "    </tr>\n",
       "    <tr>\n",
       "      <th>796</th>\n",
       "      <td>0</td>\n",
       "      <td>0.258323</td>\n",
       "      <td>191.169847</td>\n",
       "      <td>1970-01-01 00:25:17.836196158</td>\n",
       "      <td>-0.537891</td>\n",
       "      <td>-0.129127</td>\n",
       "      <td>-0.630429</td>\n",
       "      <td>0.141238</td>\n",
       "      <td>0.376131</td>\n",
       "      <td>-0.527757</td>\n",
       "      <td>1.028267</td>\n",
       "      <td>0.000000</td>\n",
       "      <td>0.000000</td>\n",
       "      <td>-0.177481</td>\n",
       "    </tr>\n",
       "    <tr>\n",
       "      <th>797</th>\n",
       "      <td>0</td>\n",
       "      <td>0.000000</td>\n",
       "      <td>191.169847</td>\n",
       "      <td>1970-01-01 00:25:17.836202553</td>\n",
       "      <td>-0.797124</td>\n",
       "      <td>-0.258323</td>\n",
       "      <td>-0.129127</td>\n",
       "      <td>-0.630429</td>\n",
       "      <td>0.141238</td>\n",
       "      <td>0.376131</td>\n",
       "      <td>-0.527757</td>\n",
       "      <td>1.028267</td>\n",
       "      <td>0.000000</td>\n",
       "      <td>0.000000</td>\n",
       "    </tr>\n",
       "    <tr>\n",
       "      <th>798</th>\n",
       "      <td>0</td>\n",
       "      <td>0.000000</td>\n",
       "      <td>191.169847</td>\n",
       "      <td>1970-01-01 00:25:17.836212349</td>\n",
       "      <td>-0.798034</td>\n",
       "      <td>0.000000</td>\n",
       "      <td>-0.258323</td>\n",
       "      <td>-0.129127</td>\n",
       "      <td>-0.630429</td>\n",
       "      <td>0.141238</td>\n",
       "      <td>0.376131</td>\n",
       "      <td>-0.527757</td>\n",
       "      <td>1.028267</td>\n",
       "      <td>0.000000</td>\n",
       "    </tr>\n",
       "    <tr>\n",
       "      <th>799</th>\n",
       "      <td>0</td>\n",
       "      <td>0.000000</td>\n",
       "      <td>191.169847</td>\n",
       "      <td>1970-01-01 00:25:17.836221173</td>\n",
       "      <td>-0.798944</td>\n",
       "      <td>0.000000</td>\n",
       "      <td>0.000000</td>\n",
       "      <td>-0.258323</td>\n",
       "      <td>-0.129127</td>\n",
       "      <td>-0.630429</td>\n",
       "      <td>0.141238</td>\n",
       "      <td>0.376131</td>\n",
       "      <td>-0.527757</td>\n",
       "      <td>1.028267</td>\n",
       "    </tr>\n",
       "  </tbody>\n",
       "</table>\n",
       "</div>"
      ],
      "text/plain": [
       "     altitude     speed  distance_arret                     dateentry  \\\n",
       "20          0  0.000000      185.597001 1970-01-01 00:25:17.828452818   \n",
       "21          0  0.000000      185.597001 1970-01-01 00:25:17.828457843   \n",
       "22          0  0.000000      185.597001 1970-01-01 00:25:17.828526396   \n",
       "23          0  0.000000      185.597001 1970-01-01 00:25:17.828547050   \n",
       "24          0  0.000000      185.597001 1970-01-01 00:25:17.828552080   \n",
       "795         0  0.387450      189.983761 1970-01-01 00:25:17.836191408   \n",
       "796         0  0.258323      191.169847 1970-01-01 00:25:17.836196158   \n",
       "797         0  0.000000      191.169847 1970-01-01 00:25:17.836202553   \n",
       "798         0  0.000000      191.169847 1970-01-01 00:25:17.836212349   \n",
       "799         0  0.000000      191.169847 1970-01-01 00:25:17.836221173   \n",
       "\n",
       "      notrend      diff      lag1      lag2      lag3      lag4      lag5  \\\n",
       "20  -0.090036       NaN  0.000000  0.000000  0.000000  0.000000  0.000000   \n",
       "21  -0.090946  0.000000       NaN  0.000000  0.000000  0.000000  0.000000   \n",
       "22  -0.091856  0.000000  0.000000       NaN  0.000000  0.000000  0.000000   \n",
       "23  -0.092766  0.000000  0.000000  0.000000       NaN  0.000000  0.000000   \n",
       "24  -0.093676  0.000000  0.000000  0.000000  0.000000       NaN  0.000000   \n",
       "795 -0.407854 -0.630429  0.141238  0.376131 -0.527757  1.028267  0.000000   \n",
       "796 -0.537891 -0.129127 -0.630429  0.141238  0.376131 -0.527757  1.028267   \n",
       "797 -0.797124 -0.258323 -0.129127 -0.630429  0.141238  0.376131 -0.527757   \n",
       "798 -0.798034  0.000000 -0.258323 -0.129127 -0.630429  0.141238  0.376131   \n",
       "799 -0.798944  0.000000  0.000000 -0.258323 -0.129127 -0.630429  0.141238   \n",
       "\n",
       "         lag6      lag7      lag8  \n",
       "20   0.000000  0.000000  0.000000  \n",
       "21   0.000000  0.000000  0.000000  \n",
       "22   0.000000  0.000000  0.000000  \n",
       "23   0.000000  0.000000  0.000000  \n",
       "24   0.000000  0.000000  0.000000  \n",
       "795  0.000000 -0.177481  0.177481  \n",
       "796  0.000000  0.000000 -0.177481  \n",
       "797  1.028267  0.000000  0.000000  \n",
       "798 -0.527757  1.028267  0.000000  \n",
       "799  0.376131 -0.527757  1.028267  "
      ]
     },
     "execution_count": 27,
     "metadata": {},
     "output_type": "execute_result"
    }
   ],
   "source": [
    "from statsmodels.tsa.tsatools import lagmat\n",
    "lag = 8\n",
    "X = lagmat(data[\"diff\"], lag)\n",
    "lagged = data.copy()\n",
    "for c in range(1,lag+1):\n",
    "    lagged[\"lag%d\" % c] = X[:, c-1]\n",
    "pd.concat([lagged.head(), lagged.tail()])"
   ]
  },
  {
   "cell_type": "markdown",
   "metadata": {},
   "source": [
    "### On découpe en train/test de façon non aléatoire car c’est une série temporelle."
   ]
  },
  {
   "cell_type": "code",
   "execution_count": 28,
   "metadata": {},
   "outputs": [],
   "source": [
    "xc = [\"lag%d\" % i for i in range(1,lag+1)]\n",
    "split = 0.66\n",
    "isplit = int(len(lagged) * split)\n",
    "xt = lagged[10:][xc]\n",
    "yt = lagged[10:][\"diff\"]\n",
    "X_train, y_train, X_test, y_test = xt[:isplit], yt[:isplit], xt[isplit:], yt[isplit:]"
   ]
  },
  {
   "cell_type": "markdown",
   "metadata": {},
   "source": [
    "## On peut maintenant faire du machine learning sur la série décalé."
   ]
  },
  {
   "cell_type": "code",
   "execution_count": 29,
   "metadata": {},
   "outputs": [
    {
     "data": {
      "text/plain": [
       "LinearRegression(copy_X=True, fit_intercept=True, n_jobs=None,\n",
       "         normalize=False)"
      ]
     },
     "execution_count": 29,
     "metadata": {},
     "output_type": "execute_result"
    }
   ],
   "source": [
    "from sklearn.linear_model import LinearRegression\n",
    "clr = LinearRegression()\n",
    "clr.fit(X_train, y_train)"
   ]
  },
  {
   "cell_type": "code",
   "execution_count": 30,
   "metadata": {},
   "outputs": [],
   "source": [
    "import warnings "
   ]
  },
  {
   "cell_type": "code",
   "execution_count": 31,
   "metadata": {},
   "outputs": [
    {
     "data": {
      "text/plain": [
       "0.4990713031916534"
      ]
     },
     "execution_count": 31,
     "metadata": {},
     "output_type": "execute_result"
    }
   ],
   "source": [
    "warnings.simplefilter(\"ignore\")\n",
    "from sklearn.metrics import r2_score\n",
    "r2 = r2_score(y_test.as_matrix(), clr.predict(X_test))\n",
    "r2"
   ]
  },
  {
   "cell_type": "code",
   "execution_count": 32,
   "metadata": {},
   "outputs": [
    {
     "data": {
      "text/plain": [
       "<matplotlib.collections.PathCollection at 0x2bee2bec668>"
      ]
     },
     "execution_count": 32,
     "metadata": {},
     "output_type": "execute_result"
    },
    {
     "data": {
      "image/png": "[encoded data removed]",
      "text/plain": [
       "<Figure size 432x288 with 1 Axes>"
      ]
     },
     "metadata": {
      "needs_background": "light"
     },
     "output_type": "display_data"
    }
   ],
   "source": [
    "plt.scatter(y_test.as_matrix(), clr.predict(X_test))"
   ]
  },
  {
   "cell_type": "markdown",
   "metadata": {},
   "source": [
    "\n",
    "## Non linéaire"
   ]
  },
  {
   "cell_type": "code",
   "execution_count": 33,
   "metadata": {},
   "outputs": [
    {
     "data": {
      "text/plain": [
       "RandomForestRegressor(bootstrap=True, criterion='mse', max_depth=None,\n",
       "           max_features='auto', max_leaf_nodes=None,\n",
       "           min_impurity_decrease=0.0, min_impurity_split=None,\n",
       "           min_samples_leaf=1, min_samples_split=2,\n",
       "           min_weight_fraction_leaf=0.0, n_estimators=10, n_jobs=None,\n",
       "           oob_score=False, random_state=None, verbose=0, warm_start=False)"
      ]
     },
     "execution_count": 33,
     "metadata": {},
     "output_type": "execute_result"
    }
   ],
   "source": [
    "from sklearn.ensemble import RandomForestRegressor\n",
    "clrf = RandomForestRegressor()\n",
    "clrf.fit(X_train, y_train)"
   ]
  },
  {
   "cell_type": "code",
   "execution_count": 34,
   "metadata": {},
   "outputs": [
    {
     "data": {
      "text/plain": [
       "0.21668189995058573"
      ]
     },
     "execution_count": 34,
     "metadata": {},
     "output_type": "execute_result"
    }
   ],
   "source": [
    "from sklearn.metrics import r2_score\n",
    "r2 = r2_score(y_test.as_matrix(), clrf.predict(X_test))\n",
    "r2"
   ]
  },
  {
   "cell_type": "markdown",
   "metadata": {},
   "source": [
    "### C'est pas mieux ."
   ]
  },
  {
   "cell_type": "code",
   "execution_count": 35,
   "metadata": {},
   "outputs": [
    {
     "data": {
      "text/plain": [
       "<matplotlib.collections.PathCollection at 0x2bee3cfb208>"
      ]
     },
     "execution_count": 35,
     "metadata": {},
     "output_type": "execute_result"
    },
    {
     "data": {
      "image/png": "[encoded data removed]",
      "text/plain": [
       "<Figure size 432x288 with 1 Axes>"
      ]
     },
     "metadata": {
      "needs_background": "light"
     },
     "output_type": "display_data"
    }
   ],
   "source": [
    "plt.scatter(y_test.as_matrix(), clrf.predict(X_test))"
   ]
  },
  {
   "cell_type": "code",
   "execution_count": 53,
   "metadata": {},
   "outputs": [],
   "source": [
    "def multilevel_df_to_ndarray(df):\n",
    "    shape = [-1] + [len(level) for level in df]\n",
    "    return df.values.reshape(shape)\n"
   ]
  },
  {
   "cell_type": "code",
   "execution_count": 54,
   "metadata": {},
   "outputs": [
    {
     "ename": "ValueError",
     "evalue": "cannot reshape array of size 4112 into shape (4,4,4,4,4,4,4,4)",
     "output_type": "error",
     "traceback": [
      "\u001b[1;31m---------------------------------------------------------------------------\u001b[0m",
      "\u001b[1;31mValueError\u001b[0m                                Traceback (most recent call last)",
      "\u001b[1;32m<ipython-input-54-4396055460e3>\u001b[0m in \u001b[0;36m<module>\u001b[1;34m()\u001b[0m\n\u001b[1;32m----> 1\u001b[1;33m \u001b[0mX_train_3D\u001b[0m \u001b[1;33m=\u001b[0m \u001b[0mmultilevel_df_to_ndarray\u001b[0m\u001b[1;33m(\u001b[0m\u001b[0mX_train\u001b[0m\u001b[1;33m)\u001b[0m\u001b[1;33m\u001b[0m\u001b[0m\n\u001b[0m\u001b[0;32m      2\u001b[0m \u001b[1;33m\u001b[0m\u001b[0m\n\u001b[0;32m      3\u001b[0m \u001b[0mX_test_3D\u001b[0m \u001b[1;33m=\u001b[0m \u001b[0mmultilevel_df_to_ndarray\u001b[0m\u001b[1;33m(\u001b[0m\u001b[0mX_test\u001b[0m\u001b[1;33m)\u001b[0m\u001b[1;33m\u001b[0m\u001b[0m\n",
      "\u001b[1;32m<ipython-input-53-41a54fcb6e21>\u001b[0m in \u001b[0;36mmultilevel_df_to_ndarray\u001b[1;34m(df)\u001b[0m\n\u001b[0;32m      1\u001b[0m \u001b[1;32mdef\u001b[0m \u001b[0mmultilevel_df_to_ndarray\u001b[0m\u001b[1;33m(\u001b[0m\u001b[0mdf\u001b[0m\u001b[1;33m)\u001b[0m\u001b[1;33m:\u001b[0m\u001b[1;33m\u001b[0m\u001b[0m\n\u001b[0;32m      2\u001b[0m     \u001b[0mshape\u001b[0m \u001b[1;33m=\u001b[0m \u001b[1;33m[\u001b[0m\u001b[1;33m-\u001b[0m\u001b[1;36m1\u001b[0m\u001b[1;33m]\u001b[0m \u001b[1;33m+\u001b[0m \u001b[1;33m[\u001b[0m\u001b[0mlen\u001b[0m\u001b[1;33m(\u001b[0m\u001b[0mlevel\u001b[0m\u001b[1;33m)\u001b[0m \u001b[1;32mfor\u001b[0m \u001b[0mlevel\u001b[0m \u001b[1;32min\u001b[0m \u001b[0mdf\u001b[0m\u001b[1;33m]\u001b[0m\u001b[1;33m\u001b[0m\u001b[0m\n\u001b[1;32m----> 3\u001b[1;33m     \u001b[1;32mreturn\u001b[0m \u001b[0mdf\u001b[0m\u001b[1;33m.\u001b[0m\u001b[0mvalues\u001b[0m\u001b[1;33m.\u001b[0m\u001b[0mreshape\u001b[0m\u001b[1;33m(\u001b[0m\u001b[0mshape\u001b[0m\u001b[1;33m)\u001b[0m\u001b[1;33m\u001b[0m\u001b[0m\n\u001b[0m",
      "\u001b[1;31mValueError\u001b[0m: cannot reshape array of size 4112 into shape (4,4,4,4,4,4,4,4)"
     ]
    }
   ],
   "source": [
    "X_train_3D = multilevel_df_to_ndarray(X_train)\n",
    "\n",
    "X_test_3D = multilevel_df_to_ndarray(X_test)"
   ]
  },
  {
   "cell_type": "code",
   "execution_count": 73,
   "metadata": {},
   "outputs": [
    {
     "data": {
      "text/html": [
       "<div>\n",
       "<style scoped>\n",
       "    .dataframe tbody tr th:only-of-type {\n",
       "        vertical-align: middle;\n",
       "    }\n",
       "\n",
       "    .dataframe tbody tr th {\n",
       "        vertical-align: top;\n",
       "    }\n",
       "\n",
       "    .dataframe thead th {\n",
       "        text-align: right;\n",
       "    }\n",
       "</style>\n",
       "<table border=\"1\" class=\"dataframe\">\n",
       "  <thead>\n",
       "    <tr style=\"text-align: right;\">\n",
       "      <th></th>\n",
       "      <th>Timestamp</th>\n",
       "      <th>deviceid</th>\n",
       "      <th>latitude</th>\n",
       "      <th>longitude</th>\n",
       "      <th>longitude</th>\n",
       "      <th>altitude</th>\n",
       "      <th>bearing</th>\n",
       "      <th>speed</th>\n",
       "      <th>accuracy</th>\n",
       "    </tr>\n",
       "  </thead>\n",
       "  <tbody>\n",
       "    <tr>\n",
       "      <th>0</th>\n",
       "      <td>1543669130000</td>\n",
       "      <td>254a0530f70d7ece</td>\n",
       "      <td>48.843647</td>\n",
       "      <td>2.132580</td>\n",
       "      <td>176.159866</td>\n",
       "      <td>211.0</td>\n",
       "      <td>0.000000</td>\n",
       "      <td>0.000000</td>\n",
       "      <td>3.9</td>\n",
       "    </tr>\n",
       "    <tr>\n",
       "      <th>1</th>\n",
       "      <td>1543669131000</td>\n",
       "      <td>254a0530f70d7ece</td>\n",
       "      <td>48.843540</td>\n",
       "      <td>2.132480</td>\n",
       "      <td>176.929413</td>\n",
       "      <td>211.0</td>\n",
       "      <td>0.000000</td>\n",
       "      <td>0.000000</td>\n",
       "      <td>3.9</td>\n",
       "    </tr>\n",
       "    <tr>\n",
       "      <th>2</th>\n",
       "      <td>1543669132000</td>\n",
       "      <td>254a0530f70d7ece</td>\n",
       "      <td>48.843430</td>\n",
       "      <td>2.132379</td>\n",
       "      <td>177.684326</td>\n",
       "      <td>211.0</td>\n",
       "      <td>0.000000</td>\n",
       "      <td>0.000000</td>\n",
       "      <td>4.0</td>\n",
       "    </tr>\n",
       "    <tr>\n",
       "      <th>3</th>\n",
       "      <td>1543669133000</td>\n",
       "      <td>254a0530f70d7ece</td>\n",
       "      <td>48.843327</td>\n",
       "      <td>2.132282</td>\n",
       "      <td>178.471000</td>\n",
       "      <td>211.0</td>\n",
       "      <td>13.835481</td>\n",
       "      <td>0.000000</td>\n",
       "      <td>4.0</td>\n",
       "    </tr>\n",
       "    <tr>\n",
       "      <th>4</th>\n",
       "      <td>1543669134000</td>\n",
       "      <td>254a0530f70d7ece</td>\n",
       "      <td>48.843224</td>\n",
       "      <td>2.132182</td>\n",
       "      <td>179.314087</td>\n",
       "      <td>211.0</td>\n",
       "      <td>13.804829</td>\n",
       "      <td>16.158888</td>\n",
       "      <td>4.0</td>\n",
       "    </tr>\n",
       "  </tbody>\n",
       "</table>\n",
       "</div>"
      ],
      "text/plain": [
       "       Timestamp          deviceid   latitude  longitude   longitude  \\\n",
       "0  1543669130000  254a0530f70d7ece  48.843647   2.132580  176.159866   \n",
       "1  1543669131000  254a0530f70d7ece  48.843540   2.132480  176.929413   \n",
       "2  1543669132000  254a0530f70d7ece  48.843430   2.132379  177.684326   \n",
       "3  1543669133000  254a0530f70d7ece  48.843327   2.132282  178.471000   \n",
       "4  1543669134000  254a0530f70d7ece  48.843224   2.132182  179.314087   \n",
       "\n",
       "   altitude    bearing      speed  accuracy  \n",
       "0     211.0   0.000000   0.000000       3.9  \n",
       "1     211.0   0.000000   0.000000       3.9  \n",
       "2     211.0   0.000000   0.000000       4.0  \n",
       "3     211.0  13.835481   0.000000       4.0  \n",
       "4     211.0  13.804829  16.158888       4.0  "
      ]
     },
     "execution_count": 73,
     "metadata": {},
     "output_type": "execute_result"
    }
   ],
   "source": [
    "train_data = trajet.iloc[0:100:,0:9]\n",
    "test_data = trajet.iloc[110:180:,0:9]\n",
    "\n",
    "data.columns =  ['Timestamp' , 'deviceid' , 'latitude' , 'longitude' , 'longitude' , 'altitude' , 'bearing' , 'speed' , 'accuracy']\n",
    "data.head()"
   ]
  },
  {
   "cell_type": "code",
   "execution_count": 75,
   "metadata": {},
   "outputs": [
    {
     "data": {
      "text/plain": [
       "(70, 9)"
      ]
     },
     "execution_count": 75,
     "metadata": {},
     "output_type": "execute_result"
    }
   ],
   "source": [
    "train_data.shape\n",
    "test_data.shape"
   ]
  },
  {
   "cell_type": "code",
   "execution_count": 80,
   "metadata": {},
   "outputs": [
    {
     "data": {
      "text/plain": [
       "Index(['Colonne 2', 'Colonne 3', 'Colonne 4', 'Colonne 5', 'Colonne 6',\n",
       "       'Colonne 7', 'Colonne 8', 'Colonne 9', 'Colonne 10'],\n",
       "      dtype='object')"
      ]
     },
     "execution_count": 80,
     "metadata": {},
     "output_type": "execute_result"
    }
   ],
   "source": [
    "sample = train_data.sample(n=100, random_state=412)\n",
    "sample.columns"
   ]
  },
  {
   "cell_type": "code",
   "execution_count": 96,
   "metadata": {},
   "outputs": [
    {
     "data": {
      "text/html": [
       "<div>\n",
       "<style scoped>\n",
       "    .dataframe tbody tr th:only-of-type {\n",
       "        vertical-align: middle;\n",
       "    }\n",
       "\n",
       "    .dataframe tbody tr th {\n",
       "        vertical-align: top;\n",
       "    }\n",
       "\n",
       "    .dataframe thead th {\n",
       "        text-align: right;\n",
       "    }\n",
       "</style>\n",
       "<table border=\"1\" class=\"dataframe\">\n",
       "  <thead>\n",
       "    <tr style=\"text-align: right;\">\n",
       "      <th></th>\n",
       "      <th>Colonne 2</th>\n",
       "      <th>Colonne 3</th>\n",
       "      <th>Colonne 4</th>\n",
       "      <th>Colonne 5</th>\n",
       "      <th>Colonne 6</th>\n",
       "      <th>Colonne 7</th>\n",
       "      <th>Colonne 8</th>\n",
       "      <th>Colonne 9</th>\n",
       "      <th>Colonne 10</th>\n",
       "    </tr>\n",
       "  </thead>\n",
       "  <tbody>\n",
       "    <tr>\n",
       "      <th>30</th>\n",
       "      <td>1543669160000</td>\n",
       "      <td>254a0530f70d7ece</td>\n",
       "      <td>48.841328</td>\n",
       "      <td>2.130600</td>\n",
       "      <td>197.615433</td>\n",
       "      <td>219.0</td>\n",
       "      <td>6.514991</td>\n",
       "      <td>-0.636957</td>\n",
       "      <td>4.000</td>\n",
       "    </tr>\n",
       "    <tr>\n",
       "      <th>91</th>\n",
       "      <td>1543669221000</td>\n",
       "      <td>254a0530f70d7ece</td>\n",
       "      <td>48.839966</td>\n",
       "      <td>2.126136</td>\n",
       "      <td>216.568069</td>\n",
       "      <td>287.0</td>\n",
       "      <td>0.486845</td>\n",
       "      <td>-2.564650</td>\n",
       "      <td>3.752</td>\n",
       "    </tr>\n",
       "    <tr>\n",
       "      <th>50</th>\n",
       "      <td>1543669180000</td>\n",
       "      <td>254a0530f70d7ece</td>\n",
       "      <td>48.839910</td>\n",
       "      <td>2.129534</td>\n",
       "      <td>210.526184</td>\n",
       "      <td>202.0</td>\n",
       "      <td>4.988322</td>\n",
       "      <td>-1.724225</td>\n",
       "      <td>5.680</td>\n",
       "    </tr>\n",
       "    <tr>\n",
       "      <th>13</th>\n",
       "      <td>1543669143000</td>\n",
       "      <td>254a0530f70d7ece</td>\n",
       "      <td>48.842224</td>\n",
       "      <td>2.131582</td>\n",
       "      <td>187.959930</td>\n",
       "      <td>197.0</td>\n",
       "      <td>12.371981</td>\n",
       "      <td>-0.522580</td>\n",
       "      <td>4.000</td>\n",
       "    </tr>\n",
       "    <tr>\n",
       "      <th>20</th>\n",
       "      <td>1543669150000</td>\n",
       "      <td>254a0530f70d7ece</td>\n",
       "      <td>48.841824</td>\n",
       "      <td>2.131239</td>\n",
       "      <td>191.857513</td>\n",
       "      <td>225.0</td>\n",
       "      <td>5.743599</td>\n",
       "      <td>-0.499329</td>\n",
       "      <td>3.900</td>\n",
       "    </tr>\n",
       "  </tbody>\n",
       "</table>\n",
       "</div>"
      ],
      "text/plain": [
       "        Colonne 2         Colonne 3  Colonne 4  Colonne 5   Colonne 6  \\\n",
       "30  1543669160000  254a0530f70d7ece  48.841328   2.130600  197.615433   \n",
       "91  1543669221000  254a0530f70d7ece  48.839966   2.126136  216.568069   \n",
       "50  1543669180000  254a0530f70d7ece  48.839910   2.129534  210.526184   \n",
       "13  1543669143000  254a0530f70d7ece  48.842224   2.131582  187.959930   \n",
       "20  1543669150000  254a0530f70d7ece  48.841824   2.131239  191.857513   \n",
       "\n",
       "    Colonne 7  Colonne 8  Colonne 9  Colonne 10  \n",
       "30      219.0   6.514991  -0.636957       4.000  \n",
       "91      287.0   0.486845  -2.564650       3.752  \n",
       "50      202.0   4.988322  -1.724225       5.680  \n",
       "13      197.0  12.371981  -0.522580       4.000  \n",
       "20      225.0   5.743599  -0.499329       3.900  "
      ]
     },
     "execution_count": 96,
     "metadata": {},
     "output_type": "execute_result"
    }
   ],
   "source": [
    "sample.head()"
   ]
  },
  {
   "cell_type": "code",
   "execution_count": 106,
   "metadata": {},
   "outputs": [
    {
     "data": {
      "text/plain": [
       "str"
      ]
     },
     "execution_count": 106,
     "metadata": {},
     "output_type": "execute_result"
    }
   ],
   "source": [
    "type(str(sample['Colonne 2'].values))"
   ]
  },
  {
   "cell_type": "code",
   "execution_count": 107,
   "metadata": {},
   "outputs": [
    {
     "ename": "ValueError",
     "evalue": "time data '[' does not match format '%Y-%m-%d %H:%M:%S'",
     "output_type": "error",
     "traceback": [
      "\u001b[1;31m---------------------------------------------------------------------------\u001b[0m",
      "\u001b[1;31mValueError\u001b[0m                                Traceback (most recent call last)",
      "\u001b[1;32m<ipython-input-107-faaea6085479>\u001b[0m in \u001b[0;36m<module>\u001b[1;34m()\u001b[0m\n\u001b[0;32m      1\u001b[0m \u001b[1;33m\u001b[0m\u001b[0m\n\u001b[1;32m----> 2\u001b[1;33m \u001b[1;33m(\u001b[0m\u001b[1;33m[\u001b[0m\u001b[0mdt\u001b[0m\u001b[1;33m.\u001b[0m\u001b[0mstrptime\u001b[0m\u001b[1;33m(\u001b[0m\u001b[0mx\u001b[0m\u001b[1;33m,\u001b[0m\u001b[1;34m'%Y-%m-%d %H:%M:%S'\u001b[0m\u001b[1;33m)\u001b[0m\u001b[1;33m.\u001b[0m\u001b[0mhour\u001b[0m \u001b[1;32mfor\u001b[0m \u001b[0mx\u001b[0m \u001b[1;32min\u001b[0m \u001b[0mstr\u001b[0m\u001b[1;33m(\u001b[0m\u001b[0msample\u001b[0m\u001b[1;33m[\u001b[0m\u001b[1;34m'Colonne 2'\u001b[0m\u001b[1;33m]\u001b[0m\u001b[1;33m.\u001b[0m\u001b[0mvalues\u001b[0m\u001b[1;33m)\u001b[0m\u001b[1;33m]\u001b[0m \u001b[1;33m)\u001b[0m\u001b[1;33m\u001b[0m\u001b[0m\n\u001b[0m",
      "\u001b[1;32m<ipython-input-107-faaea6085479>\u001b[0m in \u001b[0;36m<listcomp>\u001b[1;34m(.0)\u001b[0m\n\u001b[0;32m      1\u001b[0m \u001b[1;33m\u001b[0m\u001b[0m\n\u001b[1;32m----> 2\u001b[1;33m \u001b[1;33m(\u001b[0m\u001b[1;33m[\u001b[0m\u001b[0mdt\u001b[0m\u001b[1;33m.\u001b[0m\u001b[0mstrptime\u001b[0m\u001b[1;33m(\u001b[0m\u001b[0mx\u001b[0m\u001b[1;33m,\u001b[0m\u001b[1;34m'%Y-%m-%d %H:%M:%S'\u001b[0m\u001b[1;33m)\u001b[0m\u001b[1;33m.\u001b[0m\u001b[0mhour\u001b[0m \u001b[1;32mfor\u001b[0m \u001b[0mx\u001b[0m \u001b[1;32min\u001b[0m \u001b[0mstr\u001b[0m\u001b[1;33m(\u001b[0m\u001b[0msample\u001b[0m\u001b[1;33m[\u001b[0m\u001b[1;34m'Colonne 2'\u001b[0m\u001b[1;33m]\u001b[0m\u001b[1;33m.\u001b[0m\u001b[0mvalues\u001b[0m\u001b[1;33m)\u001b[0m\u001b[1;33m]\u001b[0m \u001b[1;33m)\u001b[0m\u001b[1;33m\u001b[0m\u001b[0m\n\u001b[0m",
      "\u001b[1;32m~\\Anaconda3\\lib\\_strptime.py\u001b[0m in \u001b[0;36m_strptime_datetime\u001b[1;34m(cls, data_string, format)\u001b[0m\n\u001b[0;32m    575\u001b[0m     \"\"\"Return a class cls instance based on the input string and the\n\u001b[0;32m    576\u001b[0m     format string.\"\"\"\n\u001b[1;32m--> 577\u001b[1;33m     \u001b[0mtt\u001b[0m\u001b[1;33m,\u001b[0m \u001b[0mfraction\u001b[0m\u001b[1;33m,\u001b[0m \u001b[0mgmtoff_fraction\u001b[0m \u001b[1;33m=\u001b[0m \u001b[0m_strptime\u001b[0m\u001b[1;33m(\u001b[0m\u001b[0mdata_string\u001b[0m\u001b[1;33m,\u001b[0m \u001b[0mformat\u001b[0m\u001b[1;33m)\u001b[0m\u001b[1;33m\u001b[0m\u001b[0m\n\u001b[0m\u001b[0;32m    578\u001b[0m     \u001b[0mtzname\u001b[0m\u001b[1;33m,\u001b[0m \u001b[0mgmtoff\u001b[0m \u001b[1;33m=\u001b[0m \u001b[0mtt\u001b[0m\u001b[1;33m[\u001b[0m\u001b[1;33m-\u001b[0m\u001b[1;36m2\u001b[0m\u001b[1;33m:\u001b[0m\u001b[1;33m]\u001b[0m\u001b[1;33m\u001b[0m\u001b[0m\n\u001b[0;32m    579\u001b[0m     \u001b[0margs\u001b[0m \u001b[1;33m=\u001b[0m \u001b[0mtt\u001b[0m\u001b[1;33m[\u001b[0m\u001b[1;33m:\u001b[0m\u001b[1;36m6\u001b[0m\u001b[1;33m]\u001b[0m \u001b[1;33m+\u001b[0m \u001b[1;33m(\u001b[0m\u001b[0mfraction\u001b[0m\u001b[1;33m,\u001b[0m\u001b[1;33m)\u001b[0m\u001b[1;33m\u001b[0m\u001b[0m\n",
      "\u001b[1;32m~\\Anaconda3\\lib\\_strptime.py\u001b[0m in \u001b[0;36m_strptime\u001b[1;34m(data_string, format)\u001b[0m\n\u001b[0;32m    357\u001b[0m     \u001b[1;32mif\u001b[0m \u001b[1;32mnot\u001b[0m \u001b[0mfound\u001b[0m\u001b[1;33m:\u001b[0m\u001b[1;33m\u001b[0m\u001b[0m\n\u001b[0;32m    358\u001b[0m         raise ValueError(\"time data %r does not match format %r\" %\n\u001b[1;32m--> 359\u001b[1;33m                          (data_string, format))\n\u001b[0m\u001b[0;32m    360\u001b[0m     \u001b[1;32mif\u001b[0m \u001b[0mlen\u001b[0m\u001b[1;33m(\u001b[0m\u001b[0mdata_string\u001b[0m\u001b[1;33m)\u001b[0m \u001b[1;33m!=\u001b[0m \u001b[0mfound\u001b[0m\u001b[1;33m.\u001b[0m\u001b[0mend\u001b[0m\u001b[1;33m(\u001b[0m\u001b[1;33m)\u001b[0m\u001b[1;33m:\u001b[0m\u001b[1;33m\u001b[0m\u001b[0m\n\u001b[0;32m    361\u001b[0m         raise ValueError(\"unconverted data remains: %s\" %\n",
      "\u001b[1;31mValueError\u001b[0m: time data '[' does not match format '%Y-%m-%d %H:%M:%S'"
     ]
    }
   ],
   "source": [
    "\n",
    "([dt.strptime(x,'%Y-%m-%d %H:%M:%S').hour for x in str(sample['Colonne 2'].values)] )"
   ]
  },
  {
   "cell_type": "code",
   "execution_count": null,
   "metadata": {},
   "outputs": [],
   "source": []
  },
  {
   "cell_type": "code",
   "execution_count": 94,
   "metadata": {},
   "outputs": [
    {
     "ename": "TypeError",
     "evalue": "sequence item 0: expected str instance, int found",
     "output_type": "error",
     "traceback": [
      "\u001b[1;31m---------------------------------------------------------------------------\u001b[0m",
      "\u001b[1;31mTypeError\u001b[0m                                 Traceback (most recent call last)",
      "\u001b[1;32m<ipython-input-94-bf7c576b312d>\u001b[0m in \u001b[0;36m<module>\u001b[1;34m()\u001b[0m\n\u001b[1;32m----> 1\u001b[1;33m \u001b[0msample\u001b[0m\u001b[1;33m[\u001b[0m\u001b[1;34m'Colonne 2'\u001b[0m\u001b[1;33m]\u001b[0m \u001b[1;33m=\u001b[0m \u001b[1;34m\"-\"\u001b[0m\u001b[1;33m.\u001b[0m\u001b[0mjoin\u001b[0m\u001b[1;33m(\u001b[0m\u001b[0msample\u001b[0m\u001b[1;33m[\u001b[0m\u001b[1;34m'Colonne 2'\u001b[0m\u001b[1;33m]\u001b[0m\u001b[1;33m)\u001b[0m\u001b[1;33m\u001b[0m\u001b[0m\n\u001b[0m",
      "\u001b[1;31mTypeError\u001b[0m: sequence item 0: expected str instance, int found"
     ]
    }
   ],
   "source": [
    "sample['Colonne 2'] = \"-\".join(sample['Colonne 2'])"
   ]
  },
  {
   "cell_type": "code",
   "execution_count": 90,
   "metadata": {},
   "outputs": [
    {
     "ename": "TypeError",
     "evalue": "strptime() argument 1 must be str, not numpy.int64",
     "output_type": "error",
     "traceback": [
      "\u001b[1;31m---------------------------------------------------------------------------\u001b[0m",
      "\u001b[1;31mTypeError\u001b[0m                                 Traceback (most recent call last)",
      "\u001b[1;32m<ipython-input-90-44abf959250f>\u001b[0m in \u001b[0;36m<module>\u001b[1;34m()\u001b[0m\n\u001b[1;32m----> 1\u001b[1;33m \u001b[1;33m(\u001b[0m\u001b[1;33m[\u001b[0m\u001b[0mdt\u001b[0m\u001b[1;33m.\u001b[0m\u001b[0mstrptime\u001b[0m\u001b[1;33m(\u001b[0m\u001b[0mx\u001b[0m\u001b[1;33m,\u001b[0m\u001b[1;34m'%Y-%m-%d %H:%M:%S'\u001b[0m\u001b[1;33m)\u001b[0m\u001b[1;33m.\u001b[0m\u001b[0mhour\u001b[0m \u001b[1;32mfor\u001b[0m \u001b[0mx\u001b[0m \u001b[1;32min\u001b[0m \u001b[0msample\u001b[0m\u001b[1;33m[\u001b[0m\u001b[1;34m'Colonne 2'\u001b[0m\u001b[1;33m]\u001b[0m\u001b[1;33m.\u001b[0m\u001b[0mvalues\u001b[0m\u001b[1;33m]\u001b[0m \u001b[1;33m)\u001b[0m\u001b[1;33m\u001b[0m\u001b[0m\n\u001b[0m",
      "\u001b[1;32m<ipython-input-90-44abf959250f>\u001b[0m in \u001b[0;36m<listcomp>\u001b[1;34m(.0)\u001b[0m\n\u001b[1;32m----> 1\u001b[1;33m \u001b[1;33m(\u001b[0m\u001b[1;33m[\u001b[0m\u001b[0mdt\u001b[0m\u001b[1;33m.\u001b[0m\u001b[0mstrptime\u001b[0m\u001b[1;33m(\u001b[0m\u001b[0mx\u001b[0m\u001b[1;33m,\u001b[0m\u001b[1;34m'%Y-%m-%d %H:%M:%S'\u001b[0m\u001b[1;33m)\u001b[0m\u001b[1;33m.\u001b[0m\u001b[0mhour\u001b[0m \u001b[1;32mfor\u001b[0m \u001b[0mx\u001b[0m \u001b[1;32min\u001b[0m \u001b[0msample\u001b[0m\u001b[1;33m[\u001b[0m\u001b[1;34m'Colonne 2'\u001b[0m\u001b[1;33m]\u001b[0m\u001b[1;33m.\u001b[0m\u001b[0mvalues\u001b[0m\u001b[1;33m]\u001b[0m \u001b[1;33m)\u001b[0m\u001b[1;33m\u001b[0m\u001b[0m\n\u001b[0m",
      "\u001b[1;31mTypeError\u001b[0m: strptime() argument 1 must be str, not numpy.int64"
     ]
    }
   ],
   "source": [
    "([dt.strptime(x,'%Y-%m-%d %H:%M:%S').hour for x in sample['Colonne 2'].values] )"
   ]
  },
  {
   "cell_type": "code",
   "execution_count": 84,
   "metadata": {},
   "outputs": [],
   "source": [
    "from datetime import datetime as dt"
   ]
  },
  {
   "cell_type": "code",
   "execution_count": 87,
   "metadata": {},
   "outputs": [
    {
     "ename": "TypeError",
     "evalue": "strptime() argument 1 must be str, not numpy.int64",
     "output_type": "error",
     "traceback": [
      "\u001b[1;31m---------------------------------------------------------------------------\u001b[0m",
      "\u001b[1;31mTypeError\u001b[0m                                 Traceback (most recent call last)",
      "\u001b[1;32m<ipython-input-87-64a5b3bad36c>\u001b[0m in \u001b[0;36m<module>\u001b[1;34m()\u001b[0m\n\u001b[0;32m      1\u001b[0m \u001b[0msample\u001b[0m \u001b[1;33m=\u001b[0m \u001b[0mtrain_data\u001b[0m\u001b[1;33m.\u001b[0m\u001b[0msample\u001b[0m\u001b[1;33m(\u001b[0m\u001b[0mn\u001b[0m\u001b[1;33m=\u001b[0m\u001b[1;36m100\u001b[0m\u001b[1;33m,\u001b[0m \u001b[0mrandom_state\u001b[0m\u001b[1;33m=\u001b[0m\u001b[1;36m412\u001b[0m\u001b[1;33m)\u001b[0m\u001b[1;33m\u001b[0m\u001b[0m\n\u001b[0;32m      2\u001b[0m \u001b[1;33m\u001b[0m\u001b[0m\n\u001b[1;32m----> 3\u001b[1;33m \u001b[0mpickup_hour\u001b[0m \u001b[1;33m=\u001b[0m \u001b[0mnp\u001b[0m\u001b[1;33m.\u001b[0m\u001b[0marray\u001b[0m\u001b[1;33m(\u001b[0m\u001b[1;33m[\u001b[0m\u001b[0mdt\u001b[0m\u001b[1;33m.\u001b[0m\u001b[0mstrptime\u001b[0m\u001b[1;33m(\u001b[0m\u001b[0mx\u001b[0m\u001b[1;33m,\u001b[0m \u001b[1;34m'%Y-%m-%d %H:%M:%S'\u001b[0m\u001b[1;33m)\u001b[0m\u001b[1;33m.\u001b[0m\u001b[0mhour\u001b[0m \u001b[1;32mfor\u001b[0m \u001b[0mx\u001b[0m \u001b[1;32min\u001b[0m \u001b[0msample\u001b[0m\u001b[1;33m[\u001b[0m\u001b[1;34m'Colonne 2'\u001b[0m\u001b[1;33m]\u001b[0m\u001b[1;33m.\u001b[0m\u001b[0mvalues\u001b[0m\u001b[1;33m]\u001b[0m\u001b[1;33m)\u001b[0m\u001b[1;33m\u001b[0m\u001b[0m\n\u001b[0m\u001b[0;32m      4\u001b[0m \u001b[1;33m\u001b[0m\u001b[0m\n\u001b[0;32m      5\u001b[0m \u001b[1;31m#There is no native \"jitter\" option in matplotlib, so we make our own\u001b[0m\u001b[1;33m\u001b[0m\u001b[1;33m\u001b[0m\u001b[0m\n",
      "\u001b[1;32m<ipython-input-87-64a5b3bad36c>\u001b[0m in \u001b[0;36m<listcomp>\u001b[1;34m(.0)\u001b[0m\n\u001b[0;32m      1\u001b[0m \u001b[0msample\u001b[0m \u001b[1;33m=\u001b[0m \u001b[0mtrain_data\u001b[0m\u001b[1;33m.\u001b[0m\u001b[0msample\u001b[0m\u001b[1;33m(\u001b[0m\u001b[0mn\u001b[0m\u001b[1;33m=\u001b[0m\u001b[1;36m100\u001b[0m\u001b[1;33m,\u001b[0m \u001b[0mrandom_state\u001b[0m\u001b[1;33m=\u001b[0m\u001b[1;36m412\u001b[0m\u001b[1;33m)\u001b[0m\u001b[1;33m\u001b[0m\u001b[0m\n\u001b[0;32m      2\u001b[0m \u001b[1;33m\u001b[0m\u001b[0m\n\u001b[1;32m----> 3\u001b[1;33m \u001b[0mpickup_hour\u001b[0m \u001b[1;33m=\u001b[0m \u001b[0mnp\u001b[0m\u001b[1;33m.\u001b[0m\u001b[0marray\u001b[0m\u001b[1;33m(\u001b[0m\u001b[1;33m[\u001b[0m\u001b[0mdt\u001b[0m\u001b[1;33m.\u001b[0m\u001b[0mstrptime\u001b[0m\u001b[1;33m(\u001b[0m\u001b[0mx\u001b[0m\u001b[1;33m,\u001b[0m \u001b[1;34m'%Y-%m-%d %H:%M:%S'\u001b[0m\u001b[1;33m)\u001b[0m\u001b[1;33m.\u001b[0m\u001b[0mhour\u001b[0m \u001b[1;32mfor\u001b[0m \u001b[0mx\u001b[0m \u001b[1;32min\u001b[0m \u001b[0msample\u001b[0m\u001b[1;33m[\u001b[0m\u001b[1;34m'Colonne 2'\u001b[0m\u001b[1;33m]\u001b[0m\u001b[1;33m.\u001b[0m\u001b[0mvalues\u001b[0m\u001b[1;33m]\u001b[0m\u001b[1;33m)\u001b[0m\u001b[1;33m\u001b[0m\u001b[0m\n\u001b[0m\u001b[0;32m      4\u001b[0m \u001b[1;33m\u001b[0m\u001b[0m\n\u001b[0;32m      5\u001b[0m \u001b[1;31m#There is no native \"jitter\" option in matplotlib, so we make our own\u001b[0m\u001b[1;33m\u001b[0m\u001b[1;33m\u001b[0m\u001b[0m\n",
      "\u001b[1;31mTypeError\u001b[0m: strptime() argument 1 must be str, not numpy.int64"
     ]
    }
   ],
   "source": [
    "sample = train_data.sample(n=100, random_state=412)\n",
    "\n",
    "pickup_hour = np.array([dt.strptime(x, '%Y-%m-%d %H:%M:%S').hour for x in sample['Colonne 2'].values])\n",
    "\n",
    "#There is no native \"jitter\" option in matplotlib, so we make our own\n",
    "def add_jitter(arr):\n",
    "    return arr + (np.random.random(len(arr))-0.5)*arr.std()*0.1"
   ]
  },
  {
   "cell_type": "code",
   "execution_count": null,
   "metadata": {},
   "outputs": [],
   "source": []
  }
 ],
 "metadata": {
  "kernelspec": {
   "display_name": "Python 3",
   "language": "python",
   "name": "python3"
  },
  "language_info": {
   "codemirror_mode": {
    "name": "ipython",
    "version": 3
   },
   "file_extension": ".py",
   "mimetype": "text/x-python",
   "name": "python",
   "nbconvert_exporter": "python",
   "pygments_lexer": "ipython3",
   "version": "3.7.0"
  }
 },
 "nbformat": 4,
 "nbformat_minor": 2
}
